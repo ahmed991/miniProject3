{
 "cells": [
  {
   "cell_type": "code",
   "execution_count": null,
   "id": "33f3d1c9-be64-464f-aa8e-c3bd01b766f2",
   "metadata": {},
   "outputs": [],
   "source": [
    "pip uninstall geemap"
   ]
  },
  {
   "cell_type": "code",
   "execution_count": 2,
   "id": "c329ebea-959c-4c7c-96ba-02ab14a0decf",
   "metadata": {},
   "outputs": [],
   "source": [
    "#import GEE libraries\n",
    "import ee\n",
    "import geemap"
   ]
  },
  {
   "cell_type": "code",
   "execution_count": null,
   "id": "ce50c428-d2b9-4fec-a326-d8e06e8959ee",
   "metadata": {},
   "outputs": [],
   "source": [
    "# # If you are running this notebook for the first time, you need to activate the command below for the authentication flow:\n",
    "# ee.Authenticate()"
   ]
  },
  {
   "cell_type": "code",
   "execution_count": 3,
   "id": "5603f4fe-b4dd-4232-a795-304d6fb188cb",
   "metadata": {},
   "outputs": [
    {
     "data": {
      "text/html": [
       "\n",
       "            <style>\n",
       "                .geemap-dark {\n",
       "                    --jp-widgets-color: white;\n",
       "                    --jp-widgets-label-color: white;\n",
       "                    --jp-ui-font-color1: white;\n",
       "                    --jp-layout-color2: #454545;\n",
       "                    background-color: #383838;\n",
       "                }\n",
       "\n",
       "                .geemap-dark .jupyter-button {\n",
       "                    --jp-layout-color3: #383838;\n",
       "                }\n",
       "\n",
       "                .geemap-colab {\n",
       "                    background-color: var(--colab-primary-surface-color, white);\n",
       "                }\n",
       "\n",
       "                .geemap-colab .jupyter-button {\n",
       "                    --jp-layout-color3: var(--colab-primary-surface-color, white);\n",
       "                }\n",
       "            </style>\n",
       "            "
      ],
      "text/plain": [
       "<IPython.core.display.HTML object>"
      ]
     },
     "metadata": {},
     "output_type": "display_data"
    },
    {
     "name": "stdout",
     "output_type": "stream",
     "text": [
      "Google Earth Engine has initialized successfully!\n"
     ]
    }
   ],
   "source": [
    "try:\n",
    "    # Initialize the library.\n",
    "    ee.Initialize()\n",
    "    print('Google Earth Engine has initialized successfully!')\n",
    "except ee.EEException as e:\n",
    "    print('Google Earth Engine has failed to initialize!')\n",
    "except:\n",
    "    print(\"Unexpected error:\", sys.exc_info()[0])\n",
    "    raise"
   ]
  },
  {
   "cell_type": "code",
   "execution_count": 11,
   "id": "75690ae0-a889-408c-8881-5be9f1dc2e74",
   "metadata": {},
   "outputs": [
    {
     "data": {
      "text/html": [
       "\n",
       "            <style>\n",
       "                .geemap-dark {\n",
       "                    --jp-widgets-color: white;\n",
       "                    --jp-widgets-label-color: white;\n",
       "                    --jp-ui-font-color1: white;\n",
       "                    --jp-layout-color2: #454545;\n",
       "                    background-color: #383838;\n",
       "                }\n",
       "\n",
       "                .geemap-dark .jupyter-button {\n",
       "                    --jp-layout-color3: #383838;\n",
       "                }\n",
       "\n",
       "                .geemap-colab {\n",
       "                    background-color: var(--colab-primary-surface-color, white);\n",
       "                }\n",
       "\n",
       "                .geemap-colab .jupyter-button {\n",
       "                    --jp-layout-color3: var(--colab-primary-surface-color, white);\n",
       "                }\n",
       "            </style>\n",
       "            "
      ],
      "text/plain": [
       "<IPython.core.display.HTML object>"
      ]
     },
     "metadata": {},
     "output_type": "display_data"
    },
    {
     "data": {
      "application/vnd.jupyter.widget-view+json": {
       "model_id": "05f2c5dc7f4743beb803a773e85907f1",
       "version_major": 2,
       "version_minor": 0
      },
      "text/plain": [
       "Map(center=[33.6844, 73.0479], controls=(WidgetControl(options=['position', 'transparent_bg'], widget=SearchDa…"
      ]
     },
     "metadata": {},
     "output_type": "display_data"
    }
   ],
   "source": [
    "#Map Initialization\n",
    "# Coordinates for Islamabad\n",
    "latitude = 33.6844\n",
    "longitude = 73.0479\n",
    "Map1 = geemap.Map(center=(latitude, longitude), zoom=10)\n",
    "Map1\n"
   ]
  },
  {
   "cell_type": "code",
   "execution_count": null,
   "id": "96a102b4-da6c-4a58-914e-4d87a55fbf78",
   "metadata": {},
   "outputs": [],
   "source": [
    "# study_area = Map1.user_rois.getInfo()\n",
    "# fc=ee.FeatureCollection(study_area).geometry()\n",
    "# fc.getInfo()"
   ]
  },
  {
   "cell_type": "code",
   "execution_count": null,
   "id": "56146043-386a-40b9-a8f3-63749e87bf87",
   "metadata": {},
   "outputs": [],
   "source": [
    "# coordinates = fc.getInfo()['coordinates']"
   ]
  },
  {
   "cell_type": "markdown",
   "id": "48afc6b2-92c6-40c4-9866-72b97c61cd37",
   "metadata": {},
   "source": [
    "### Define Study Area: select a region of interest (ROI) for your case study. The bounding box of the study area should be substantial"
   ]
  },
  {
   "cell_type": "code",
   "execution_count": 12,
   "id": "3f7aff2f-e326-44fb-857d-95b9fe9e47fe",
   "metadata": {},
   "outputs": [
    {
     "data": {
      "text/html": [
       "\n",
       "            <style>\n",
       "                .geemap-dark {\n",
       "                    --jp-widgets-color: white;\n",
       "                    --jp-widgets-label-color: white;\n",
       "                    --jp-ui-font-color1: white;\n",
       "                    --jp-layout-color2: #454545;\n",
       "                    background-color: #383838;\n",
       "                }\n",
       "\n",
       "                .geemap-dark .jupyter-button {\n",
       "                    --jp-layout-color3: #383838;\n",
       "                }\n",
       "\n",
       "                .geemap-colab {\n",
       "                    background-color: var(--colab-primary-surface-color, white);\n",
       "                }\n",
       "\n",
       "                .geemap-colab .jupyter-button {\n",
       "                    --jp-layout-color3: var(--colab-primary-surface-color, white);\n",
       "                }\n",
       "            </style>\n",
       "            "
      ],
      "text/plain": [
       "<IPython.core.display.HTML object>"
      ]
     },
     "metadata": {},
     "output_type": "display_data"
    }
   ],
   "source": [
    "#Defining ROI , this was generated by GEEMAP UI\n",
    "roi = ee.Geometry.Polygon([[[72.537231, 33.105347],\n",
    "   [72.537231, 33.906896],\n",
    "   [73.641357, 33.906896],\n",
    "   [73.641357, 33.105347],\n",
    "   [72.537231, 33.105347]]])"
   ]
  },
  {
   "cell_type": "markdown",
   "id": "ba249d0a-670a-4acc-a357-63f762117478",
   "metadata": {},
   "source": [
    "### Collect Image Collection: generate an image collection of Sentinel-2 images over your ROI for the summer of 2024"
   ]
  },
  {
   "cell_type": "code",
   "execution_count": 13,
   "id": "9942dc4a-e938-4e91-b2a6-3e93774be426",
   "metadata": {},
   "outputs": [
    {
     "data": {
      "text/html": [
       "\n",
       "            <style>\n",
       "                .geemap-dark {\n",
       "                    --jp-widgets-color: white;\n",
       "                    --jp-widgets-label-color: white;\n",
       "                    --jp-ui-font-color1: white;\n",
       "                    --jp-layout-color2: #454545;\n",
       "                    background-color: #383838;\n",
       "                }\n",
       "\n",
       "                .geemap-dark .jupyter-button {\n",
       "                    --jp-layout-color3: #383838;\n",
       "                }\n",
       "\n",
       "                .geemap-colab {\n",
       "                    background-color: var(--colab-primary-surface-color, white);\n",
       "                }\n",
       "\n",
       "                .geemap-colab .jupyter-button {\n",
       "                    --jp-layout-color3: var(--colab-primary-surface-color, white);\n",
       "                }\n",
       "            </style>\n",
       "            "
      ],
      "text/plain": [
       "<IPython.core.display.HTML object>"
      ]
     },
     "metadata": {},
     "output_type": "display_data"
    }
   ],
   "source": [
    "#Sentinel 2 HArmonized Surface reflectance product for the given summer months of 2024\n",
    "myCollection = ee.ImageCollection('COPERNICUS/S2_SR_HARMONIZED') \\\n",
    "    .filterBounds(roi) \\\n",
    "    .filterDate('2024-06-01', '2024-08-30') \\\n",
    "    .filterMetadata('CLOUDY_PIXEL_PERCENTAGE', 'less_than', 10)"
   ]
  },
  {
   "cell_type": "code",
   "execution_count": 14,
   "id": "dd9952a2-abb4-4219-8ba2-8060a58fa87a",
   "metadata": {},
   "outputs": [
    {
     "data": {
      "text/html": [
       "\n",
       "            <style>\n",
       "                .geemap-dark {\n",
       "                    --jp-widgets-color: white;\n",
       "                    --jp-widgets-label-color: white;\n",
       "                    --jp-ui-font-color1: white;\n",
       "                    --jp-layout-color2: #454545;\n",
       "                    background-color: #383838;\n",
       "                }\n",
       "\n",
       "                .geemap-dark .jupyter-button {\n",
       "                    --jp-layout-color3: #383838;\n",
       "                }\n",
       "\n",
       "                .geemap-colab {\n",
       "                    background-color: var(--colab-primary-surface-color, white);\n",
       "                }\n",
       "\n",
       "                .geemap-colab .jupyter-button {\n",
       "                    --jp-layout-color3: var(--colab-primary-surface-color, white);\n",
       "                }\n",
       "            </style>\n",
       "            "
      ],
      "text/plain": [
       "<IPython.core.display.HTML object>"
      ]
     },
     "metadata": {},
     "output_type": "display_data"
    },
    {
     "name": "stdout",
     "output_type": "stream",
     "text": [
      "Number of images in the collection:  21\n"
     ]
    }
   ],
   "source": [
    "listOfImages = myCollection.aggregate_array('system:index').getInfo()\n",
    "print('Number of images in the collection: ', len(listOfImages))"
   ]
  },
  {
   "cell_type": "markdown",
   "id": "6607967b-56b4-4681-88eb-72e1ea74acf3",
   "metadata": {},
   "source": [
    "### Reduce the image collection by calculating the median of all values within the collection."
   ]
  },
  {
   "cell_type": "code",
   "execution_count": 15,
   "id": "4c3a7d84-5f64-4de1-a51a-e114b640e31b",
   "metadata": {},
   "outputs": [
    {
     "data": {
      "text/html": [
       "\n",
       "            <style>\n",
       "                .geemap-dark {\n",
       "                    --jp-widgets-color: white;\n",
       "                    --jp-widgets-label-color: white;\n",
       "                    --jp-ui-font-color1: white;\n",
       "                    --jp-layout-color2: #454545;\n",
       "                    background-color: #383838;\n",
       "                }\n",
       "\n",
       "                .geemap-dark .jupyter-button {\n",
       "                    --jp-layout-color3: #383838;\n",
       "                }\n",
       "\n",
       "                .geemap-colab {\n",
       "                    background-color: var(--colab-primary-surface-color, white);\n",
       "                }\n",
       "\n",
       "                .geemap-colab .jupyter-button {\n",
       "                    --jp-layout-color3: var(--colab-primary-surface-color, white);\n",
       "                }\n",
       "            </style>\n",
       "            "
      ],
      "text/plain": [
       "<IPython.core.display.HTML object>"
      ]
     },
     "metadata": {},
     "output_type": "display_data"
    },
    {
     "data": {
      "text/plain": [
       "{'type': 'Image',\n",
       " 'bands': [{'id': 'B1_median',\n",
       "   'data_type': {'type': 'PixelType',\n",
       "    'precision': 'double',\n",
       "    'min': 0,\n",
       "    'max': 65535},\n",
       "   'crs': 'EPSG:4326',\n",
       "   'crs_transform': [1, 0, 0, 0, 1, 0]},\n",
       "  {'id': 'B2_median',\n",
       "   'data_type': {'type': 'PixelType',\n",
       "    'precision': 'double',\n",
       "    'min': 0,\n",
       "    'max': 65535},\n",
       "   'crs': 'EPSG:4326',\n",
       "   'crs_transform': [1, 0, 0, 0, 1, 0]},\n",
       "  {'id': 'B3_median',\n",
       "   'data_type': {'type': 'PixelType',\n",
       "    'precision': 'double',\n",
       "    'min': 0,\n",
       "    'max': 65535},\n",
       "   'crs': 'EPSG:4326',\n",
       "   'crs_transform': [1, 0, 0, 0, 1, 0]},\n",
       "  {'id': 'B4_median',\n",
       "   'data_type': {'type': 'PixelType',\n",
       "    'precision': 'double',\n",
       "    'min': 0,\n",
       "    'max': 65535},\n",
       "   'crs': 'EPSG:4326',\n",
       "   'crs_transform': [1, 0, 0, 0, 1, 0]},\n",
       "  {'id': 'B5_median',\n",
       "   'data_type': {'type': 'PixelType',\n",
       "    'precision': 'double',\n",
       "    'min': 0,\n",
       "    'max': 65535},\n",
       "   'crs': 'EPSG:4326',\n",
       "   'crs_transform': [1, 0, 0, 0, 1, 0]},\n",
       "  {'id': 'B6_median',\n",
       "   'data_type': {'type': 'PixelType',\n",
       "    'precision': 'double',\n",
       "    'min': 0,\n",
       "    'max': 65535},\n",
       "   'crs': 'EPSG:4326',\n",
       "   'crs_transform': [1, 0, 0, 0, 1, 0]},\n",
       "  {'id': 'B7_median',\n",
       "   'data_type': {'type': 'PixelType',\n",
       "    'precision': 'double',\n",
       "    'min': 0,\n",
       "    'max': 65535},\n",
       "   'crs': 'EPSG:4326',\n",
       "   'crs_transform': [1, 0, 0, 0, 1, 0]},\n",
       "  {'id': 'B8_median',\n",
       "   'data_type': {'type': 'PixelType',\n",
       "    'precision': 'double',\n",
       "    'min': 0,\n",
       "    'max': 65535},\n",
       "   'crs': 'EPSG:4326',\n",
       "   'crs_transform': [1, 0, 0, 0, 1, 0]},\n",
       "  {'id': 'B8A_median',\n",
       "   'data_type': {'type': 'PixelType',\n",
       "    'precision': 'double',\n",
       "    'min': 0,\n",
       "    'max': 65535},\n",
       "   'crs': 'EPSG:4326',\n",
       "   'crs_transform': [1, 0, 0, 0, 1, 0]},\n",
       "  {'id': 'B9_median',\n",
       "   'data_type': {'type': 'PixelType',\n",
       "    'precision': 'double',\n",
       "    'min': 0,\n",
       "    'max': 65535},\n",
       "   'crs': 'EPSG:4326',\n",
       "   'crs_transform': [1, 0, 0, 0, 1, 0]},\n",
       "  {'id': 'B11_median',\n",
       "   'data_type': {'type': 'PixelType',\n",
       "    'precision': 'double',\n",
       "    'min': 0,\n",
       "    'max': 65535},\n",
       "   'crs': 'EPSG:4326',\n",
       "   'crs_transform': [1, 0, 0, 0, 1, 0]},\n",
       "  {'id': 'B12_median',\n",
       "   'data_type': {'type': 'PixelType',\n",
       "    'precision': 'double',\n",
       "    'min': 0,\n",
       "    'max': 65535},\n",
       "   'crs': 'EPSG:4326',\n",
       "   'crs_transform': [1, 0, 0, 0, 1, 0]},\n",
       "  {'id': 'AOT_median',\n",
       "   'data_type': {'type': 'PixelType',\n",
       "    'precision': 'double',\n",
       "    'min': 0,\n",
       "    'max': 65535},\n",
       "   'crs': 'EPSG:4326',\n",
       "   'crs_transform': [1, 0, 0, 0, 1, 0]},\n",
       "  {'id': 'WVP_median',\n",
       "   'data_type': {'type': 'PixelType',\n",
       "    'precision': 'double',\n",
       "    'min': 0,\n",
       "    'max': 65535},\n",
       "   'crs': 'EPSG:4326',\n",
       "   'crs_transform': [1, 0, 0, 0, 1, 0]},\n",
       "  {'id': 'SCL_median',\n",
       "   'data_type': {'type': 'PixelType',\n",
       "    'precision': 'double',\n",
       "    'min': 0,\n",
       "    'max': 255},\n",
       "   'crs': 'EPSG:4326',\n",
       "   'crs_transform': [1, 0, 0, 0, 1, 0]},\n",
       "  {'id': 'TCI_R_median',\n",
       "   'data_type': {'type': 'PixelType',\n",
       "    'precision': 'double',\n",
       "    'min': 0,\n",
       "    'max': 255},\n",
       "   'crs': 'EPSG:4326',\n",
       "   'crs_transform': [1, 0, 0, 0, 1, 0]},\n",
       "  {'id': 'TCI_G_median',\n",
       "   'data_type': {'type': 'PixelType',\n",
       "    'precision': 'double',\n",
       "    'min': 0,\n",
       "    'max': 255},\n",
       "   'crs': 'EPSG:4326',\n",
       "   'crs_transform': [1, 0, 0, 0, 1, 0]},\n",
       "  {'id': 'TCI_B_median',\n",
       "   'data_type': {'type': 'PixelType',\n",
       "    'precision': 'double',\n",
       "    'min': 0,\n",
       "    'max': 255},\n",
       "   'crs': 'EPSG:4326',\n",
       "   'crs_transform': [1, 0, 0, 0, 1, 0]},\n",
       "  {'id': 'MSK_CLDPRB_median',\n",
       "   'data_type': {'type': 'PixelType',\n",
       "    'precision': 'double',\n",
       "    'min': 0,\n",
       "    'max': 255},\n",
       "   'crs': 'EPSG:4326',\n",
       "   'crs_transform': [1, 0, 0, 0, 1, 0]},\n",
       "  {'id': 'MSK_SNWPRB_median',\n",
       "   'data_type': {'type': 'PixelType',\n",
       "    'precision': 'double',\n",
       "    'min': 0,\n",
       "    'max': 255},\n",
       "   'crs': 'EPSG:4326',\n",
       "   'crs_transform': [1, 0, 0, 0, 1, 0]},\n",
       "  {'id': 'QA10_median',\n",
       "   'data_type': {'type': 'PixelType',\n",
       "    'precision': 'double',\n",
       "    'min': 0,\n",
       "    'max': 65535},\n",
       "   'crs': 'EPSG:4326',\n",
       "   'crs_transform': [1, 0, 0, 0, 1, 0]},\n",
       "  {'id': 'QA20_median',\n",
       "   'data_type': {'type': 'PixelType',\n",
       "    'precision': 'double',\n",
       "    'min': 0,\n",
       "    'max': 4294967295},\n",
       "   'crs': 'EPSG:4326',\n",
       "   'crs_transform': [1, 0, 0, 0, 1, 0]},\n",
       "  {'id': 'QA60_median',\n",
       "   'data_type': {'type': 'PixelType',\n",
       "    'precision': 'double',\n",
       "    'min': 0,\n",
       "    'max': 65535},\n",
       "   'crs': 'EPSG:4326',\n",
       "   'crs_transform': [1, 0, 0, 0, 1, 0]},\n",
       "  {'id': 'MSK_CLASSI_OPAQUE_median',\n",
       "   'data_type': {'type': 'PixelType',\n",
       "    'precision': 'double',\n",
       "    'min': 0,\n",
       "    'max': 255},\n",
       "   'crs': 'EPSG:4326',\n",
       "   'crs_transform': [1, 0, 0, 0, 1, 0]},\n",
       "  {'id': 'MSK_CLASSI_CIRRUS_median',\n",
       "   'data_type': {'type': 'PixelType',\n",
       "    'precision': 'double',\n",
       "    'min': 0,\n",
       "    'max': 255},\n",
       "   'crs': 'EPSG:4326',\n",
       "   'crs_transform': [1, 0, 0, 0, 1, 0]},\n",
       "  {'id': 'MSK_CLASSI_SNOW_ICE_median',\n",
       "   'data_type': {'type': 'PixelType',\n",
       "    'precision': 'double',\n",
       "    'min': 0,\n",
       "    'max': 255},\n",
       "   'crs': 'EPSG:4326',\n",
       "   'crs_transform': [1, 0, 0, 0, 1, 0]}]}"
      ]
     },
     "execution_count": 15,
     "metadata": {},
     "output_type": "execute_result"
    }
   ],
   "source": [
    "\n",
    "#Reducing images for all bands by median\n",
    "reduced=myCollection.reduce(ee.Reducer.median())\n",
    "reduced.getInfo()"
   ]
  },
  {
   "cell_type": "markdown",
   "id": "9ced236b-3172-4800-bf18-4b32fcfd54c2",
   "metadata": {},
   "source": [
    "### Visualization of Reduced by median Image "
   ]
  },
  {
   "cell_type": "code",
   "execution_count": 16,
   "id": "e78b80f6-cc8f-4bdb-ad9d-d95f187583f8",
   "metadata": {},
   "outputs": [
    {
     "data": {
      "text/html": [
       "\n",
       "            <style>\n",
       "                .geemap-dark {\n",
       "                    --jp-widgets-color: white;\n",
       "                    --jp-widgets-label-color: white;\n",
       "                    --jp-ui-font-color1: white;\n",
       "                    --jp-layout-color2: #454545;\n",
       "                    background-color: #383838;\n",
       "                }\n",
       "\n",
       "                .geemap-dark .jupyter-button {\n",
       "                    --jp-layout-color3: #383838;\n",
       "                }\n",
       "\n",
       "                .geemap-colab {\n",
       "                    background-color: var(--colab-primary-surface-color, white);\n",
       "                }\n",
       "\n",
       "                .geemap-colab .jupyter-button {\n",
       "                    --jp-layout-color3: var(--colab-primary-surface-color, white);\n",
       "                }\n",
       "            </style>\n",
       "            "
      ],
      "text/plain": [
       "<IPython.core.display.HTML object>"
      ]
     },
     "metadata": {},
     "output_type": "display_data"
    },
    {
     "data": {
      "application/vnd.jupyter.widget-view+json": {
       "model_id": "05f2c5dc7f4743beb803a773e85907f1",
       "version_major": 2,
       "version_minor": 0
      },
      "text/plain": [
       "Map(bottom=105295.0, center=[33.6844, 73.0479], controls=(WidgetControl(options=['position', 'transparent_bg']…"
      ]
     },
     "metadata": {},
     "output_type": "display_data"
    }
   ],
   "source": [
    "vis_params = {\"min\": 0, \n",
    "              \"max\": 4000, \n",
    "              \"bands\": [\"B8_median\", \"B3_median\", \"B2_median\"]}\n",
    "\n",
    "Map1.addLayer(reduced,vis_params,'median')\n",
    "Map1"
   ]
  },
  {
   "cell_type": "code",
   "execution_count": 10,
   "id": "17ca26a4-18aa-4374-b701-c0f7a3d3bb7a",
   "metadata": {},
   "outputs": [
    {
     "data": {
      "text/html": [
       "\n",
       "            <style>\n",
       "                .geemap-dark {\n",
       "                    --jp-widgets-color: white;\n",
       "                    --jp-widgets-label-color: white;\n",
       "                    --jp-ui-font-color1: white;\n",
       "                    --jp-layout-color2: #454545;\n",
       "                    background-color: #383838;\n",
       "                }\n",
       "\n",
       "                .geemap-dark .jupyter-button {\n",
       "                    --jp-layout-color3: #383838;\n",
       "                }\n",
       "\n",
       "                .geemap-colab {\n",
       "                    background-color: var(--colab-primary-surface-color, white);\n",
       "                }\n",
       "\n",
       "                .geemap-colab .jupyter-button {\n",
       "                    --jp-layout-color3: var(--colab-primary-surface-color, white);\n",
       "                }\n",
       "            </style>\n",
       "            "
      ],
      "text/plain": [
       "<IPython.core.display.HTML object>"
      ]
     },
     "metadata": {},
     "output_type": "display_data"
    }
   ],
   "source": [
    "labelsUrban=Map1.user_rois.getInfo()"
   ]
  },
  {
   "cell_type": "code",
   "execution_count": 11,
   "id": "ba285837-dc9b-41b4-b8aa-ab2f4ebf42a9",
   "metadata": {},
   "outputs": [
    {
     "data": {
      "text/html": [
       "\n",
       "            <style>\n",
       "                .geemap-dark {\n",
       "                    --jp-widgets-color: white;\n",
       "                    --jp-widgets-label-color: white;\n",
       "                    --jp-ui-font-color1: white;\n",
       "                    --jp-layout-color2: #454545;\n",
       "                    background-color: #383838;\n",
       "                }\n",
       "\n",
       "                .geemap-dark .jupyter-button {\n",
       "                    --jp-layout-color3: #383838;\n",
       "                }\n",
       "\n",
       "                .geemap-colab {\n",
       "                    background-color: var(--colab-primary-surface-color, white);\n",
       "                }\n",
       "\n",
       "                .geemap-colab .jupyter-button {\n",
       "                    --jp-layout-color3: var(--colab-primary-surface-color, white);\n",
       "                }\n",
       "            </style>\n",
       "            "
      ],
      "text/plain": [
       "<IPython.core.display.HTML object>"
      ]
     },
     "metadata": {},
     "output_type": "display_data"
    }
   ],
   "source": [
    "# geemap.ee_to_geojson(labels,'samples.geojson')"
   ]
  },
  {
   "cell_type": "markdown",
   "id": "81eb0d10-bef8-4cde-9f3a-b9af0b7cdd37",
   "metadata": {},
   "source": [
    "### For generating Labeled samples, we used The GEE MAP builtin drawing toolbar and then added each of the geometries coordinates to different Multi Polygon Geometry Objects,"
   ]
  },
  {
   "cell_type": "code",
   "execution_count": 14,
   "id": "b5d11150-2c11-48b7-81b7-3c773835b004",
   "metadata": {},
   "outputs": [
    {
     "data": {
      "text/html": [
       "\n",
       "            <style>\n",
       "                .geemap-dark {\n",
       "                    --jp-widgets-color: white;\n",
       "                    --jp-widgets-label-color: white;\n",
       "                    --jp-ui-font-color1: white;\n",
       "                    --jp-layout-color2: #454545;\n",
       "                    background-color: #383838;\n",
       "                }\n",
       "\n",
       "                .geemap-dark .jupyter-button {\n",
       "                    --jp-layout-color3: #383838;\n",
       "                }\n",
       "\n",
       "                .geemap-colab {\n",
       "                    background-color: var(--colab-primary-surface-color, white);\n",
       "                }\n",
       "\n",
       "                .geemap-colab .jupyter-button {\n",
       "                    --jp-layout-color3: var(--colab-primary-surface-color, white);\n",
       "                }\n",
       "            </style>\n",
       "            "
      ],
      "text/plain": [
       "<IPython.core.display.HTML object>"
      ]
     },
     "metadata": {},
     "output_type": "display_data"
    }
   ],
   "source": [
    "#This is to extract shapes from a set of drawn features\n",
    "\n",
    "# labels=Map1.user_rois.getInfo()\n",
    "# labels = ee.FeatureCollection(labels).geometry()\n",
    "\n",
    "# bareSamples = labels.getInfo()['coordinates']\n",
    "# bareSamples"
   ]
  },
  {
   "cell_type": "code",
   "execution_count": 19,
   "id": "5c1d487d-449a-4319-b43c-de648a2387b0",
   "metadata": {},
   "outputs": [
    {
     "data": {
      "text/html": [
       "\n",
       "            <style>\n",
       "                .geemap-dark {\n",
       "                    --jp-widgets-color: white;\n",
       "                    --jp-widgets-label-color: white;\n",
       "                    --jp-ui-font-color1: white;\n",
       "                    --jp-layout-color2: #454545;\n",
       "                    background-color: #383838;\n",
       "                }\n",
       "\n",
       "                .geemap-dark .jupyter-button {\n",
       "                    --jp-layout-color3: #383838;\n",
       "                }\n",
       "\n",
       "                .geemap-colab {\n",
       "                    background-color: var(--colab-primary-surface-color, white);\n",
       "                }\n",
       "\n",
       "                .geemap-colab .jupyter-button {\n",
       "                    --jp-layout-color3: var(--colab-primary-surface-color, white);\n",
       "                }\n",
       "            </style>\n",
       "            "
      ],
      "text/plain": [
       "<IPython.core.display.HTML object>"
      ]
     },
     "metadata": {},
     "output_type": "display_data"
    },
    {
     "data": {
      "application/vnd.jupyter.widget-view+json": {
       "model_id": "296d3b4b083a44f4a9136eb6b922b4f1",
       "version_major": 2,
       "version_minor": 0
      },
      "text/plain": [
       "Map(center=[33.6844, 73.0479], controls=(WidgetControl(options=['position', 'transparent_bg'], widget=SearchDa…"
      ]
     },
     "metadata": {},
     "output_type": "display_data"
    }
   ],
   "source": [
    "##Defining different visualiaztion parameters to better identify features\n",
    "latitude = 33.6844\n",
    "longitude = 73.0479\n",
    "Map1 = geemap.Map(center=(latitude, longitude), zoom=10)\n",
    "\n",
    "vis_params = {\"min\": 0, \n",
    "              \"max\": 4000, \n",
    "              \"bands\": [\"B12_median\", \"B8A_median\", \"B4_median\"]}\n",
    "Map1.addLayer(reduced,vis_params,'median')\n",
    "Map1"
   ]
  },
  {
   "cell_type": "markdown",
   "id": "1269c6b9-c446-43f6-a074-ded89cf0837c",
   "metadata": {},
   "source": [
    "## Manually Drawn Samples\n",
    "### Classes are bare samples, dense vegetation, sparse vegetation, water, urban regions"
   ]
  },
  {
   "cell_type": "code",
   "execution_count": 20,
   "id": "817493a8-00c3-41ea-a403-92f3450b79aa",
   "metadata": {},
   "outputs": [
    {
     "data": {
      "text/html": [
       "\n",
       "            <style>\n",
       "                .geemap-dark {\n",
       "                    --jp-widgets-color: white;\n",
       "                    --jp-widgets-label-color: white;\n",
       "                    --jp-ui-font-color1: white;\n",
       "                    --jp-layout-color2: #454545;\n",
       "                    background-color: #383838;\n",
       "                }\n",
       "\n",
       "                .geemap-dark .jupyter-button {\n",
       "                    --jp-layout-color3: #383838;\n",
       "                }\n",
       "\n",
       "                .geemap-colab {\n",
       "                    background-color: var(--colab-primary-surface-color, white);\n",
       "                }\n",
       "\n",
       "                .geemap-colab .jupyter-button {\n",
       "                    --jp-layout-color3: var(--colab-primary-surface-color, white);\n",
       "                }\n",
       "            </style>\n",
       "            "
      ],
      "text/plain": [
       "<IPython.core.display.HTML object>"
      ]
     },
     "metadata": {},
     "output_type": "display_data"
    }
   ],
   "source": [
    "\n",
    "denseVegetation=ee.Geometry.MultiPolygon([[[[72.273388, 34.270552],\n",
    "   [72.273903, 34.263601],\n",
    "   [72.283516, 34.26431],\n",
    "   [72.283001, 34.27041],\n",
    "   [72.273388, 34.270552]]],\n",
    " [[[72.274761, 34.257784],\n",
    "   [72.274761, 34.261331],\n",
    "   [72.282829, 34.261331],\n",
    "   [72.282829, 34.257784],\n",
    "   [72.274761, 34.257784]]],\n",
    " [[[72.270727, 34.286333],\n",
    "   [72.270727, 34.287609],\n",
    "   [72.273388, 34.287609],\n",
    "   [72.273388, 34.286333],\n",
    "   [72.270727, 34.286333]]],\n",
    " [[[72.289138, 34.255691],\n",
    "   [72.289138, 34.25711],\n",
    "   [72.293515, 34.25711],\n",
    "   [72.293515, 34.255691],\n",
    "   [72.289138, 34.255691]]],\n",
    " [[[72.305059, 34.252463],\n",
    "   [72.305059, 34.254166],\n",
    "   [72.308664, 34.254166],\n",
    "   [72.308664, 34.252463],\n",
    "   [72.305059, 34.252463]]],\n",
    " [[[72.875061, 33.704063],\n",
    "   [72.875061, 33.707491],\n",
    "   [72.89463, 33.707491],\n",
    "   [72.89463, 33.704063],\n",
    "   [72.875061, 33.704063]]],\n",
    " [[[72.879782, 33.69578],\n",
    "   [72.879782, 33.701707],\n",
    "   [72.8936, 33.701707],\n",
    "   [72.8936, 33.69578],\n",
    "   [72.879782, 33.69578]]],\n",
    " [[[73.027496, 33.742327],\n",
    "   [73.027496, 33.753461],\n",
    "   [73.051872, 33.753461],\n",
    "   [73.051872, 33.742327],\n",
    "   [73.027496, 33.742327]]],\n",
    " [[[73.083115, 33.759169],\n",
    "   [73.083115, 33.767732],\n",
    "   [73.099937, 33.767732],\n",
    "   [73.099937, 33.759169],\n",
    "   [73.083115, 33.759169]]],\n",
    " [[[73.190231, 33.760597],\n",
    "   [73.190231, 33.767447],\n",
    "   [73.201561, 33.767447],\n",
    "   [73.201561, 33.760597],\n",
    "   [73.190231, 33.760597]]],\n",
    " [[[73.409271, 33.769159],\n",
    "   [73.402061, 33.753175],\n",
    "   [73.411331, 33.752319],\n",
    "   [73.420601, 33.758028],\n",
    "   [73.416824, 33.765449],\n",
    "   [73.409271, 33.769159]]],\n",
    " [[[73.24688, 33.825934],\n",
    "   [73.24688, 33.830212],\n",
    "   [73.257523, 33.830212],\n",
    "   [73.257523, 33.825934],\n",
    "   [73.24688, 33.825934]]],\n",
    " [[[73.332367, 33.845327],\n",
    "   [73.332367, 33.854166],\n",
    "   [73.33889, 33.854166],\n",
    "   [73.33889, 33.845327],\n",
    "   [73.332367, 33.845327]]],\n",
    " [[[73.325844, 33.841049],\n",
    "   [73.325844, 33.849604],\n",
    "   [73.331337, 33.849604],\n",
    "   [73.331337, 33.841049],\n",
    "   [73.325844, 33.841049]]],\n",
    " [[[72.087822, 33.870416],\n",
    "   [72.087822, 33.875261],\n",
    "   [72.111168, 33.875261],\n",
    "   [72.111168, 33.870416],\n",
    "   [72.087822, 33.870416]]],\n",
    " [[[71.955299, 33.863004],\n",
    "   [71.955299, 33.871556],\n",
    "   [71.955299, 33.871556],\n",
    "   [71.955299, 33.863004]]],\n",
    " [[[72.982178, 33.732335],\n",
    "   [72.982178, 33.741471],\n",
    "   [72.998314, 33.741471],\n",
    "   [72.998314, 33.732335],\n",
    "   [72.982178, 33.732335]]],\n",
    " [[[73.055649, 33.741756],\n",
    "   [73.055649, 33.746039],\n",
    "   [73.062859, 33.746039],\n",
    "   [73.062859, 33.741756],\n",
    "   [73.055649, 33.741756]]]])\n",
    "\n",
    "sparseVegetation=ee.Geometry.MultiPolygon([[[[72.461443, 33.922708],\n",
    "   [72.461443, 33.92513],\n",
    "   [72.464619, 33.92513],\n",
    "   [72.464619, 33.922708],\n",
    "   [72.461443, 33.922708]]],\n",
    " [[[72.496634, 33.921355],\n",
    "   [72.496634, 33.922138],\n",
    "   [72.499294, 33.922138],\n",
    "   [72.499294, 33.921355],\n",
    "   [72.496634, 33.921355]]],\n",
    " [[[72.502298, 33.938233],\n",
    "   [72.502298, 33.940369],\n",
    "   [72.507362, 33.940369],\n",
    "   [72.507362, 33.938233],\n",
    "   [72.502298, 33.938233]]],\n",
    " [[[72.491913, 33.925557],\n",
    "   [72.491913, 33.932892],\n",
    "   [72.506161, 33.932892],\n",
    "   [72.506161, 33.925557],\n",
    "   [72.491913, 33.925557]]],\n",
    " [[[73.007412, 33.66071],\n",
    "   [73.009429, 33.657174],\n",
    "   [73.015952, 33.659853],\n",
    "   [73.012948, 33.663889],\n",
    "   [73.007412, 33.66071]]],\n",
    " [[[73.016639, 33.663211],\n",
    "   [73.016639, 33.664782],\n",
    "   [73.018956, 33.664782],\n",
    "   [73.018956, 33.663211],\n",
    "   [73.016639, 33.663211]]],\n",
    " [[[73.005095, 33.657531],\n",
    "   [73.005095, 33.65871],\n",
    "   [73.007927, 33.65871],\n",
    "   [73.007927, 33.657531],\n",
    "   [73.005095, 33.657531]]],\n",
    " [[[73.075701, 33.697271],\n",
    "   [73.075701, 33.698458],\n",
    "   [73.078887, 33.698458],\n",
    "   [73.078887, 33.697271],\n",
    "   [73.075701, 33.697271]]],\n",
    " [[[73.079724, 33.69553],\n",
    "   [73.079724, 33.69753],\n",
    "   [73.083158, 33.69753],\n",
    "   [73.083158, 33.69553],\n",
    "   [73.079724, 33.69553]]],\n",
    " [[[73.085518, 33.693638],\n",
    "   [73.085518, 33.695566],\n",
    "   [73.08938, 33.695566],\n",
    "   [73.08938, 33.693638],\n",
    "   [73.085518, 33.693638]]],\n",
    " [[[73.093929, 33.688853],\n",
    "   [73.093929, 33.690888],\n",
    "   [73.096933, 33.690888],\n",
    "   [73.096933, 33.688853],\n",
    "   [73.093929, 33.688853]]],\n",
    " [[[73.084788, 33.688353],\n",
    "   [73.084788, 33.68946],\n",
    "   [73.087535, 33.68946],\n",
    "   [73.087535, 33.688353],\n",
    "   [73.084788, 33.688353]]],\n",
    " [[[73.099036, 33.698637],\n",
    "   [73.099036, 33.7001],\n",
    "   [73.100581, 33.7001],\n",
    "   [73.100581, 33.698637],\n",
    "   [73.099036, 33.698637]]],\n",
    " [[[73.143797, 33.677354],\n",
    "   [73.143797, 33.678926],\n",
    "   [73.1462, 33.678926],\n",
    "   [73.1462, 33.677354],\n",
    "   [73.143797, 33.677354]]],\n",
    " [[[73.139935, 33.690567],\n",
    "   [73.139935, 33.692924],\n",
    "   [73.143282, 33.692924],\n",
    "   [73.143282, 33.690567],\n",
    "   [73.139935, 33.690567]]],\n",
    " [[[73.121481, 33.675711],\n",
    "   [73.121481, 33.676569],\n",
    "   [73.122511, 33.676569],\n",
    "   [73.122511, 33.675711],\n",
    "   [73.121481, 33.675711]]],\n",
    " [[[73.041787, 33.708722],\n",
    "   [73.041787, 33.709035],\n",
    "   [73.042485, 33.709035],\n",
    "   [73.042485, 33.708722],\n",
    "   [73.041787, 33.708722]]]])\n",
    "\n",
    "urbanSamples=ee.Geometry.MultiPolygon([[[[73.005223, 33.597141],\n",
    "   [73.008442, 33.597141],\n",
    "   [73.008442, 33.599608],\n",
    "   [73.005223, 33.599608],\n",
    "   [73.005223, 33.597141]]],\n",
    " [[[73.010073, 33.594925],\n",
    "   [73.014107, 33.594925],\n",
    "   [73.014107, 33.597892],\n",
    "   [73.010073, 33.597892],\n",
    "   [73.010073, 33.594925]]],\n",
    " [[[73.016424, 33.594281],\n",
    "   [73.020973, 33.594281],\n",
    "   [73.020973, 33.596962],\n",
    "   [73.016424, 33.596962],\n",
    "   [73.016424, 33.594281]]],\n",
    " [[[73.013506, 33.58967],\n",
    "   [73.018827, 33.58967],\n",
    "   [73.018827, 33.591743],\n",
    "   [73.013506, 33.591743],\n",
    "   [73.013506, 33.58967]]],\n",
    " [[[73.00149, 33.600573],\n",
    "   [73.00724, 33.600573],\n",
    "   [73.00724, 33.602896],\n",
    "   [73.00149, 33.602896],\n",
    "   [73.00149, 33.600573]]],\n",
    " [[[73.015137, 33.585165],\n",
    "   [73.020029, 33.585165],\n",
    "   [73.020029, 33.588883],\n",
    "   [73.015137, 33.588883],\n",
    "   [73.015137, 33.585165]]],\n",
    " [[[73.015223, 33.582377],\n",
    "   [73.020716, 33.582377],\n",
    "   [73.020716, 33.584236],\n",
    "   [73.015223, 33.584236],\n",
    "   [73.015223, 33.582377]]],\n",
    " [[[73.010888, 33.577264],\n",
    "   [73.017282, 33.577264],\n",
    "   [73.017282, 33.579624],\n",
    "   [73.010888, 33.579624],\n",
    "   [73.010888, 33.577264]]],\n",
    " [[[73.082643, 33.634023],\n",
    "   [73.088608, 33.634023],\n",
    "   [73.088608, 33.636346],\n",
    "   [73.082643, 33.636346],\n",
    "   [73.082643, 33.634023]]],\n",
    " [[[73.083415, 33.627913],\n",
    "   [73.091612, 33.627913],\n",
    "   [73.091612, 33.630343],\n",
    "   [73.083415, 33.630343],\n",
    "   [73.083415, 33.627913]]],\n",
    " [[[73.090067, 33.633345],\n",
    "   [73.094273, 33.633345],\n",
    "   [73.094273, 33.635631],\n",
    "   [73.090067, 33.635631],\n",
    "   [73.090067, 33.633345]]],\n",
    " [[[73.095388, 33.639133],\n",
    "   [73.100109, 33.639133],\n",
    "   [73.100109, 33.640705],\n",
    "   [73.095388, 33.640705],\n",
    "   [73.095388, 33.639133]]],\n",
    " [[[73.095946, 33.634631],\n",
    "   [73.100967, 33.634631],\n",
    "   [73.100967, 33.636203],\n",
    "   [73.095946, 33.636203],\n",
    "   [73.095946, 33.634631]]],\n",
    " [[[73.113542, 33.642849],\n",
    "   [73.117619, 33.642849],\n",
    "   [73.117619, 33.644492],\n",
    "   [73.113542, 33.644492],\n",
    "   [73.113542, 33.642849]]],\n",
    " [[[73.108907, 33.638954],\n",
    "   [73.112855, 33.638954],\n",
    "   [73.112855, 33.640205],\n",
    "   [73.108907, 33.640205],\n",
    "   [73.108907, 33.638954]]],\n",
    " [[[73.173623, 33.731906],\n",
    "   [73.177228, 33.731906],\n",
    "   [73.177228, 33.733298],\n",
    "   [73.173623, 33.733298],\n",
    "   [73.173623, 33.731906]]],\n",
    " [[[73.169031, 33.729087],\n",
    "   [73.171477, 33.729087],\n",
    "   [73.171477, 33.730158],\n",
    "   [73.169031, 33.730158],\n",
    "   [73.169031, 33.729087]]],\n",
    " [[[73.178172, 33.736475],\n",
    "   [73.181949, 33.736475],\n",
    "   [73.181949, 33.737545],\n",
    "   [73.178172, 33.737545],\n",
    "   [73.178172, 33.736475]]],\n",
    " [[[73.182678, 33.737153],\n",
    "   [73.184438, 33.737153],\n",
    "   [73.184438, 33.738081],\n",
    "   [73.182678, 33.738081],\n",
    "   [73.182678, 33.737153]]],\n",
    " [[[73.179588, 33.748822],\n",
    "   [73.182764, 33.748822],\n",
    "   [73.182764, 33.750677],\n",
    "   [73.179588, 33.750677],\n",
    "   [73.179588, 33.748822]]],\n",
    " [[[73.036809, 33.628556],\n",
    "   [73.039126, 33.628556],\n",
    "   [73.039126, 33.630236],\n",
    "   [73.036809, 33.630236],\n",
    "   [73.036809, 33.628556]]],\n",
    " [[[73.030372, 33.6307],\n",
    "   [73.03299, 33.6307],\n",
    "   [73.03299, 33.632487],\n",
    "   [73.030372, 33.632487],\n",
    "   [73.030372, 33.6307]]],\n",
    " [[[73.030586, 33.625984],\n",
    "   [73.033204, 33.625984],\n",
    "   [73.033204, 33.62727],\n",
    "   [73.030586, 33.62727],\n",
    "   [73.030586, 33.625984]]],\n",
    " [[[72.683895, 33.821531],\n",
    "   [72.68647, 33.821531],\n",
    "   [72.68647, 33.823581],\n",
    "   [72.683895, 33.823581],\n",
    "   [72.683895, 33.821531]]],\n",
    " [[[72.682629, 33.824473],\n",
    "   [72.68471, 33.824473],\n",
    "   [72.68471, 33.825453],\n",
    "   [72.682629, 33.825453],\n",
    "   [72.682629, 33.824473]]],\n",
    " [[[72.727089, 33.765912],\n",
    "   [72.729878, 33.765912],\n",
    "   [72.729878, 33.767518],\n",
    "   [72.727089, 33.767518],\n",
    "   [72.727089, 33.765912]]],\n",
    " [[[72.730994, 33.763843],\n",
    "   [72.73344, 33.763843],\n",
    "   [72.73344, 33.765484],\n",
    "   [72.730994, 33.765484],\n",
    "   [72.730994, 33.763843]]],\n",
    " [[[72.728269, 33.764503],\n",
    "   [72.730157, 33.764503],\n",
    "   [72.730157, 33.765449],\n",
    "   [72.728269, 33.765449],\n",
    "   [72.728269, 33.764503]]],\n",
    " [[[72.74816, 33.758402],\n",
    "   [72.748182, 33.758402],\n",
    "   [72.748182, 33.759758],\n",
    "   [72.74816, 33.759758],\n",
    "   [72.74816, 33.758402]]],\n",
    " [[[72.749212, 33.75826],\n",
    "   [72.752216, 33.75826],\n",
    "   [72.752216, 33.759384],\n",
    "   [72.749212, 33.759384],\n",
    "   [72.749212, 33.75826]]],\n",
    " [[[72.981298, 33.669193],\n",
    "   [72.982671, 33.669193],\n",
    "   [72.982671, 33.669926],\n",
    "   [72.981298, 33.669926],\n",
    "   [72.981298, 33.669193]]],\n",
    " [[[72.979174, 33.667586],\n",
    "   [72.981277, 33.667586],\n",
    "   [72.981277, 33.668336],\n",
    "   [72.979174, 33.668336],\n",
    "   [72.979174, 33.667586]]]])\n",
    "waterSamples=ee.Geometry.MultiPolygon([[[[72.818069, 34.258351],\n",
    "   [72.818069, 34.265445],\n",
    "   [72.828026, 34.265445],\n",
    "   [72.828026, 34.258351],\n",
    "   [72.818069, 34.258351]]],\n",
    " [[[72.814293, 34.230255],\n",
    "   [72.814293, 34.242743],\n",
    "   [72.827339, 34.242743],\n",
    "   [72.827339, 34.230255],\n",
    "   [72.814293, 34.230255]]],\n",
    " [[[72.812576, 34.212654],\n",
    "   [72.812576, 34.221739],\n",
    "   [72.823906, 34.221739],\n",
    "   [72.823906, 34.212654],\n",
    "   [72.812576, 34.212654]]],\n",
    " [[[72.880554, 34.096738],\n",
    "   [72.880554, 34.108109],\n",
    "   [72.89566, 34.108109],\n",
    "   [72.89566, 34.096738],\n",
    "   [72.880554, 34.096738]]],\n",
    " [[[72.875748, 34.058348],\n",
    "   [72.875748, 34.070578],\n",
    "   [72.886391, 34.070578],\n",
    "   [72.886391, 34.058348],\n",
    "   [72.875748, 34.058348]]],\n",
    " [[[72.780647, 34.118058],\n",
    "   [72.780647, 34.1317],\n",
    "   [72.80571, 34.1317],\n",
    "   [72.80571, 34.118058],\n",
    "   [72.780647, 34.118058]]],\n",
    " [[[72.667007, 34.056357],\n",
    "   [72.667007, 34.062899],\n",
    "   [72.67662, 34.062899],\n",
    "   [72.67662, 34.056357],\n",
    "   [72.667007, 34.056357]]],\n",
    " [[[72.709923, 34.091336],\n",
    "   [72.709923, 34.103561],\n",
    "   [72.730179, 34.103561],\n",
    "   [72.730179, 34.091336],\n",
    "   [72.709923, 34.091336]]],\n",
    " [[[71.994417, 33.677051],\n",
    "   [71.995339, 33.676051],\n",
    "   [71.996841, 33.676711],\n",
    "   [71.996584, 33.677336],\n",
    "   [71.995168, 33.67739],\n",
    "   [71.994417, 33.677051]]],\n",
    " [[[71.998451, 33.677479],\n",
    "   [71.998451, 33.67864],\n",
    "   [72.00021, 33.67864],\n",
    "   [72.00021, 33.677479],\n",
    "   [71.998451, 33.677479]]],\n",
    " [[[71.991498, 33.674801],\n",
    "   [71.991498, 33.676015],\n",
    "   [71.994009, 33.676015],\n",
    "   [71.994009, 33.674801],\n",
    "   [71.991498, 33.674801]]],\n",
    " [[[73.725471, 33.190145],\n",
    "   [73.725471, 33.219446],\n",
    "   [73.766327, 33.219446],\n",
    "   [73.766327, 33.190145],\n",
    "   [73.725471, 33.190145]]],\n",
    " [[[73.664017, 33.16026],\n",
    "   [73.664017, 33.178077],\n",
    "   [73.679466, 33.178077],\n",
    "   [73.679466, 33.16026],\n",
    "   [73.664017, 33.16026]]],\n",
    " [[[73.651314, 33.141863],\n",
    "   [73.651314, 33.153361],\n",
    "   [73.661613, 33.153361],\n",
    "   [73.661613, 33.141863],\n",
    "   [73.651314, 33.141863]]],\n",
    " [[[73.549776, 33.19327],\n",
    "   [73.549776, 33.195748],\n",
    "   [73.55454, 33.195748],\n",
    "   [73.55454, 33.19327],\n",
    "   [73.549776, 33.19327]]],\n",
    " [[[73.544068, 33.187344],\n",
    "   [73.544068, 33.191187],\n",
    "   [73.548574, 33.191187],\n",
    "   [73.548574, 33.187344],\n",
    "   [73.544068, 33.187344]]],\n",
    " [[[73.556728, 33.233519],\n",
    "   [73.556728, 33.236103],\n",
    "   [73.560848, 33.236103],\n",
    "   [73.560848, 33.233519],\n",
    "   [73.556728, 33.233519]]],\n",
    " [[[72.221589, 33.474462],\n",
    "   [72.221589, 33.475214],\n",
    "   [72.223606, 33.475214],\n",
    "   [72.223606, 33.474462],\n",
    "   [72.221589, 33.474462]]],\n",
    " [[[72.223027, 33.472207],\n",
    "   [72.223027, 33.473245],\n",
    "   [72.225194, 33.473245],\n",
    "   [72.225194, 33.472207],\n",
    "   [72.223027, 33.472207]]],\n",
    " [[[72.669926, 32.888525],\n",
    "   [72.669926, 32.891696],\n",
    "   [72.676277, 32.891696],\n",
    "   [72.676277, 32.888525],\n",
    "   [72.669926, 32.888525]]],\n",
    " [[[72.675076, 32.879731],\n",
    "   [72.675076, 32.885354],\n",
    "   [72.681084, 32.885354],\n",
    "   [72.681084, 32.879731],\n",
    "   [72.675076, 32.879731]]]])\n",
    "\n",
    "bareSamples = ee.Geometry.MultiPolygon([[[[72.429342, 33.766055],\n",
    "   [72.429342, 33.767125],\n",
    "   [72.430372, 33.767125],\n",
    "   [72.430372, 33.766055],\n",
    "   [72.429342, 33.766055]]],\n",
    " [[[72.428741, 33.764164],\n",
    "   [72.428741, 33.765306],\n",
    "   [72.431359, 33.765306],\n",
    "   [72.431359, 33.764164],\n",
    "   [72.428741, 33.764164]]],\n",
    " [[[72.424536, 33.763451],\n",
    "   [72.424536, 33.764592],\n",
    "   [72.427111, 33.764592],\n",
    "   [72.427111, 33.763451],\n",
    "   [72.424536, 33.763451]]],\n",
    " [[[72.454705, 33.756886],\n",
    "   [72.454705, 33.758277],\n",
    "   [72.457666, 33.758277],\n",
    "   [72.457666, 33.756886],\n",
    "   [72.454705, 33.756886]]],\n",
    " [[[72.463074, 33.752069],\n",
    "   [72.463074, 33.753318],\n",
    "   [72.466636, 33.753318],\n",
    "   [72.466636, 33.752069],\n",
    "   [72.463074, 33.752069]]],\n",
    " [[[72.453847, 33.761774],\n",
    "   [72.453847, 33.763201],\n",
    "   [72.457452, 33.763201],\n",
    "   [72.457452, 33.761774],\n",
    "   [72.453847, 33.761774]]],\n",
    " [[[72.397842, 33.70492],\n",
    "   [72.397842, 33.710632],\n",
    "   [72.404709, 33.710632],\n",
    "   [72.404709, 33.70492],\n",
    "   [72.397842, 33.70492]]],\n",
    " [[[72.396812, 33.691781],\n",
    "   [72.396812, 33.694209],\n",
    "   [72.404022, 33.694209],\n",
    "   [72.404022, 33.691781],\n",
    "   [72.396812, 33.691781]]],\n",
    " [[[72.405052, 33.710775],\n",
    "   [72.405052, 33.713631],\n",
    "   [72.412605, 33.713631],\n",
    "   [72.412605, 33.710775],\n",
    "   [72.405052, 33.710775]]],\n",
    " [[[72.405953, 33.707776],\n",
    "   [72.405953, 33.709454],\n",
    "   [72.409086, 33.709454],\n",
    "   [72.409086, 33.707776],\n",
    "   [72.405953, 33.707776]]],\n",
    " [[[72.401834, 33.700957],\n",
    "   [72.401834, 33.703207],\n",
    "   [72.405953, 33.703207],\n",
    "   [72.405953, 33.700957],\n",
    "   [72.401834, 33.700957]]],\n",
    " [[[72.272186, 33.724768],\n",
    "   [72.272186, 33.727909],\n",
    "   [72.282143, 33.727909],\n",
    "   [72.282143, 33.724768],\n",
    "   [72.272186, 33.724768]]],\n",
    " [[[72.295876, 33.195604],\n",
    "   [72.295876, 33.201924],\n",
    "   [72.306862, 33.201924],\n",
    "   [72.306862, 33.195604],\n",
    "   [72.295876, 33.195604]]],\n",
    " [[[72.360077, 33.218584],\n",
    "   [72.360077, 33.229498],\n",
    "   [72.384453, 33.229498],\n",
    "   [72.384453, 33.218584],\n",
    "   [72.360077, 33.218584]]],\n",
    " [[[72.256737, 33.182675],\n",
    "   [72.256737, 33.191582],\n",
    "   [72.280083, 33.191582],\n",
    "   [72.280083, 33.182675],\n",
    "   [72.256737, 33.182675]]],\n",
    " [[[71.834106, 32.754942],\n",
    "   [71.834106, 32.787275],\n",
    "   [71.904144, 32.787275],\n",
    "   [71.904144, 32.754942],\n",
    "   [71.834106, 32.754942]]],\n",
    " [[[72.05864, 32.863439],\n",
    "   [72.05864, 32.867477],\n",
    "   [72.070141, 32.867477],\n",
    "   [72.070141, 32.863439],\n",
    "   [72.05864, 32.863439]]],\n",
    " [[[71.998215, 32.910289],\n",
    "   [71.998215, 32.918359],\n",
    "   [72.005253, 32.918359],\n",
    "   [72.005253, 32.910289],\n",
    "   [71.998215, 32.910289]]],\n",
    " [[[72.007313, 32.889101],\n",
    "   [72.007313, 32.891552],\n",
    "   [72.017612, 32.891552],\n",
    "   [72.017612, 32.889101],\n",
    "   [72.007313, 32.889101]]],\n",
    " [[[72.009716, 32.877281],\n",
    "   [72.009716, 32.879875],\n",
    "   [72.012463, 32.879875],\n",
    "   [72.012463, 32.877281],\n",
    "   [72.009716, 32.877281]]],\n",
    " [[[72.052116, 32.851903],\n",
    "   [72.052116, 32.855364],\n",
    "   [72.060356, 32.855364],\n",
    "   [72.060356, 32.851903],\n",
    "   [72.052116, 32.851903]]]])"
   ]
  },
  {
   "cell_type": "code",
   "execution_count": 22,
   "id": "868d6961-5a8f-45fd-b719-112feb5f387b",
   "metadata": {},
   "outputs": [
    {
     "data": {
      "text/html": [
       "\n",
       "            <style>\n",
       "                .geemap-dark {\n",
       "                    --jp-widgets-color: white;\n",
       "                    --jp-widgets-label-color: white;\n",
       "                    --jp-ui-font-color1: white;\n",
       "                    --jp-layout-color2: #454545;\n",
       "                    background-color: #383838;\n",
       "                }\n",
       "\n",
       "                .geemap-dark .jupyter-button {\n",
       "                    --jp-layout-color3: #383838;\n",
       "                }\n",
       "\n",
       "                .geemap-colab {\n",
       "                    background-color: var(--colab-primary-surface-color, white);\n",
       "                }\n",
       "\n",
       "                .geemap-colab .jupyter-button {\n",
       "                    --jp-layout-color3: var(--colab-primary-surface-color, white);\n",
       "                }\n",
       "            </style>\n",
       "            "
      ],
      "text/plain": [
       "<IPython.core.display.HTML object>"
      ]
     },
     "metadata": {},
     "output_type": "display_data"
    }
   ],
   "source": [
    "#Feature collection of all classes\n",
    "polygons = ee.FeatureCollection([\n",
    "  ee.Feature(bareSamples, {'class': 0}),\n",
    "  ee.Feature(denseVegetation, {'class': 1}),\n",
    "  ee.Feature(sparseVegetation, {'class': 2}),\n",
    "  ee.Feature(urbanSamples, {'class': 3}),\n",
    "  ee.Feature(waterSamples, {'class': 4}),\n",
    "    \n",
    "])"
   ]
  },
  {
   "cell_type": "code",
   "execution_count": 18,
   "id": "d4a7b916-9f89-434e-b13a-0dae2cd60924",
   "metadata": {},
   "outputs": [
    {
     "data": {
      "text/html": [
       "\n",
       "            <style>\n",
       "                .geemap-dark {\n",
       "                    --jp-widgets-color: white;\n",
       "                    --jp-widgets-label-color: white;\n",
       "                    --jp-ui-font-color1: white;\n",
       "                    --jp-layout-color2: #454545;\n",
       "                    background-color: #383838;\n",
       "                }\n",
       "\n",
       "                .geemap-dark .jupyter-button {\n",
       "                    --jp-layout-color3: #383838;\n",
       "                }\n",
       "\n",
       "                .geemap-colab {\n",
       "                    background-color: var(--colab-primary-surface-color, white);\n",
       "                }\n",
       "\n",
       "                .geemap-colab .jupyter-button {\n",
       "                    --jp-layout-color3: var(--colab-primary-surface-color, white);\n",
       "                }\n",
       "            </style>\n",
       "            "
      ],
      "text/plain": [
       "<IPython.core.display.HTML object>"
      ]
     },
     "metadata": {},
     "output_type": "display_data"
    },
    {
     "data": {
      "text/html": [
       "<div><style>:root {\n",
       "  --font-color-primary: var(--jp-content-font-color0, rgba(0, 0, 0, 1));\n",
       "  --font-color-secondary: var(--jp-content-font-color2, rgba(0, 0, 0, 0.6));\n",
       "  --font-color-accent: rgba(123, 31, 162, 1);\n",
       "  --border-color: var(--jp-border-color2, #e0e0e0);\n",
       "  --background-color: var(--jp-layout-color0, white);\n",
       "  --background-color-row-even: var(--jp-layout-color1, white);\n",
       "  --background-color-row-odd: var(--jp-layout-color2, #eeeeee);\n",
       "}\n",
       "\n",
       "html[theme=\"dark\"],\n",
       "body[data-theme=\"dark\"],\n",
       "body.vscode-dark {\n",
       "  --font-color-primary: rgba(255, 255, 255, 1);\n",
       "  --font-color-secondary: rgba(255, 255, 255, 0.6);\n",
       "  --font-color-accent: rgb(173, 132, 190);\n",
       "  --border-color: #2e2e2e;\n",
       "  --background-color: #111111;\n",
       "  --background-color-row-even: #111111;\n",
       "  --background-color-row-odd: #313131;\n",
       "}\n",
       "\n",
       ".ee {\n",
       "  padding: 1em;\n",
       "  line-height: 1.5em;\n",
       "  min-width: 300px;\n",
       "  max-width: 1200px;\n",
       "  overflow-y: scroll;\n",
       "  max-height: 600px;\n",
       "  border: 1px solid var(--border-color);\n",
       "  font-family: monospace;\n",
       "}\n",
       "\n",
       ".ee li {\n",
       "  list-style-type: none;\n",
       "}\n",
       "\n",
       ".ee ul {\n",
       "  padding-left: 1.5em !important;\n",
       "  margin: 0;\n",
       "}\n",
       "\n",
       ".ee > ul {\n",
       "  padding-left: 0 !important;\n",
       "}\n",
       "\n",
       ".ee-open,\n",
       ".ee-shut {\n",
       "  color: var(--font-color-secondary);\n",
       "  cursor: pointer;\n",
       "  margin: 0;\n",
       "}\n",
       "\n",
       ".ee-open:hover,\n",
       ".ee-shut:hover {\n",
       "  color: var(--font-color-primary);\n",
       "}\n",
       "\n",
       ".ee-k {\n",
       "  color: var(--font-color-accent);\n",
       "  margin-right: 6px;\n",
       "}\n",
       "\n",
       ".ee-v {\n",
       "  color: var(--font-color-primary);\n",
       "}\n",
       "\n",
       ".ee-toggle {\n",
       "  display: none;\n",
       "}\n",
       "\n",
       ".ee-shut + ul {\n",
       "  display: none;\n",
       "}\n",
       "\n",
       ".ee-open + ul {\n",
       "  display: block;\n",
       "}\n",
       "\n",
       ".ee-shut::before {\n",
       "  display: inline-block;\n",
       "  content: \"▼\";\n",
       "  margin-right: 6px;\n",
       "  transform: rotate(-90deg);\n",
       "  transition: transform 0.2s;\n",
       "}\n",
       "\n",
       ".ee-open::before {\n",
       "  transform: rotate(0deg);\n",
       "  display: inline-block;\n",
       "  content: \"▼\";\n",
       "  margin-right: 6px;\n",
       "  transition: transform 0.2s;\n",
       "}\n",
       "</style><div class='ee'><ul><li><label class='ee-shut'>FeatureCollection (5 elements, 2 columns)<input type='checkbox' class='ee-toggle'></label><ul><li><span class='ee-k'>type:</span><span class='ee-v'>FeatureCollection</span></li><li><label class='ee-shut'>columns: Object (2 properties)<input type='checkbox' class='ee-toggle'></label><ul><li><span class='ee-k'>class:</span><span class='ee-v'>Integer</span></li><li><span class='ee-k'>system:index:</span><span class='ee-v'>String</span></li></ul></li><li><label class='ee-shut'>features: List (5 elements)<input type='checkbox' class='ee-toggle'></label><ul><li><label class='ee-shut'>0: Feature (MultiPolygon, 1 property)<input type='checkbox' class='ee-toggle'></label><ul><li><span class='ee-k'>type:</span><span class='ee-v'>Feature</span></li><li><span class='ee-k'>id:</span><span class='ee-v'>0</span></li><li><label class='ee-shut'>geometry: MultiPolygon (5 vertices)<input type='checkbox' class='ee-toggle'></label><ul><li><span class='ee-k'>type:</span><span class='ee-v'>MultiPolygon</span></li><li><label class='ee-shut'>coordinates: List (21 elements)<input type='checkbox' class='ee-toggle'></label><ul><li><label class='ee-shut'>0: List (1 element)<input type='checkbox' class='ee-toggle'></label><ul><li><label class='ee-shut'>0: List (5 elements)<input type='checkbox' class='ee-toggle'></label><ul><li><label class='ee-shut'>0: [72.429342, 33.766055]<input type='checkbox' class='ee-toggle'></label><ul><li><span class='ee-k'>0:</span><span class='ee-v'>72.429342</span></li><li><span class='ee-k'>1:</span><span class='ee-v'>33.766055</span></li></ul></li><li><label class='ee-shut'>1: [72.430372, 33.766055]<input type='checkbox' class='ee-toggle'></label><ul><li><span class='ee-k'>0:</span><span class='ee-v'>72.430372</span></li><li><span class='ee-k'>1:</span><span class='ee-v'>33.766055</span></li></ul></li><li><label class='ee-shut'>2: [72.430372, 33.767125]<input type='checkbox' class='ee-toggle'></label><ul><li><span class='ee-k'>0:</span><span class='ee-v'>72.430372</span></li><li><span class='ee-k'>1:</span><span class='ee-v'>33.767125</span></li></ul></li><li><label class='ee-shut'>3: [72.429342, 33.767125]<input type='checkbox' class='ee-toggle'></label><ul><li><span class='ee-k'>0:</span><span class='ee-v'>72.429342</span></li><li><span class='ee-k'>1:</span><span class='ee-v'>33.767125</span></li></ul></li><li><label class='ee-shut'>4: [72.429342, 33.766055]<input type='checkbox' class='ee-toggle'></label><ul><li><span class='ee-k'>0:</span><span class='ee-v'>72.429342</span></li><li><span class='ee-k'>1:</span><span class='ee-v'>33.766055</span></li></ul></li></ul></li></ul></li><li><label class='ee-shut'>1: List (1 element)<input type='checkbox' class='ee-toggle'></label><ul><li><label class='ee-shut'>0: List (5 elements)<input type='checkbox' class='ee-toggle'></label><ul><li><label class='ee-shut'>0: [72.428741, 33.764164]<input type='checkbox' class='ee-toggle'></label><ul><li><span class='ee-k'>0:</span><span class='ee-v'>72.428741</span></li><li><span class='ee-k'>1:</span><span class='ee-v'>33.764164</span></li></ul></li><li><label class='ee-shut'>1: [72.431359, 33.764164]<input type='checkbox' class='ee-toggle'></label><ul><li><span class='ee-k'>0:</span><span class='ee-v'>72.431359</span></li><li><span class='ee-k'>1:</span><span class='ee-v'>33.764164</span></li></ul></li><li><label class='ee-shut'>2: [72.431359, 33.765306]<input type='checkbox' class='ee-toggle'></label><ul><li><span class='ee-k'>0:</span><span class='ee-v'>72.431359</span></li><li><span class='ee-k'>1:</span><span class='ee-v'>33.765306</span></li></ul></li><li><label class='ee-shut'>3: [72.428741, 33.765306]<input type='checkbox' class='ee-toggle'></label><ul><li><span class='ee-k'>0:</span><span class='ee-v'>72.428741</span></li><li><span class='ee-k'>1:</span><span class='ee-v'>33.765306</span></li></ul></li><li><label class='ee-shut'>4: [72.428741, 33.764164]<input type='checkbox' class='ee-toggle'></label><ul><li><span class='ee-k'>0:</span><span class='ee-v'>72.428741</span></li><li><span class='ee-k'>1:</span><span class='ee-v'>33.764164</span></li></ul></li></ul></li></ul></li><li><label class='ee-shut'>2: List (1 element)<input type='checkbox' class='ee-toggle'></label><ul><li><label class='ee-shut'>0: List (5 elements)<input type='checkbox' class='ee-toggle'></label><ul><li><label class='ee-shut'>0: [72.424536, 33.763451]<input type='checkbox' class='ee-toggle'></label><ul><li><span class='ee-k'>0:</span><span class='ee-v'>72.424536</span></li><li><span class='ee-k'>1:</span><span class='ee-v'>33.763451</span></li></ul></li><li><label class='ee-shut'>1: [72.427111, 33.763451]<input type='checkbox' class='ee-toggle'></label><ul><li><span class='ee-k'>0:</span><span class='ee-v'>72.427111</span></li><li><span class='ee-k'>1:</span><span class='ee-v'>33.763451</span></li></ul></li><li><label class='ee-shut'>2: [72.427111, 33.764592]<input type='checkbox' class='ee-toggle'></label><ul><li><span class='ee-k'>0:</span><span class='ee-v'>72.427111</span></li><li><span class='ee-k'>1:</span><span class='ee-v'>33.764592</span></li></ul></li><li><label class='ee-shut'>3: [72.424536, 33.764592]<input type='checkbox' class='ee-toggle'></label><ul><li><span class='ee-k'>0:</span><span class='ee-v'>72.424536</span></li><li><span class='ee-k'>1:</span><span class='ee-v'>33.764592</span></li></ul></li><li><label class='ee-shut'>4: [72.424536, 33.763451]<input type='checkbox' class='ee-toggle'></label><ul><li><span class='ee-k'>0:</span><span class='ee-v'>72.424536</span></li><li><span class='ee-k'>1:</span><span class='ee-v'>33.763451</span></li></ul></li></ul></li></ul></li><li><label class='ee-shut'>3: List (1 element)<input type='checkbox' class='ee-toggle'></label><ul><li><label class='ee-shut'>0: List (5 elements)<input type='checkbox' class='ee-toggle'></label><ul><li><label class='ee-shut'>0: [72.454705, 33.756886]<input type='checkbox' class='ee-toggle'></label><ul><li><span class='ee-k'>0:</span><span class='ee-v'>72.454705</span></li><li><span class='ee-k'>1:</span><span class='ee-v'>33.756886</span></li></ul></li><li><label class='ee-shut'>1: [72.457666, 33.756886]<input type='checkbox' class='ee-toggle'></label><ul><li><span class='ee-k'>0:</span><span class='ee-v'>72.457666</span></li><li><span class='ee-k'>1:</span><span class='ee-v'>33.756886</span></li></ul></li><li><label class='ee-shut'>2: [72.457666, 33.758277]<input type='checkbox' class='ee-toggle'></label><ul><li><span class='ee-k'>0:</span><span class='ee-v'>72.457666</span></li><li><span class='ee-k'>1:</span><span class='ee-v'>33.758277</span></li></ul></li><li><label class='ee-shut'>3: [72.454705, 33.758277]<input type='checkbox' class='ee-toggle'></label><ul><li><span class='ee-k'>0:</span><span class='ee-v'>72.454705</span></li><li><span class='ee-k'>1:</span><span class='ee-v'>33.758277</span></li></ul></li><li><label class='ee-shut'>4: [72.454705, 33.756886]<input type='checkbox' class='ee-toggle'></label><ul><li><span class='ee-k'>0:</span><span class='ee-v'>72.454705</span></li><li><span class='ee-k'>1:</span><span class='ee-v'>33.756886</span></li></ul></li></ul></li></ul></li><li><label class='ee-shut'>4: List (1 element)<input type='checkbox' class='ee-toggle'></label><ul><li><label class='ee-shut'>0: List (5 elements)<input type='checkbox' class='ee-toggle'></label><ul><li><label class='ee-shut'>0: [72.463074, 33.752069]<input type='checkbox' class='ee-toggle'></label><ul><li><span class='ee-k'>0:</span><span class='ee-v'>72.463074</span></li><li><span class='ee-k'>1:</span><span class='ee-v'>33.752069</span></li></ul></li><li><label class='ee-shut'>1: [72.466636, 33.752069]<input type='checkbox' class='ee-toggle'></label><ul><li><span class='ee-k'>0:</span><span class='ee-v'>72.466636</span></li><li><span class='ee-k'>1:</span><span class='ee-v'>33.752069</span></li></ul></li><li><label class='ee-shut'>2: [72.466636, 33.753318]<input type='checkbox' class='ee-toggle'></label><ul><li><span class='ee-k'>0:</span><span class='ee-v'>72.466636</span></li><li><span class='ee-k'>1:</span><span class='ee-v'>33.753318</span></li></ul></li><li><label class='ee-shut'>3: [72.463074, 33.753318]<input type='checkbox' class='ee-toggle'></label><ul><li><span class='ee-k'>0:</span><span class='ee-v'>72.463074</span></li><li><span class='ee-k'>1:</span><span class='ee-v'>33.753318</span></li></ul></li><li><label class='ee-shut'>4: [72.463074, 33.752069]<input type='checkbox' class='ee-toggle'></label><ul><li><span class='ee-k'>0:</span><span class='ee-v'>72.463074</span></li><li><span class='ee-k'>1:</span><span class='ee-v'>33.752069</span></li></ul></li></ul></li></ul></li><li><label class='ee-shut'>5: List (1 element)<input type='checkbox' class='ee-toggle'></label><ul><li><label class='ee-shut'>0: List (5 elements)<input type='checkbox' class='ee-toggle'></label><ul><li><label class='ee-shut'>0: [72.453847, 33.761774]<input type='checkbox' class='ee-toggle'></label><ul><li><span class='ee-k'>0:</span><span class='ee-v'>72.453847</span></li><li><span class='ee-k'>1:</span><span class='ee-v'>33.761774</span></li></ul></li><li><label class='ee-shut'>1: [72.457452, 33.761774]<input type='checkbox' class='ee-toggle'></label><ul><li><span class='ee-k'>0:</span><span class='ee-v'>72.457452</span></li><li><span class='ee-k'>1:</span><span class='ee-v'>33.761774</span></li></ul></li><li><label class='ee-shut'>2: [72.457452, 33.763201]<input type='checkbox' class='ee-toggle'></label><ul><li><span class='ee-k'>0:</span><span class='ee-v'>72.457452</span></li><li><span class='ee-k'>1:</span><span class='ee-v'>33.763201</span></li></ul></li><li><label class='ee-shut'>3: [72.453847, 33.763201]<input type='checkbox' class='ee-toggle'></label><ul><li><span class='ee-k'>0:</span><span class='ee-v'>72.453847</span></li><li><span class='ee-k'>1:</span><span class='ee-v'>33.763201</span></li></ul></li><li><label class='ee-shut'>4: [72.453847, 33.761774]<input type='checkbox' class='ee-toggle'></label><ul><li><span class='ee-k'>0:</span><span class='ee-v'>72.453847</span></li><li><span class='ee-k'>1:</span><span class='ee-v'>33.761774</span></li></ul></li></ul></li></ul></li><li><label class='ee-shut'>6: List (1 element)<input type='checkbox' class='ee-toggle'></label><ul><li><label class='ee-shut'>0: List (5 elements)<input type='checkbox' class='ee-toggle'></label><ul><li><label class='ee-shut'>0: [72.397842, 33.70492]<input type='checkbox' class='ee-toggle'></label><ul><li><span class='ee-k'>0:</span><span class='ee-v'>72.397842</span></li><li><span class='ee-k'>1:</span><span class='ee-v'>33.70492</span></li></ul></li><li><label class='ee-shut'>1: [72.404709, 33.70492]<input type='checkbox' class='ee-toggle'></label><ul><li><span class='ee-k'>0:</span><span class='ee-v'>72.404709</span></li><li><span class='ee-k'>1:</span><span class='ee-v'>33.70492</span></li></ul></li><li><label class='ee-shut'>2: [72.404709, 33.710632]<input type='checkbox' class='ee-toggle'></label><ul><li><span class='ee-k'>0:</span><span class='ee-v'>72.404709</span></li><li><span class='ee-k'>1:</span><span class='ee-v'>33.710632</span></li></ul></li><li><label class='ee-shut'>3: [72.397842, 33.710632]<input type='checkbox' class='ee-toggle'></label><ul><li><span class='ee-k'>0:</span><span class='ee-v'>72.397842</span></li><li><span class='ee-k'>1:</span><span class='ee-v'>33.710632</span></li></ul></li><li><label class='ee-shut'>4: [72.397842, 33.70492]<input type='checkbox' class='ee-toggle'></label><ul><li><span class='ee-k'>0:</span><span class='ee-v'>72.397842</span></li><li><span class='ee-k'>1:</span><span class='ee-v'>33.70492</span></li></ul></li></ul></li></ul></li><li><label class='ee-shut'>7: List (1 element)<input type='checkbox' class='ee-toggle'></label><ul><li><label class='ee-shut'>0: List (5 elements)<input type='checkbox' class='ee-toggle'></label><ul><li><label class='ee-shut'>0: [72.396812, 33.691781]<input type='checkbox' class='ee-toggle'></label><ul><li><span class='ee-k'>0:</span><span class='ee-v'>72.396812</span></li><li><span class='ee-k'>1:</span><span class='ee-v'>33.691781</span></li></ul></li><li><label class='ee-shut'>1: [72.404022, 33.691781]<input type='checkbox' class='ee-toggle'></label><ul><li><span class='ee-k'>0:</span><span class='ee-v'>72.404022</span></li><li><span class='ee-k'>1:</span><span class='ee-v'>33.691781</span></li></ul></li><li><label class='ee-shut'>2: [72.404022, 33.694209]<input type='checkbox' class='ee-toggle'></label><ul><li><span class='ee-k'>0:</span><span class='ee-v'>72.404022</span></li><li><span class='ee-k'>1:</span><span class='ee-v'>33.694209</span></li></ul></li><li><label class='ee-shut'>3: [72.396812, 33.694209]<input type='checkbox' class='ee-toggle'></label><ul><li><span class='ee-k'>0:</span><span class='ee-v'>72.396812</span></li><li><span class='ee-k'>1:</span><span class='ee-v'>33.694209</span></li></ul></li><li><label class='ee-shut'>4: [72.396812, 33.691781]<input type='checkbox' class='ee-toggle'></label><ul><li><span class='ee-k'>0:</span><span class='ee-v'>72.396812</span></li><li><span class='ee-k'>1:</span><span class='ee-v'>33.691781</span></li></ul></li></ul></li></ul></li><li><label class='ee-shut'>8: List (1 element)<input type='checkbox' class='ee-toggle'></label><ul><li><label class='ee-shut'>0: List (5 elements)<input type='checkbox' class='ee-toggle'></label><ul><li><label class='ee-shut'>0: [72.405052, 33.710775]<input type='checkbox' class='ee-toggle'></label><ul><li><span class='ee-k'>0:</span><span class='ee-v'>72.405052</span></li><li><span class='ee-k'>1:</span><span class='ee-v'>33.710775</span></li></ul></li><li><label class='ee-shut'>1: [72.412605, 33.710775]<input type='checkbox' class='ee-toggle'></label><ul><li><span class='ee-k'>0:</span><span class='ee-v'>72.412605</span></li><li><span class='ee-k'>1:</span><span class='ee-v'>33.710775</span></li></ul></li><li><label class='ee-shut'>2: [72.412605, 33.713631]<input type='checkbox' class='ee-toggle'></label><ul><li><span class='ee-k'>0:</span><span class='ee-v'>72.412605</span></li><li><span class='ee-k'>1:</span><span class='ee-v'>33.713631</span></li></ul></li><li><label class='ee-shut'>3: [72.405052, 33.713631]<input type='checkbox' class='ee-toggle'></label><ul><li><span class='ee-k'>0:</span><span class='ee-v'>72.405052</span></li><li><span class='ee-k'>1:</span><span class='ee-v'>33.713631</span></li></ul></li><li><label class='ee-shut'>4: [72.405052, 33.710775]<input type='checkbox' class='ee-toggle'></label><ul><li><span class='ee-k'>0:</span><span class='ee-v'>72.405052</span></li><li><span class='ee-k'>1:</span><span class='ee-v'>33.710775</span></li></ul></li></ul></li></ul></li><li><label class='ee-shut'>9: List (1 element)<input type='checkbox' class='ee-toggle'></label><ul><li><label class='ee-shut'>0: List (5 elements)<input type='checkbox' class='ee-toggle'></label><ul><li><label class='ee-shut'>0: [72.405953, 33.707776]<input type='checkbox' class='ee-toggle'></label><ul><li><span class='ee-k'>0:</span><span class='ee-v'>72.405953</span></li><li><span class='ee-k'>1:</span><span class='ee-v'>33.707776</span></li></ul></li><li><label class='ee-shut'>1: [72.409086, 33.707776]<input type='checkbox' class='ee-toggle'></label><ul><li><span class='ee-k'>0:</span><span class='ee-v'>72.409086</span></li><li><span class='ee-k'>1:</span><span class='ee-v'>33.707776</span></li></ul></li><li><label class='ee-shut'>2: [72.409086, 33.709454]<input type='checkbox' class='ee-toggle'></label><ul><li><span class='ee-k'>0:</span><span class='ee-v'>72.409086</span></li><li><span class='ee-k'>1:</span><span class='ee-v'>33.709454</span></li></ul></li><li><label class='ee-shut'>3: [72.405953, 33.709454]<input type='checkbox' class='ee-toggle'></label><ul><li><span class='ee-k'>0:</span><span class='ee-v'>72.405953</span></li><li><span class='ee-k'>1:</span><span class='ee-v'>33.709454</span></li></ul></li><li><label class='ee-shut'>4: [72.405953, 33.707776]<input type='checkbox' class='ee-toggle'></label><ul><li><span class='ee-k'>0:</span><span class='ee-v'>72.405953</span></li><li><span class='ee-k'>1:</span><span class='ee-v'>33.707776</span></li></ul></li></ul></li></ul></li><li><label class='ee-shut'>10: List (1 element)<input type='checkbox' class='ee-toggle'></label><ul><li><label class='ee-shut'>0: List (5 elements)<input type='checkbox' class='ee-toggle'></label><ul><li><label class='ee-shut'>0: [72.401834, 33.700957]<input type='checkbox' class='ee-toggle'></label><ul><li><span class='ee-k'>0:</span><span class='ee-v'>72.401834</span></li><li><span class='ee-k'>1:</span><span class='ee-v'>33.700957</span></li></ul></li><li><label class='ee-shut'>1: [72.405953, 33.700957]<input type='checkbox' class='ee-toggle'></label><ul><li><span class='ee-k'>0:</span><span class='ee-v'>72.405953</span></li><li><span class='ee-k'>1:</span><span class='ee-v'>33.700957</span></li></ul></li><li><label class='ee-shut'>2: [72.405953, 33.703207]<input type='checkbox' class='ee-toggle'></label><ul><li><span class='ee-k'>0:</span><span class='ee-v'>72.405953</span></li><li><span class='ee-k'>1:</span><span class='ee-v'>33.703207</span></li></ul></li><li><label class='ee-shut'>3: [72.401834, 33.703207]<input type='checkbox' class='ee-toggle'></label><ul><li><span class='ee-k'>0:</span><span class='ee-v'>72.401834</span></li><li><span class='ee-k'>1:</span><span class='ee-v'>33.703207</span></li></ul></li><li><label class='ee-shut'>4: [72.401834, 33.700957]<input type='checkbox' class='ee-toggle'></label><ul><li><span class='ee-k'>0:</span><span class='ee-v'>72.401834</span></li><li><span class='ee-k'>1:</span><span class='ee-v'>33.700957</span></li></ul></li></ul></li></ul></li><li><label class='ee-shut'>11: List (1 element)<input type='checkbox' class='ee-toggle'></label><ul><li><label class='ee-shut'>0: List (5 elements)<input type='checkbox' class='ee-toggle'></label><ul><li><label class='ee-shut'>0: [72.272186, 33.724768]<input type='checkbox' class='ee-toggle'></label><ul><li><span class='ee-k'>0:</span><span class='ee-v'>72.272186</span></li><li><span class='ee-k'>1:</span><span class='ee-v'>33.724768</span></li></ul></li><li><label class='ee-shut'>1: [72.282143, 33.724768]<input type='checkbox' class='ee-toggle'></label><ul><li><span class='ee-k'>0:</span><span class='ee-v'>72.282143</span></li><li><span class='ee-k'>1:</span><span class='ee-v'>33.724768</span></li></ul></li><li><label class='ee-shut'>2: [72.282143, 33.727909]<input type='checkbox' class='ee-toggle'></label><ul><li><span class='ee-k'>0:</span><span class='ee-v'>72.282143</span></li><li><span class='ee-k'>1:</span><span class='ee-v'>33.727909</span></li></ul></li><li><label class='ee-shut'>3: [72.272186, 33.727909]<input type='checkbox' class='ee-toggle'></label><ul><li><span class='ee-k'>0:</span><span class='ee-v'>72.272186</span></li><li><span class='ee-k'>1:</span><span class='ee-v'>33.727909</span></li></ul></li><li><label class='ee-shut'>4: [72.272186, 33.724768]<input type='checkbox' class='ee-toggle'></label><ul><li><span class='ee-k'>0:</span><span class='ee-v'>72.272186</span></li><li><span class='ee-k'>1:</span><span class='ee-v'>33.724768</span></li></ul></li></ul></li></ul></li><li><label class='ee-shut'>12: List (1 element)<input type='checkbox' class='ee-toggle'></label><ul><li><label class='ee-shut'>0: List (5 elements)<input type='checkbox' class='ee-toggle'></label><ul><li><label class='ee-shut'>0: [72.295876, 33.195604]<input type='checkbox' class='ee-toggle'></label><ul><li><span class='ee-k'>0:</span><span class='ee-v'>72.295876</span></li><li><span class='ee-k'>1:</span><span class='ee-v'>33.195604</span></li></ul></li><li><label class='ee-shut'>1: [72.306862, 33.195604]<input type='checkbox' class='ee-toggle'></label><ul><li><span class='ee-k'>0:</span><span class='ee-v'>72.306862</span></li><li><span class='ee-k'>1:</span><span class='ee-v'>33.195604</span></li></ul></li><li><label class='ee-shut'>2: [72.306862, 33.201924]<input type='checkbox' class='ee-toggle'></label><ul><li><span class='ee-k'>0:</span><span class='ee-v'>72.306862</span></li><li><span class='ee-k'>1:</span><span class='ee-v'>33.201924</span></li></ul></li><li><label class='ee-shut'>3: [72.295876, 33.201924]<input type='checkbox' class='ee-toggle'></label><ul><li><span class='ee-k'>0:</span><span class='ee-v'>72.295876</span></li><li><span class='ee-k'>1:</span><span class='ee-v'>33.201924</span></li></ul></li><li><label class='ee-shut'>4: [72.295876, 33.195604]<input type='checkbox' class='ee-toggle'></label><ul><li><span class='ee-k'>0:</span><span class='ee-v'>72.295876</span></li><li><span class='ee-k'>1:</span><span class='ee-v'>33.195604</span></li></ul></li></ul></li></ul></li><li><label class='ee-shut'>13: List (1 element)<input type='checkbox' class='ee-toggle'></label><ul><li><label class='ee-shut'>0: List (5 elements)<input type='checkbox' class='ee-toggle'></label><ul><li><label class='ee-shut'>0: [72.360077, 33.218584]<input type='checkbox' class='ee-toggle'></label><ul><li><span class='ee-k'>0:</span><span class='ee-v'>72.360077</span></li><li><span class='ee-k'>1:</span><span class='ee-v'>33.218584</span></li></ul></li><li><label class='ee-shut'>1: [72.384453, 33.218584]<input type='checkbox' class='ee-toggle'></label><ul><li><span class='ee-k'>0:</span><span class='ee-v'>72.384453</span></li><li><span class='ee-k'>1:</span><span class='ee-v'>33.218584</span></li></ul></li><li><label class='ee-shut'>2: [72.384453, 33.229498]<input type='checkbox' class='ee-toggle'></label><ul><li><span class='ee-k'>0:</span><span class='ee-v'>72.384453</span></li><li><span class='ee-k'>1:</span><span class='ee-v'>33.229498</span></li></ul></li><li><label class='ee-shut'>3: [72.360077, 33.229498]<input type='checkbox' class='ee-toggle'></label><ul><li><span class='ee-k'>0:</span><span class='ee-v'>72.360077</span></li><li><span class='ee-k'>1:</span><span class='ee-v'>33.229498</span></li></ul></li><li><label class='ee-shut'>4: [72.360077, 33.218584]<input type='checkbox' class='ee-toggle'></label><ul><li><span class='ee-k'>0:</span><span class='ee-v'>72.360077</span></li><li><span class='ee-k'>1:</span><span class='ee-v'>33.218584</span></li></ul></li></ul></li></ul></li><li><label class='ee-shut'>14: List (1 element)<input type='checkbox' class='ee-toggle'></label><ul><li><label class='ee-shut'>0: List (5 elements)<input type='checkbox' class='ee-toggle'></label><ul><li><label class='ee-shut'>0: [72.256737, 33.182675]<input type='checkbox' class='ee-toggle'></label><ul><li><span class='ee-k'>0:</span><span class='ee-v'>72.256737</span></li><li><span class='ee-k'>1:</span><span class='ee-v'>33.182675</span></li></ul></li><li><label class='ee-shut'>1: [72.280083, 33.182675]<input type='checkbox' class='ee-toggle'></label><ul><li><span class='ee-k'>0:</span><span class='ee-v'>72.280083</span></li><li><span class='ee-k'>1:</span><span class='ee-v'>33.182675</span></li></ul></li><li><label class='ee-shut'>2: [72.280083, 33.191582]<input type='checkbox' class='ee-toggle'></label><ul><li><span class='ee-k'>0:</span><span class='ee-v'>72.280083</span></li><li><span class='ee-k'>1:</span><span class='ee-v'>33.191582</span></li></ul></li><li><label class='ee-shut'>3: [72.256737, 33.191582]<input type='checkbox' class='ee-toggle'></label><ul><li><span class='ee-k'>0:</span><span class='ee-v'>72.256737</span></li><li><span class='ee-k'>1:</span><span class='ee-v'>33.191582</span></li></ul></li><li><label class='ee-shut'>4: [72.256737, 33.182675]<input type='checkbox' class='ee-toggle'></label><ul><li><span class='ee-k'>0:</span><span class='ee-v'>72.256737</span></li><li><span class='ee-k'>1:</span><span class='ee-v'>33.182675</span></li></ul></li></ul></li></ul></li><li><label class='ee-shut'>15: List (1 element)<input type='checkbox' class='ee-toggle'></label><ul><li><label class='ee-shut'>0: List (5 elements)<input type='checkbox' class='ee-toggle'></label><ul><li><label class='ee-shut'>0: [71.834106, 32.754942]<input type='checkbox' class='ee-toggle'></label><ul><li><span class='ee-k'>0:</span><span class='ee-v'>71.834106</span></li><li><span class='ee-k'>1:</span><span class='ee-v'>32.754942</span></li></ul></li><li><label class='ee-shut'>1: [71.904144, 32.754942]<input type='checkbox' class='ee-toggle'></label><ul><li><span class='ee-k'>0:</span><span class='ee-v'>71.904144</span></li><li><span class='ee-k'>1:</span><span class='ee-v'>32.754942</span></li></ul></li><li><label class='ee-shut'>2: [71.904144, 32.787275]<input type='checkbox' class='ee-toggle'></label><ul><li><span class='ee-k'>0:</span><span class='ee-v'>71.904144</span></li><li><span class='ee-k'>1:</span><span class='ee-v'>32.787275</span></li></ul></li><li><label class='ee-shut'>3: [71.834106, 32.787275]<input type='checkbox' class='ee-toggle'></label><ul><li><span class='ee-k'>0:</span><span class='ee-v'>71.834106</span></li><li><span class='ee-k'>1:</span><span class='ee-v'>32.787275</span></li></ul></li><li><label class='ee-shut'>4: [71.834106, 32.754942]<input type='checkbox' class='ee-toggle'></label><ul><li><span class='ee-k'>0:</span><span class='ee-v'>71.834106</span></li><li><span class='ee-k'>1:</span><span class='ee-v'>32.754942</span></li></ul></li></ul></li></ul></li><li><label class='ee-shut'>16: List (1 element)<input type='checkbox' class='ee-toggle'></label><ul><li><label class='ee-shut'>0: List (5 elements)<input type='checkbox' class='ee-toggle'></label><ul><li><label class='ee-shut'>0: [72.05864, 32.863439]<input type='checkbox' class='ee-toggle'></label><ul><li><span class='ee-k'>0:</span><span class='ee-v'>72.05864</span></li><li><span class='ee-k'>1:</span><span class='ee-v'>32.863439</span></li></ul></li><li><label class='ee-shut'>1: [72.070141, 32.863439]<input type='checkbox' class='ee-toggle'></label><ul><li><span class='ee-k'>0:</span><span class='ee-v'>72.070141</span></li><li><span class='ee-k'>1:</span><span class='ee-v'>32.863439</span></li></ul></li><li><label class='ee-shut'>2: [72.070141, 32.867477]<input type='checkbox' class='ee-toggle'></label><ul><li><span class='ee-k'>0:</span><span class='ee-v'>72.070141</span></li><li><span class='ee-k'>1:</span><span class='ee-v'>32.867477</span></li></ul></li><li><label class='ee-shut'>3: [72.05864, 32.867477]<input type='checkbox' class='ee-toggle'></label><ul><li><span class='ee-k'>0:</span><span class='ee-v'>72.05864</span></li><li><span class='ee-k'>1:</span><span class='ee-v'>32.867477</span></li></ul></li><li><label class='ee-shut'>4: [72.05864, 32.863439]<input type='checkbox' class='ee-toggle'></label><ul><li><span class='ee-k'>0:</span><span class='ee-v'>72.05864</span></li><li><span class='ee-k'>1:</span><span class='ee-v'>32.863439</span></li></ul></li></ul></li></ul></li><li><label class='ee-shut'>17: List (1 element)<input type='checkbox' class='ee-toggle'></label><ul><li><label class='ee-shut'>0: List (5 elements)<input type='checkbox' class='ee-toggle'></label><ul><li><label class='ee-shut'>0: [71.998215, 32.910289]<input type='checkbox' class='ee-toggle'></label><ul><li><span class='ee-k'>0:</span><span class='ee-v'>71.998215</span></li><li><span class='ee-k'>1:</span><span class='ee-v'>32.910289</span></li></ul></li><li><label class='ee-shut'>1: [72.005253, 32.910289]<input type='checkbox' class='ee-toggle'></label><ul><li><span class='ee-k'>0:</span><span class='ee-v'>72.005253</span></li><li><span class='ee-k'>1:</span><span class='ee-v'>32.910289</span></li></ul></li><li><label class='ee-shut'>2: [72.005253, 32.918359]<input type='checkbox' class='ee-toggle'></label><ul><li><span class='ee-k'>0:</span><span class='ee-v'>72.005253</span></li><li><span class='ee-k'>1:</span><span class='ee-v'>32.918359</span></li></ul></li><li><label class='ee-shut'>3: [71.998215, 32.918359]<input type='checkbox' class='ee-toggle'></label><ul><li><span class='ee-k'>0:</span><span class='ee-v'>71.998215</span></li><li><span class='ee-k'>1:</span><span class='ee-v'>32.918359</span></li></ul></li><li><label class='ee-shut'>4: [71.998215, 32.910289]<input type='checkbox' class='ee-toggle'></label><ul><li><span class='ee-k'>0:</span><span class='ee-v'>71.998215</span></li><li><span class='ee-k'>1:</span><span class='ee-v'>32.910289</span></li></ul></li></ul></li></ul></li><li><label class='ee-shut'>18: List (1 element)<input type='checkbox' class='ee-toggle'></label><ul><li><label class='ee-shut'>0: List (5 elements)<input type='checkbox' class='ee-toggle'></label><ul><li><label class='ee-shut'>0: [72.007313, 32.889101]<input type='checkbox' class='ee-toggle'></label><ul><li><span class='ee-k'>0:</span><span class='ee-v'>72.007313</span></li><li><span class='ee-k'>1:</span><span class='ee-v'>32.889101</span></li></ul></li><li><label class='ee-shut'>1: [72.017612, 32.889101]<input type='checkbox' class='ee-toggle'></label><ul><li><span class='ee-k'>0:</span><span class='ee-v'>72.017612</span></li><li><span class='ee-k'>1:</span><span class='ee-v'>32.889101</span></li></ul></li><li><label class='ee-shut'>2: [72.017612, 32.891552]<input type='checkbox' class='ee-toggle'></label><ul><li><span class='ee-k'>0:</span><span class='ee-v'>72.017612</span></li><li><span class='ee-k'>1:</span><span class='ee-v'>32.891552</span></li></ul></li><li><label class='ee-shut'>3: [72.007313, 32.891552]<input type='checkbox' class='ee-toggle'></label><ul><li><span class='ee-k'>0:</span><span class='ee-v'>72.007313</span></li><li><span class='ee-k'>1:</span><span class='ee-v'>32.891552</span></li></ul></li><li><label class='ee-shut'>4: [72.007313, 32.889101]<input type='checkbox' class='ee-toggle'></label><ul><li><span class='ee-k'>0:</span><span class='ee-v'>72.007313</span></li><li><span class='ee-k'>1:</span><span class='ee-v'>32.889101</span></li></ul></li></ul></li></ul></li><li><label class='ee-shut'>19: List (1 element)<input type='checkbox' class='ee-toggle'></label><ul><li><label class='ee-shut'>0: List (5 elements)<input type='checkbox' class='ee-toggle'></label><ul><li><label class='ee-shut'>0: [72.009716, 32.877281]<input type='checkbox' class='ee-toggle'></label><ul><li><span class='ee-k'>0:</span><span class='ee-v'>72.009716</span></li><li><span class='ee-k'>1:</span><span class='ee-v'>32.877281</span></li></ul></li><li><label class='ee-shut'>1: [72.012463, 32.877281]<input type='checkbox' class='ee-toggle'></label><ul><li><span class='ee-k'>0:</span><span class='ee-v'>72.012463</span></li><li><span class='ee-k'>1:</span><span class='ee-v'>32.877281</span></li></ul></li><li><label class='ee-shut'>2: [72.012463, 32.879875]<input type='checkbox' class='ee-toggle'></label><ul><li><span class='ee-k'>0:</span><span class='ee-v'>72.012463</span></li><li><span class='ee-k'>1:</span><span class='ee-v'>32.879875</span></li></ul></li><li><label class='ee-shut'>3: [72.009716, 32.879875]<input type='checkbox' class='ee-toggle'></label><ul><li><span class='ee-k'>0:</span><span class='ee-v'>72.009716</span></li><li><span class='ee-k'>1:</span><span class='ee-v'>32.879875</span></li></ul></li><li><label class='ee-shut'>4: [72.009716, 32.877281]<input type='checkbox' class='ee-toggle'></label><ul><li><span class='ee-k'>0:</span><span class='ee-v'>72.009716</span></li><li><span class='ee-k'>1:</span><span class='ee-v'>32.877281</span></li></ul></li></ul></li></ul></li><li><label class='ee-shut'>20: List (1 element)<input type='checkbox' class='ee-toggle'></label><ul><li><label class='ee-shut'>0: List (5 elements)<input type='checkbox' class='ee-toggle'></label><ul><li><label class='ee-shut'>0: [72.052116, 32.851903]<input type='checkbox' class='ee-toggle'></label><ul><li><span class='ee-k'>0:</span><span class='ee-v'>72.052116</span></li><li><span class='ee-k'>1:</span><span class='ee-v'>32.851903</span></li></ul></li><li><label class='ee-shut'>1: [72.060356, 32.851903]<input type='checkbox' class='ee-toggle'></label><ul><li><span class='ee-k'>0:</span><span class='ee-v'>72.060356</span></li><li><span class='ee-k'>1:</span><span class='ee-v'>32.851903</span></li></ul></li><li><label class='ee-shut'>2: [72.060356, 32.855364]<input type='checkbox' class='ee-toggle'></label><ul><li><span class='ee-k'>0:</span><span class='ee-v'>72.060356</span></li><li><span class='ee-k'>1:</span><span class='ee-v'>32.855364</span></li></ul></li><li><label class='ee-shut'>3: [72.052116, 32.855364]<input type='checkbox' class='ee-toggle'></label><ul><li><span class='ee-k'>0:</span><span class='ee-v'>72.052116</span></li><li><span class='ee-k'>1:</span><span class='ee-v'>32.855364</span></li></ul></li><li><label class='ee-shut'>4: [72.052116, 32.851903]<input type='checkbox' class='ee-toggle'></label><ul><li><span class='ee-k'>0:</span><span class='ee-v'>72.052116</span></li><li><span class='ee-k'>1:</span><span class='ee-v'>32.851903</span></li></ul></li></ul></li></ul></li></ul></li></ul></li><li><label class='ee-shut'>properties: Object (1 property)<input type='checkbox' class='ee-toggle'></label><ul><li><span class='ee-k'>class:</span><span class='ee-v'>0</span></li></ul></li></ul></li><li><label class='ee-shut'>1: Feature (MultiPolygon, 1 property)<input type='checkbox' class='ee-toggle'></label><ul><li><span class='ee-k'>type:</span><span class='ee-v'>Feature</span></li><li><span class='ee-k'>id:</span><span class='ee-v'>1</span></li><li><label class='ee-shut'>geometry: MultiPolygon (5 vertices)<input type='checkbox' class='ee-toggle'></label><ul><li><span class='ee-k'>type:</span><span class='ee-v'>MultiPolygon</span></li><li><label class='ee-shut'>coordinates: List (18 elements)<input type='checkbox' class='ee-toggle'></label><ul><li><label class='ee-shut'>0: List (1 element)<input type='checkbox' class='ee-toggle'></label><ul><li><label class='ee-shut'>0: List (5 elements)<input type='checkbox' class='ee-toggle'></label><ul><li><label class='ee-shut'>0: [72.273388, 34.270552]<input type='checkbox' class='ee-toggle'></label><ul><li><span class='ee-k'>0:</span><span class='ee-v'>72.273388</span></li><li><span class='ee-k'>1:</span><span class='ee-v'>34.270552</span></li></ul></li><li><label class='ee-shut'>1: [72.273903, 34.263601]<input type='checkbox' class='ee-toggle'></label><ul><li><span class='ee-k'>0:</span><span class='ee-v'>72.273903</span></li><li><span class='ee-k'>1:</span><span class='ee-v'>34.263601</span></li></ul></li><li><label class='ee-shut'>2: [72.283516, 34.26431]<input type='checkbox' class='ee-toggle'></label><ul><li><span class='ee-k'>0:</span><span class='ee-v'>72.283516</span></li><li><span class='ee-k'>1:</span><span class='ee-v'>34.26431</span></li></ul></li><li><label class='ee-shut'>3: [72.283001, 34.27041]<input type='checkbox' class='ee-toggle'></label><ul><li><span class='ee-k'>0:</span><span class='ee-v'>72.283001</span></li><li><span class='ee-k'>1:</span><span class='ee-v'>34.27041</span></li></ul></li><li><label class='ee-shut'>4: [72.273388, 34.270552]<input type='checkbox' class='ee-toggle'></label><ul><li><span class='ee-k'>0:</span><span class='ee-v'>72.273388</span></li><li><span class='ee-k'>1:</span><span class='ee-v'>34.270552</span></li></ul></li></ul></li></ul></li><li><label class='ee-shut'>1: List (1 element)<input type='checkbox' class='ee-toggle'></label><ul><li><label class='ee-shut'>0: List (5 elements)<input type='checkbox' class='ee-toggle'></label><ul><li><label class='ee-shut'>0: [72.274761, 34.257784]<input type='checkbox' class='ee-toggle'></label><ul><li><span class='ee-k'>0:</span><span class='ee-v'>72.274761</span></li><li><span class='ee-k'>1:</span><span class='ee-v'>34.257784</span></li></ul></li><li><label class='ee-shut'>1: [72.282829, 34.257784]<input type='checkbox' class='ee-toggle'></label><ul><li><span class='ee-k'>0:</span><span class='ee-v'>72.282829</span></li><li><span class='ee-k'>1:</span><span class='ee-v'>34.257784</span></li></ul></li><li><label class='ee-shut'>2: [72.282829, 34.261331]<input type='checkbox' class='ee-toggle'></label><ul><li><span class='ee-k'>0:</span><span class='ee-v'>72.282829</span></li><li><span class='ee-k'>1:</span><span class='ee-v'>34.261331</span></li></ul></li><li><label class='ee-shut'>3: [72.274761, 34.261331]<input type='checkbox' class='ee-toggle'></label><ul><li><span class='ee-k'>0:</span><span class='ee-v'>72.274761</span></li><li><span class='ee-k'>1:</span><span class='ee-v'>34.261331</span></li></ul></li><li><label class='ee-shut'>4: [72.274761, 34.257784]<input type='checkbox' class='ee-toggle'></label><ul><li><span class='ee-k'>0:</span><span class='ee-v'>72.274761</span></li><li><span class='ee-k'>1:</span><span class='ee-v'>34.257784</span></li></ul></li></ul></li></ul></li><li><label class='ee-shut'>2: List (1 element)<input type='checkbox' class='ee-toggle'></label><ul><li><label class='ee-shut'>0: List (5 elements)<input type='checkbox' class='ee-toggle'></label><ul><li><label class='ee-shut'>0: [72.270727, 34.286333]<input type='checkbox' class='ee-toggle'></label><ul><li><span class='ee-k'>0:</span><span class='ee-v'>72.270727</span></li><li><span class='ee-k'>1:</span><span class='ee-v'>34.286333</span></li></ul></li><li><label class='ee-shut'>1: [72.273388, 34.286333]<input type='checkbox' class='ee-toggle'></label><ul><li><span class='ee-k'>0:</span><span class='ee-v'>72.273388</span></li><li><span class='ee-k'>1:</span><span class='ee-v'>34.286333</span></li></ul></li><li><label class='ee-shut'>2: [72.273388, 34.287609]<input type='checkbox' class='ee-toggle'></label><ul><li><span class='ee-k'>0:</span><span class='ee-v'>72.273388</span></li><li><span class='ee-k'>1:</span><span class='ee-v'>34.287609</span></li></ul></li><li><label class='ee-shut'>3: [72.270727, 34.287609]<input type='checkbox' class='ee-toggle'></label><ul><li><span class='ee-k'>0:</span><span class='ee-v'>72.270727</span></li><li><span class='ee-k'>1:</span><span class='ee-v'>34.287609</span></li></ul></li><li><label class='ee-shut'>4: [72.270727, 34.286333]<input type='checkbox' class='ee-toggle'></label><ul><li><span class='ee-k'>0:</span><span class='ee-v'>72.270727</span></li><li><span class='ee-k'>1:</span><span class='ee-v'>34.286333</span></li></ul></li></ul></li></ul></li><li><label class='ee-shut'>3: List (1 element)<input type='checkbox' class='ee-toggle'></label><ul><li><label class='ee-shut'>0: List (5 elements)<input type='checkbox' class='ee-toggle'></label><ul><li><label class='ee-shut'>0: [72.289138, 34.255691]<input type='checkbox' class='ee-toggle'></label><ul><li><span class='ee-k'>0:</span><span class='ee-v'>72.289138</span></li><li><span class='ee-k'>1:</span><span class='ee-v'>34.255691</span></li></ul></li><li><label class='ee-shut'>1: [72.293515, 34.255691]<input type='checkbox' class='ee-toggle'></label><ul><li><span class='ee-k'>0:</span><span class='ee-v'>72.293515</span></li><li><span class='ee-k'>1:</span><span class='ee-v'>34.255691</span></li></ul></li><li><label class='ee-shut'>2: [72.293515, 34.25711]<input type='checkbox' class='ee-toggle'></label><ul><li><span class='ee-k'>0:</span><span class='ee-v'>72.293515</span></li><li><span class='ee-k'>1:</span><span class='ee-v'>34.25711</span></li></ul></li><li><label class='ee-shut'>3: [72.289138, 34.25711]<input type='checkbox' class='ee-toggle'></label><ul><li><span class='ee-k'>0:</span><span class='ee-v'>72.289138</span></li><li><span class='ee-k'>1:</span><span class='ee-v'>34.25711</span></li></ul></li><li><label class='ee-shut'>4: [72.289138, 34.255691]<input type='checkbox' class='ee-toggle'></label><ul><li><span class='ee-k'>0:</span><span class='ee-v'>72.289138</span></li><li><span class='ee-k'>1:</span><span class='ee-v'>34.255691</span></li></ul></li></ul></li></ul></li><li><label class='ee-shut'>4: List (1 element)<input type='checkbox' class='ee-toggle'></label><ul><li><label class='ee-shut'>0: List (5 elements)<input type='checkbox' class='ee-toggle'></label><ul><li><label class='ee-shut'>0: [72.305059, 34.252463]<input type='checkbox' class='ee-toggle'></label><ul><li><span class='ee-k'>0:</span><span class='ee-v'>72.305059</span></li><li><span class='ee-k'>1:</span><span class='ee-v'>34.252463</span></li></ul></li><li><label class='ee-shut'>1: [72.308664, 34.252463]<input type='checkbox' class='ee-toggle'></label><ul><li><span class='ee-k'>0:</span><span class='ee-v'>72.308664</span></li><li><span class='ee-k'>1:</span><span class='ee-v'>34.252463</span></li></ul></li><li><label class='ee-shut'>2: [72.308664, 34.254166]<input type='checkbox' class='ee-toggle'></label><ul><li><span class='ee-k'>0:</span><span class='ee-v'>72.308664</span></li><li><span class='ee-k'>1:</span><span class='ee-v'>34.254166</span></li></ul></li><li><label class='ee-shut'>3: [72.305059, 34.254166]<input type='checkbox' class='ee-toggle'></label><ul><li><span class='ee-k'>0:</span><span class='ee-v'>72.305059</span></li><li><span class='ee-k'>1:</span><span class='ee-v'>34.254166</span></li></ul></li><li><label class='ee-shut'>4: [72.305059, 34.252463]<input type='checkbox' class='ee-toggle'></label><ul><li><span class='ee-k'>0:</span><span class='ee-v'>72.305059</span></li><li><span class='ee-k'>1:</span><span class='ee-v'>34.252463</span></li></ul></li></ul></li></ul></li><li><label class='ee-shut'>5: List (1 element)<input type='checkbox' class='ee-toggle'></label><ul><li><label class='ee-shut'>0: List (5 elements)<input type='checkbox' class='ee-toggle'></label><ul><li><label class='ee-shut'>0: [72.875061, 33.704063]<input type='checkbox' class='ee-toggle'></label><ul><li><span class='ee-k'>0:</span><span class='ee-v'>72.875061</span></li><li><span class='ee-k'>1:</span><span class='ee-v'>33.704063</span></li></ul></li><li><label class='ee-shut'>1: [72.89463, 33.704063]<input type='checkbox' class='ee-toggle'></label><ul><li><span class='ee-k'>0:</span><span class='ee-v'>72.89463</span></li><li><span class='ee-k'>1:</span><span class='ee-v'>33.704063</span></li></ul></li><li><label class='ee-shut'>2: [72.89463, 33.707491]<input type='checkbox' class='ee-toggle'></label><ul><li><span class='ee-k'>0:</span><span class='ee-v'>72.89463</span></li><li><span class='ee-k'>1:</span><span class='ee-v'>33.707491</span></li></ul></li><li><label class='ee-shut'>3: [72.875061, 33.707491]<input type='checkbox' class='ee-toggle'></label><ul><li><span class='ee-k'>0:</span><span class='ee-v'>72.875061</span></li><li><span class='ee-k'>1:</span><span class='ee-v'>33.707491</span></li></ul></li><li><label class='ee-shut'>4: [72.875061, 33.704063]<input type='checkbox' class='ee-toggle'></label><ul><li><span class='ee-k'>0:</span><span class='ee-v'>72.875061</span></li><li><span class='ee-k'>1:</span><span class='ee-v'>33.704063</span></li></ul></li></ul></li></ul></li><li><label class='ee-shut'>6: List (1 element)<input type='checkbox' class='ee-toggle'></label><ul><li><label class='ee-shut'>0: List (5 elements)<input type='checkbox' class='ee-toggle'></label><ul><li><label class='ee-shut'>0: [72.879782, 33.69578]<input type='checkbox' class='ee-toggle'></label><ul><li><span class='ee-k'>0:</span><span class='ee-v'>72.879782</span></li><li><span class='ee-k'>1:</span><span class='ee-v'>33.69578</span></li></ul></li><li><label class='ee-shut'>1: [72.8936, 33.69578]<input type='checkbox' class='ee-toggle'></label><ul><li><span class='ee-k'>0:</span><span class='ee-v'>72.8936</span></li><li><span class='ee-k'>1:</span><span class='ee-v'>33.69578</span></li></ul></li><li><label class='ee-shut'>2: [72.8936, 33.701707]<input type='checkbox' class='ee-toggle'></label><ul><li><span class='ee-k'>0:</span><span class='ee-v'>72.8936</span></li><li><span class='ee-k'>1:</span><span class='ee-v'>33.701707</span></li></ul></li><li><label class='ee-shut'>3: [72.879782, 33.701707]<input type='checkbox' class='ee-toggle'></label><ul><li><span class='ee-k'>0:</span><span class='ee-v'>72.879782</span></li><li><span class='ee-k'>1:</span><span class='ee-v'>33.701707</span></li></ul></li><li><label class='ee-shut'>4: [72.879782, 33.69578]<input type='checkbox' class='ee-toggle'></label><ul><li><span class='ee-k'>0:</span><span class='ee-v'>72.879782</span></li><li><span class='ee-k'>1:</span><span class='ee-v'>33.69578</span></li></ul></li></ul></li></ul></li><li><label class='ee-shut'>7: List (1 element)<input type='checkbox' class='ee-toggle'></label><ul><li><label class='ee-shut'>0: List (5 elements)<input type='checkbox' class='ee-toggle'></label><ul><li><label class='ee-shut'>0: [73.027496, 33.742327]<input type='checkbox' class='ee-toggle'></label><ul><li><span class='ee-k'>0:</span><span class='ee-v'>73.027496</span></li><li><span class='ee-k'>1:</span><span class='ee-v'>33.742327</span></li></ul></li><li><label class='ee-shut'>1: [73.051872, 33.742327]<input type='checkbox' class='ee-toggle'></label><ul><li><span class='ee-k'>0:</span><span class='ee-v'>73.051872</span></li><li><span class='ee-k'>1:</span><span class='ee-v'>33.742327</span></li></ul></li><li><label class='ee-shut'>2: [73.051872, 33.753461]<input type='checkbox' class='ee-toggle'></label><ul><li><span class='ee-k'>0:</span><span class='ee-v'>73.051872</span></li><li><span class='ee-k'>1:</span><span class='ee-v'>33.753461</span></li></ul></li><li><label class='ee-shut'>3: [73.027496, 33.753461]<input type='checkbox' class='ee-toggle'></label><ul><li><span class='ee-k'>0:</span><span class='ee-v'>73.027496</span></li><li><span class='ee-k'>1:</span><span class='ee-v'>33.753461</span></li></ul></li><li><label class='ee-shut'>4: [73.027496, 33.742327]<input type='checkbox' class='ee-toggle'></label><ul><li><span class='ee-k'>0:</span><span class='ee-v'>73.027496</span></li><li><span class='ee-k'>1:</span><span class='ee-v'>33.742327</span></li></ul></li></ul></li></ul></li><li><label class='ee-shut'>8: List (1 element)<input type='checkbox' class='ee-toggle'></label><ul><li><label class='ee-shut'>0: List (5 elements)<input type='checkbox' class='ee-toggle'></label><ul><li><label class='ee-shut'>0: [73.083115, 33.759169]<input type='checkbox' class='ee-toggle'></label><ul><li><span class='ee-k'>0:</span><span class='ee-v'>73.083115</span></li><li><span class='ee-k'>1:</span><span class='ee-v'>33.759169</span></li></ul></li><li><label class='ee-shut'>1: [73.099937, 33.759169]<input type='checkbox' class='ee-toggle'></label><ul><li><span class='ee-k'>0:</span><span class='ee-v'>73.099937</span></li><li><span class='ee-k'>1:</span><span class='ee-v'>33.759169</span></li></ul></li><li><label class='ee-shut'>2: [73.099937, 33.767732]<input type='checkbox' class='ee-toggle'></label><ul><li><span class='ee-k'>0:</span><span class='ee-v'>73.099937</span></li><li><span class='ee-k'>1:</span><span class='ee-v'>33.767732</span></li></ul></li><li><label class='ee-shut'>3: [73.083115, 33.767732]<input type='checkbox' class='ee-toggle'></label><ul><li><span class='ee-k'>0:</span><span class='ee-v'>73.083115</span></li><li><span class='ee-k'>1:</span><span class='ee-v'>33.767732</span></li></ul></li><li><label class='ee-shut'>4: [73.083115, 33.759169]<input type='checkbox' class='ee-toggle'></label><ul><li><span class='ee-k'>0:</span><span class='ee-v'>73.083115</span></li><li><span class='ee-k'>1:</span><span class='ee-v'>33.759169</span></li></ul></li></ul></li></ul></li><li><label class='ee-shut'>9: List (1 element)<input type='checkbox' class='ee-toggle'></label><ul><li><label class='ee-shut'>0: List (5 elements)<input type='checkbox' class='ee-toggle'></label><ul><li><label class='ee-shut'>0: [73.190231, 33.760597]<input type='checkbox' class='ee-toggle'></label><ul><li><span class='ee-k'>0:</span><span class='ee-v'>73.190231</span></li><li><span class='ee-k'>1:</span><span class='ee-v'>33.760597</span></li></ul></li><li><label class='ee-shut'>1: [73.201561, 33.760597]<input type='checkbox' class='ee-toggle'></label><ul><li><span class='ee-k'>0:</span><span class='ee-v'>73.201561</span></li><li><span class='ee-k'>1:</span><span class='ee-v'>33.760597</span></li></ul></li><li><label class='ee-shut'>2: [73.201561, 33.767447]<input type='checkbox' class='ee-toggle'></label><ul><li><span class='ee-k'>0:</span><span class='ee-v'>73.201561</span></li><li><span class='ee-k'>1:</span><span class='ee-v'>33.767447</span></li></ul></li><li><label class='ee-shut'>3: [73.190231, 33.767447]<input type='checkbox' class='ee-toggle'></label><ul><li><span class='ee-k'>0:</span><span class='ee-v'>73.190231</span></li><li><span class='ee-k'>1:</span><span class='ee-v'>33.767447</span></li></ul></li><li><label class='ee-shut'>4: [73.190231, 33.760597]<input type='checkbox' class='ee-toggle'></label><ul><li><span class='ee-k'>0:</span><span class='ee-v'>73.190231</span></li><li><span class='ee-k'>1:</span><span class='ee-v'>33.760597</span></li></ul></li></ul></li></ul></li><li><label class='ee-shut'>10: List (1 element)<input type='checkbox' class='ee-toggle'></label><ul><li><label class='ee-shut'>0: List (6 elements)<input type='checkbox' class='ee-toggle'></label><ul><li><label class='ee-shut'>0: [73.409271, 33.769159]<input type='checkbox' class='ee-toggle'></label><ul><li><span class='ee-k'>0:</span><span class='ee-v'>73.409271</span></li><li><span class='ee-k'>1:</span><span class='ee-v'>33.769159</span></li></ul></li><li><label class='ee-shut'>1: [73.402061, 33.753175]<input type='checkbox' class='ee-toggle'></label><ul><li><span class='ee-k'>0:</span><span class='ee-v'>73.402061</span></li><li><span class='ee-k'>1:</span><span class='ee-v'>33.753175</span></li></ul></li><li><label class='ee-shut'>2: [73.411331, 33.752319]<input type='checkbox' class='ee-toggle'></label><ul><li><span class='ee-k'>0:</span><span class='ee-v'>73.411331</span></li><li><span class='ee-k'>1:</span><span class='ee-v'>33.752319</span></li></ul></li><li><label class='ee-shut'>3: [73.420601, 33.758028]<input type='checkbox' class='ee-toggle'></label><ul><li><span class='ee-k'>0:</span><span class='ee-v'>73.420601</span></li><li><span class='ee-k'>1:</span><span class='ee-v'>33.758028</span></li></ul></li><li><label class='ee-shut'>4: [73.416824, 33.765449]<input type='checkbox' class='ee-toggle'></label><ul><li><span class='ee-k'>0:</span><span class='ee-v'>73.416824</span></li><li><span class='ee-k'>1:</span><span class='ee-v'>33.765449</span></li></ul></li><li><label class='ee-shut'>5: [73.409271, 33.769159]<input type='checkbox' class='ee-toggle'></label><ul><li><span class='ee-k'>0:</span><span class='ee-v'>73.409271</span></li><li><span class='ee-k'>1:</span><span class='ee-v'>33.769159</span></li></ul></li></ul></li></ul></li><li><label class='ee-shut'>11: List (1 element)<input type='checkbox' class='ee-toggle'></label><ul><li><label class='ee-shut'>0: List (5 elements)<input type='checkbox' class='ee-toggle'></label><ul><li><label class='ee-shut'>0: [73.24688, 33.825934]<input type='checkbox' class='ee-toggle'></label><ul><li><span class='ee-k'>0:</span><span class='ee-v'>73.24688</span></li><li><span class='ee-k'>1:</span><span class='ee-v'>33.825934</span></li></ul></li><li><label class='ee-shut'>1: [73.257523, 33.825934]<input type='checkbox' class='ee-toggle'></label><ul><li><span class='ee-k'>0:</span><span class='ee-v'>73.257523</span></li><li><span class='ee-k'>1:</span><span class='ee-v'>33.825934</span></li></ul></li><li><label class='ee-shut'>2: [73.257523, 33.830212]<input type='checkbox' class='ee-toggle'></label><ul><li><span class='ee-k'>0:</span><span class='ee-v'>73.257523</span></li><li><span class='ee-k'>1:</span><span class='ee-v'>33.830212</span></li></ul></li><li><label class='ee-shut'>3: [73.24688, 33.830212]<input type='checkbox' class='ee-toggle'></label><ul><li><span class='ee-k'>0:</span><span class='ee-v'>73.24688</span></li><li><span class='ee-k'>1:</span><span class='ee-v'>33.830212</span></li></ul></li><li><label class='ee-shut'>4: [73.24688, 33.825934]<input type='checkbox' class='ee-toggle'></label><ul><li><span class='ee-k'>0:</span><span class='ee-v'>73.24688</span></li><li><span class='ee-k'>1:</span><span class='ee-v'>33.825934</span></li></ul></li></ul></li></ul></li><li><label class='ee-shut'>12: List (1 element)<input type='checkbox' class='ee-toggle'></label><ul><li><label class='ee-shut'>0: List (5 elements)<input type='checkbox' class='ee-toggle'></label><ul><li><label class='ee-shut'>0: [73.332367, 33.845327]<input type='checkbox' class='ee-toggle'></label><ul><li><span class='ee-k'>0:</span><span class='ee-v'>73.332367</span></li><li><span class='ee-k'>1:</span><span class='ee-v'>33.845327</span></li></ul></li><li><label class='ee-shut'>1: [73.33889, 33.845327]<input type='checkbox' class='ee-toggle'></label><ul><li><span class='ee-k'>0:</span><span class='ee-v'>73.33889</span></li><li><span class='ee-k'>1:</span><span class='ee-v'>33.845327</span></li></ul></li><li><label class='ee-shut'>2: [73.33889, 33.854166]<input type='checkbox' class='ee-toggle'></label><ul><li><span class='ee-k'>0:</span><span class='ee-v'>73.33889</span></li><li><span class='ee-k'>1:</span><span class='ee-v'>33.854166</span></li></ul></li><li><label class='ee-shut'>3: [73.332367, 33.854166]<input type='checkbox' class='ee-toggle'></label><ul><li><span class='ee-k'>0:</span><span class='ee-v'>73.332367</span></li><li><span class='ee-k'>1:</span><span class='ee-v'>33.854166</span></li></ul></li><li><label class='ee-shut'>4: [73.332367, 33.845327]<input type='checkbox' class='ee-toggle'></label><ul><li><span class='ee-k'>0:</span><span class='ee-v'>73.332367</span></li><li><span class='ee-k'>1:</span><span class='ee-v'>33.845327</span></li></ul></li></ul></li></ul></li><li><label class='ee-shut'>13: List (1 element)<input type='checkbox' class='ee-toggle'></label><ul><li><label class='ee-shut'>0: List (5 elements)<input type='checkbox' class='ee-toggle'></label><ul><li><label class='ee-shut'>0: [73.325844, 33.841049]<input type='checkbox' class='ee-toggle'></label><ul><li><span class='ee-k'>0:</span><span class='ee-v'>73.325844</span></li><li><span class='ee-k'>1:</span><span class='ee-v'>33.841049</span></li></ul></li><li><label class='ee-shut'>1: [73.331337, 33.841049]<input type='checkbox' class='ee-toggle'></label><ul><li><span class='ee-k'>0:</span><span class='ee-v'>73.331337</span></li><li><span class='ee-k'>1:</span><span class='ee-v'>33.841049</span></li></ul></li><li><label class='ee-shut'>2: [73.331337, 33.849604]<input type='checkbox' class='ee-toggle'></label><ul><li><span class='ee-k'>0:</span><span class='ee-v'>73.331337</span></li><li><span class='ee-k'>1:</span><span class='ee-v'>33.849604</span></li></ul></li><li><label class='ee-shut'>3: [73.325844, 33.849604]<input type='checkbox' class='ee-toggle'></label><ul><li><span class='ee-k'>0:</span><span class='ee-v'>73.325844</span></li><li><span class='ee-k'>1:</span><span class='ee-v'>33.849604</span></li></ul></li><li><label class='ee-shut'>4: [73.325844, 33.841049]<input type='checkbox' class='ee-toggle'></label><ul><li><span class='ee-k'>0:</span><span class='ee-v'>73.325844</span></li><li><span class='ee-k'>1:</span><span class='ee-v'>33.841049</span></li></ul></li></ul></li></ul></li><li><label class='ee-shut'>14: List (1 element)<input type='checkbox' class='ee-toggle'></label><ul><li><label class='ee-shut'>0: List (5 elements)<input type='checkbox' class='ee-toggle'></label><ul><li><label class='ee-shut'>0: [72.087822, 33.870416]<input type='checkbox' class='ee-toggle'></label><ul><li><span class='ee-k'>0:</span><span class='ee-v'>72.087822</span></li><li><span class='ee-k'>1:</span><span class='ee-v'>33.870416</span></li></ul></li><li><label class='ee-shut'>1: [72.111168, 33.870416]<input type='checkbox' class='ee-toggle'></label><ul><li><span class='ee-k'>0:</span><span class='ee-v'>72.111168</span></li><li><span class='ee-k'>1:</span><span class='ee-v'>33.870416</span></li></ul></li><li><label class='ee-shut'>2: [72.111168, 33.875261]<input type='checkbox' class='ee-toggle'></label><ul><li><span class='ee-k'>0:</span><span class='ee-v'>72.111168</span></li><li><span class='ee-k'>1:</span><span class='ee-v'>33.875261</span></li></ul></li><li><label class='ee-shut'>3: [72.087822, 33.875261]<input type='checkbox' class='ee-toggle'></label><ul><li><span class='ee-k'>0:</span><span class='ee-v'>72.087822</span></li><li><span class='ee-k'>1:</span><span class='ee-v'>33.875261</span></li></ul></li><li><label class='ee-shut'>4: [72.087822, 33.870416]<input type='checkbox' class='ee-toggle'></label><ul><li><span class='ee-k'>0:</span><span class='ee-v'>72.087822</span></li><li><span class='ee-k'>1:</span><span class='ee-v'>33.870416</span></li></ul></li></ul></li></ul></li><li><label class='ee-shut'>15: List (1 element)<input type='checkbox' class='ee-toggle'></label><ul><li><label class='ee-shut'>0: List (4 elements)<input type='checkbox' class='ee-toggle'></label><ul><li><label class='ee-shut'>0: [71.955299, 33.863004]<input type='checkbox' class='ee-toggle'></label><ul><li><span class='ee-k'>0:</span><span class='ee-v'>71.955299</span></li><li><span class='ee-k'>1:</span><span class='ee-v'>33.863004</span></li></ul></li><li><label class='ee-shut'>1: [71.955299, 33.871556]<input type='checkbox' class='ee-toggle'></label><ul><li><span class='ee-k'>0:</span><span class='ee-v'>71.955299</span></li><li><span class='ee-k'>1:</span><span class='ee-v'>33.871556</span></li></ul></li><li><label class='ee-shut'>2: [71.955299, 33.871556]<input type='checkbox' class='ee-toggle'></label><ul><li><span class='ee-k'>0:</span><span class='ee-v'>71.955299</span></li><li><span class='ee-k'>1:</span><span class='ee-v'>33.871556</span></li></ul></li><li><label class='ee-shut'>3: [71.955299, 33.863004]<input type='checkbox' class='ee-toggle'></label><ul><li><span class='ee-k'>0:</span><span class='ee-v'>71.955299</span></li><li><span class='ee-k'>1:</span><span class='ee-v'>33.863004</span></li></ul></li></ul></li></ul></li><li><label class='ee-shut'>16: List (1 element)<input type='checkbox' class='ee-toggle'></label><ul><li><label class='ee-shut'>0: List (5 elements)<input type='checkbox' class='ee-toggle'></label><ul><li><label class='ee-shut'>0: [72.982178, 33.732335]<input type='checkbox' class='ee-toggle'></label><ul><li><span class='ee-k'>0:</span><span class='ee-v'>72.982178</span></li><li><span class='ee-k'>1:</span><span class='ee-v'>33.732335</span></li></ul></li><li><label class='ee-shut'>1: [72.998314, 33.732335]<input type='checkbox' class='ee-toggle'></label><ul><li><span class='ee-k'>0:</span><span class='ee-v'>72.998314</span></li><li><span class='ee-k'>1:</span><span class='ee-v'>33.732335</span></li></ul></li><li><label class='ee-shut'>2: [72.998314, 33.741471]<input type='checkbox' class='ee-toggle'></label><ul><li><span class='ee-k'>0:</span><span class='ee-v'>72.998314</span></li><li><span class='ee-k'>1:</span><span class='ee-v'>33.741471</span></li></ul></li><li><label class='ee-shut'>3: [72.982178, 33.741471]<input type='checkbox' class='ee-toggle'></label><ul><li><span class='ee-k'>0:</span><span class='ee-v'>72.982178</span></li><li><span class='ee-k'>1:</span><span class='ee-v'>33.741471</span></li></ul></li><li><label class='ee-shut'>4: [72.982178, 33.732335]<input type='checkbox' class='ee-toggle'></label><ul><li><span class='ee-k'>0:</span><span class='ee-v'>72.982178</span></li><li><span class='ee-k'>1:</span><span class='ee-v'>33.732335</span></li></ul></li></ul></li></ul></li><li><label class='ee-shut'>17: List (1 element)<input type='checkbox' class='ee-toggle'></label><ul><li><label class='ee-shut'>0: List (5 elements)<input type='checkbox' class='ee-toggle'></label><ul><li><label class='ee-shut'>0: [73.055649, 33.741756]<input type='checkbox' class='ee-toggle'></label><ul><li><span class='ee-k'>0:</span><span class='ee-v'>73.055649</span></li><li><span class='ee-k'>1:</span><span class='ee-v'>33.741756</span></li></ul></li><li><label class='ee-shut'>1: [73.062859, 33.741756]<input type='checkbox' class='ee-toggle'></label><ul><li><span class='ee-k'>0:</span><span class='ee-v'>73.062859</span></li><li><span class='ee-k'>1:</span><span class='ee-v'>33.741756</span></li></ul></li><li><label class='ee-shut'>2: [73.062859, 33.746039]<input type='checkbox' class='ee-toggle'></label><ul><li><span class='ee-k'>0:</span><span class='ee-v'>73.062859</span></li><li><span class='ee-k'>1:</span><span class='ee-v'>33.746039</span></li></ul></li><li><label class='ee-shut'>3: [73.055649, 33.746039]<input type='checkbox' class='ee-toggle'></label><ul><li><span class='ee-k'>0:</span><span class='ee-v'>73.055649</span></li><li><span class='ee-k'>1:</span><span class='ee-v'>33.746039</span></li></ul></li><li><label class='ee-shut'>4: [73.055649, 33.741756]<input type='checkbox' class='ee-toggle'></label><ul><li><span class='ee-k'>0:</span><span class='ee-v'>73.055649</span></li><li><span class='ee-k'>1:</span><span class='ee-v'>33.741756</span></li></ul></li></ul></li></ul></li></ul></li></ul></li><li><label class='ee-shut'>properties: Object (1 property)<input type='checkbox' class='ee-toggle'></label><ul><li><span class='ee-k'>class:</span><span class='ee-v'>1</span></li></ul></li></ul></li><li><label class='ee-shut'>2: Feature (MultiPolygon, 1 property)<input type='checkbox' class='ee-toggle'></label><ul><li><span class='ee-k'>type:</span><span class='ee-v'>Feature</span></li><li><span class='ee-k'>id:</span><span class='ee-v'>2</span></li><li><label class='ee-shut'>geometry: MultiPolygon (5 vertices)<input type='checkbox' class='ee-toggle'></label><ul><li><span class='ee-k'>type:</span><span class='ee-v'>MultiPolygon</span></li><li><label class='ee-shut'>coordinates: List (17 elements)<input type='checkbox' class='ee-toggle'></label><ul><li><label class='ee-shut'>0: List (1 element)<input type='checkbox' class='ee-toggle'></label><ul><li><label class='ee-shut'>0: List (5 elements)<input type='checkbox' class='ee-toggle'></label><ul><li><label class='ee-shut'>0: [72.461443, 33.922708]<input type='checkbox' class='ee-toggle'></label><ul><li><span class='ee-k'>0:</span><span class='ee-v'>72.461443</span></li><li><span class='ee-k'>1:</span><span class='ee-v'>33.922708</span></li></ul></li><li><label class='ee-shut'>1: [72.464619, 33.922708]<input type='checkbox' class='ee-toggle'></label><ul><li><span class='ee-k'>0:</span><span class='ee-v'>72.464619</span></li><li><span class='ee-k'>1:</span><span class='ee-v'>33.922708</span></li></ul></li><li><label class='ee-shut'>2: [72.464619, 33.92513]<input type='checkbox' class='ee-toggle'></label><ul><li><span class='ee-k'>0:</span><span class='ee-v'>72.464619</span></li><li><span class='ee-k'>1:</span><span class='ee-v'>33.92513</span></li></ul></li><li><label class='ee-shut'>3: [72.461443, 33.92513]<input type='checkbox' class='ee-toggle'></label><ul><li><span class='ee-k'>0:</span><span class='ee-v'>72.461443</span></li><li><span class='ee-k'>1:</span><span class='ee-v'>33.92513</span></li></ul></li><li><label class='ee-shut'>4: [72.461443, 33.922708]<input type='checkbox' class='ee-toggle'></label><ul><li><span class='ee-k'>0:</span><span class='ee-v'>72.461443</span></li><li><span class='ee-k'>1:</span><span class='ee-v'>33.922708</span></li></ul></li></ul></li></ul></li><li><label class='ee-shut'>1: List (1 element)<input type='checkbox' class='ee-toggle'></label><ul><li><label class='ee-shut'>0: List (5 elements)<input type='checkbox' class='ee-toggle'></label><ul><li><label class='ee-shut'>0: [72.496634, 33.921355]<input type='checkbox' class='ee-toggle'></label><ul><li><span class='ee-k'>0:</span><span class='ee-v'>72.496634</span></li><li><span class='ee-k'>1:</span><span class='ee-v'>33.921355</span></li></ul></li><li><label class='ee-shut'>1: [72.499294, 33.921355]<input type='checkbox' class='ee-toggle'></label><ul><li><span class='ee-k'>0:</span><span class='ee-v'>72.499294</span></li><li><span class='ee-k'>1:</span><span class='ee-v'>33.921355</span></li></ul></li><li><label class='ee-shut'>2: [72.499294, 33.922138]<input type='checkbox' class='ee-toggle'></label><ul><li><span class='ee-k'>0:</span><span class='ee-v'>72.499294</span></li><li><span class='ee-k'>1:</span><span class='ee-v'>33.922138</span></li></ul></li><li><label class='ee-shut'>3: [72.496634, 33.922138]<input type='checkbox' class='ee-toggle'></label><ul><li><span class='ee-k'>0:</span><span class='ee-v'>72.496634</span></li><li><span class='ee-k'>1:</span><span class='ee-v'>33.922138</span></li></ul></li><li><label class='ee-shut'>4: [72.496634, 33.921355]<input type='checkbox' class='ee-toggle'></label><ul><li><span class='ee-k'>0:</span><span class='ee-v'>72.496634</span></li><li><span class='ee-k'>1:</span><span class='ee-v'>33.921355</span></li></ul></li></ul></li></ul></li><li><label class='ee-shut'>2: List (1 element)<input type='checkbox' class='ee-toggle'></label><ul><li><label class='ee-shut'>0: List (5 elements)<input type='checkbox' class='ee-toggle'></label><ul><li><label class='ee-shut'>0: [72.502298, 33.938233]<input type='checkbox' class='ee-toggle'></label><ul><li><span class='ee-k'>0:</span><span class='ee-v'>72.502298</span></li><li><span class='ee-k'>1:</span><span class='ee-v'>33.938233</span></li></ul></li><li><label class='ee-shut'>1: [72.507362, 33.938233]<input type='checkbox' class='ee-toggle'></label><ul><li><span class='ee-k'>0:</span><span class='ee-v'>72.507362</span></li><li><span class='ee-k'>1:</span><span class='ee-v'>33.938233</span></li></ul></li><li><label class='ee-shut'>2: [72.507362, 33.940369]<input type='checkbox' class='ee-toggle'></label><ul><li><span class='ee-k'>0:</span><span class='ee-v'>72.507362</span></li><li><span class='ee-k'>1:</span><span class='ee-v'>33.940369</span></li></ul></li><li><label class='ee-shut'>3: [72.502298, 33.940369]<input type='checkbox' class='ee-toggle'></label><ul><li><span class='ee-k'>0:</span><span class='ee-v'>72.502298</span></li><li><span class='ee-k'>1:</span><span class='ee-v'>33.940369</span></li></ul></li><li><label class='ee-shut'>4: [72.502298, 33.938233]<input type='checkbox' class='ee-toggle'></label><ul><li><span class='ee-k'>0:</span><span class='ee-v'>72.502298</span></li><li><span class='ee-k'>1:</span><span class='ee-v'>33.938233</span></li></ul></li></ul></li></ul></li><li><label class='ee-shut'>3: List (1 element)<input type='checkbox' class='ee-toggle'></label><ul><li><label class='ee-shut'>0: List (5 elements)<input type='checkbox' class='ee-toggle'></label><ul><li><label class='ee-shut'>0: [72.491913, 33.925557]<input type='checkbox' class='ee-toggle'></label><ul><li><span class='ee-k'>0:</span><span class='ee-v'>72.491913</span></li><li><span class='ee-k'>1:</span><span class='ee-v'>33.925557</span></li></ul></li><li><label class='ee-shut'>1: [72.506161, 33.925557]<input type='checkbox' class='ee-toggle'></label><ul><li><span class='ee-k'>0:</span><span class='ee-v'>72.506161</span></li><li><span class='ee-k'>1:</span><span class='ee-v'>33.925557</span></li></ul></li><li><label class='ee-shut'>2: [72.506161, 33.932892]<input type='checkbox' class='ee-toggle'></label><ul><li><span class='ee-k'>0:</span><span class='ee-v'>72.506161</span></li><li><span class='ee-k'>1:</span><span class='ee-v'>33.932892</span></li></ul></li><li><label class='ee-shut'>3: [72.491913, 33.932892]<input type='checkbox' class='ee-toggle'></label><ul><li><span class='ee-k'>0:</span><span class='ee-v'>72.491913</span></li><li><span class='ee-k'>1:</span><span class='ee-v'>33.932892</span></li></ul></li><li><label class='ee-shut'>4: [72.491913, 33.925557]<input type='checkbox' class='ee-toggle'></label><ul><li><span class='ee-k'>0:</span><span class='ee-v'>72.491913</span></li><li><span class='ee-k'>1:</span><span class='ee-v'>33.925557</span></li></ul></li></ul></li></ul></li><li><label class='ee-shut'>4: List (1 element)<input type='checkbox' class='ee-toggle'></label><ul><li><label class='ee-shut'>0: List (5 elements)<input type='checkbox' class='ee-toggle'></label><ul><li><label class='ee-shut'>0: [73.007412, 33.66071]<input type='checkbox' class='ee-toggle'></label><ul><li><span class='ee-k'>0:</span><span class='ee-v'>73.007412</span></li><li><span class='ee-k'>1:</span><span class='ee-v'>33.66071</span></li></ul></li><li><label class='ee-shut'>1: [73.009429, 33.657174]<input type='checkbox' class='ee-toggle'></label><ul><li><span class='ee-k'>0:</span><span class='ee-v'>73.009429</span></li><li><span class='ee-k'>1:</span><span class='ee-v'>33.657174</span></li></ul></li><li><label class='ee-shut'>2: [73.015952, 33.659853]<input type='checkbox' class='ee-toggle'></label><ul><li><span class='ee-k'>0:</span><span class='ee-v'>73.015952</span></li><li><span class='ee-k'>1:</span><span class='ee-v'>33.659853</span></li></ul></li><li><label class='ee-shut'>3: [73.012948, 33.663889]<input type='checkbox' class='ee-toggle'></label><ul><li><span class='ee-k'>0:</span><span class='ee-v'>73.012948</span></li><li><span class='ee-k'>1:</span><span class='ee-v'>33.663889</span></li></ul></li><li><label class='ee-shut'>4: [73.007412, 33.66071]<input type='checkbox' class='ee-toggle'></label><ul><li><span class='ee-k'>0:</span><span class='ee-v'>73.007412</span></li><li><span class='ee-k'>1:</span><span class='ee-v'>33.66071</span></li></ul></li></ul></li></ul></li><li><label class='ee-shut'>5: List (1 element)<input type='checkbox' class='ee-toggle'></label><ul><li><label class='ee-shut'>0: List (5 elements)<input type='checkbox' class='ee-toggle'></label><ul><li><label class='ee-shut'>0: [73.016639, 33.663211]<input type='checkbox' class='ee-toggle'></label><ul><li><span class='ee-k'>0:</span><span class='ee-v'>73.016639</span></li><li><span class='ee-k'>1:</span><span class='ee-v'>33.663211</span></li></ul></li><li><label class='ee-shut'>1: [73.018956, 33.663211]<input type='checkbox' class='ee-toggle'></label><ul><li><span class='ee-k'>0:</span><span class='ee-v'>73.018956</span></li><li><span class='ee-k'>1:</span><span class='ee-v'>33.663211</span></li></ul></li><li><label class='ee-shut'>2: [73.018956, 33.664782]<input type='checkbox' class='ee-toggle'></label><ul><li><span class='ee-k'>0:</span><span class='ee-v'>73.018956</span></li><li><span class='ee-k'>1:</span><span class='ee-v'>33.664782</span></li></ul></li><li><label class='ee-shut'>3: [73.016639, 33.664782]<input type='checkbox' class='ee-toggle'></label><ul><li><span class='ee-k'>0:</span><span class='ee-v'>73.016639</span></li><li><span class='ee-k'>1:</span><span class='ee-v'>33.664782</span></li></ul></li><li><label class='ee-shut'>4: [73.016639, 33.663211]<input type='checkbox' class='ee-toggle'></label><ul><li><span class='ee-k'>0:</span><span class='ee-v'>73.016639</span></li><li><span class='ee-k'>1:</span><span class='ee-v'>33.663211</span></li></ul></li></ul></li></ul></li><li><label class='ee-shut'>6: List (1 element)<input type='checkbox' class='ee-toggle'></label><ul><li><label class='ee-shut'>0: List (5 elements)<input type='checkbox' class='ee-toggle'></label><ul><li><label class='ee-shut'>0: [73.005095, 33.657531]<input type='checkbox' class='ee-toggle'></label><ul><li><span class='ee-k'>0:</span><span class='ee-v'>73.005095</span></li><li><span class='ee-k'>1:</span><span class='ee-v'>33.657531</span></li></ul></li><li><label class='ee-shut'>1: [73.007927, 33.657531]<input type='checkbox' class='ee-toggle'></label><ul><li><span class='ee-k'>0:</span><span class='ee-v'>73.007927</span></li><li><span class='ee-k'>1:</span><span class='ee-v'>33.657531</span></li></ul></li><li><label class='ee-shut'>2: [73.007927, 33.65871]<input type='checkbox' class='ee-toggle'></label><ul><li><span class='ee-k'>0:</span><span class='ee-v'>73.007927</span></li><li><span class='ee-k'>1:</span><span class='ee-v'>33.65871</span></li></ul></li><li><label class='ee-shut'>3: [73.005095, 33.65871]<input type='checkbox' class='ee-toggle'></label><ul><li><span class='ee-k'>0:</span><span class='ee-v'>73.005095</span></li><li><span class='ee-k'>1:</span><span class='ee-v'>33.65871</span></li></ul></li><li><label class='ee-shut'>4: [73.005095, 33.657531]<input type='checkbox' class='ee-toggle'></label><ul><li><span class='ee-k'>0:</span><span class='ee-v'>73.005095</span></li><li><span class='ee-k'>1:</span><span class='ee-v'>33.657531</span></li></ul></li></ul></li></ul></li><li><label class='ee-shut'>7: List (1 element)<input type='checkbox' class='ee-toggle'></label><ul><li><label class='ee-shut'>0: List (5 elements)<input type='checkbox' class='ee-toggle'></label><ul><li><label class='ee-shut'>0: [73.075701, 33.697271]<input type='checkbox' class='ee-toggle'></label><ul><li><span class='ee-k'>0:</span><span class='ee-v'>73.075701</span></li><li><span class='ee-k'>1:</span><span class='ee-v'>33.697271</span></li></ul></li><li><label class='ee-shut'>1: [73.078887, 33.697271]<input type='checkbox' class='ee-toggle'></label><ul><li><span class='ee-k'>0:</span><span class='ee-v'>73.078887</span></li><li><span class='ee-k'>1:</span><span class='ee-v'>33.697271</span></li></ul></li><li><label class='ee-shut'>2: [73.078887, 33.698458]<input type='checkbox' class='ee-toggle'></label><ul><li><span class='ee-k'>0:</span><span class='ee-v'>73.078887</span></li><li><span class='ee-k'>1:</span><span class='ee-v'>33.698458</span></li></ul></li><li><label class='ee-shut'>3: [73.075701, 33.698458]<input type='checkbox' class='ee-toggle'></label><ul><li><span class='ee-k'>0:</span><span class='ee-v'>73.075701</span></li><li><span class='ee-k'>1:</span><span class='ee-v'>33.698458</span></li></ul></li><li><label class='ee-shut'>4: [73.075701, 33.697271]<input type='checkbox' class='ee-toggle'></label><ul><li><span class='ee-k'>0:</span><span class='ee-v'>73.075701</span></li><li><span class='ee-k'>1:</span><span class='ee-v'>33.697271</span></li></ul></li></ul></li></ul></li><li><label class='ee-shut'>8: List (1 element)<input type='checkbox' class='ee-toggle'></label><ul><li><label class='ee-shut'>0: List (5 elements)<input type='checkbox' class='ee-toggle'></label><ul><li><label class='ee-shut'>0: [73.079724, 33.69553]<input type='checkbox' class='ee-toggle'></label><ul><li><span class='ee-k'>0:</span><span class='ee-v'>73.079724</span></li><li><span class='ee-k'>1:</span><span class='ee-v'>33.69553</span></li></ul></li><li><label class='ee-shut'>1: [73.083158, 33.69553]<input type='checkbox' class='ee-toggle'></label><ul><li><span class='ee-k'>0:</span><span class='ee-v'>73.083158</span></li><li><span class='ee-k'>1:</span><span class='ee-v'>33.69553</span></li></ul></li><li><label class='ee-shut'>2: [73.083158, 33.69753]<input type='checkbox' class='ee-toggle'></label><ul><li><span class='ee-k'>0:</span><span class='ee-v'>73.083158</span></li><li><span class='ee-k'>1:</span><span class='ee-v'>33.69753</span></li></ul></li><li><label class='ee-shut'>3: [73.079724, 33.69753]<input type='checkbox' class='ee-toggle'></label><ul><li><span class='ee-k'>0:</span><span class='ee-v'>73.079724</span></li><li><span class='ee-k'>1:</span><span class='ee-v'>33.69753</span></li></ul></li><li><label class='ee-shut'>4: [73.079724, 33.69553]<input type='checkbox' class='ee-toggle'></label><ul><li><span class='ee-k'>0:</span><span class='ee-v'>73.079724</span></li><li><span class='ee-k'>1:</span><span class='ee-v'>33.69553</span></li></ul></li></ul></li></ul></li><li><label class='ee-shut'>9: List (1 element)<input type='checkbox' class='ee-toggle'></label><ul><li><label class='ee-shut'>0: List (5 elements)<input type='checkbox' class='ee-toggle'></label><ul><li><label class='ee-shut'>0: [73.085518, 33.693638]<input type='checkbox' class='ee-toggle'></label><ul><li><span class='ee-k'>0:</span><span class='ee-v'>73.085518</span></li><li><span class='ee-k'>1:</span><span class='ee-v'>33.693638</span></li></ul></li><li><label class='ee-shut'>1: [73.08938, 33.693638]<input type='checkbox' class='ee-toggle'></label><ul><li><span class='ee-k'>0:</span><span class='ee-v'>73.08938</span></li><li><span class='ee-k'>1:</span><span class='ee-v'>33.693638</span></li></ul></li><li><label class='ee-shut'>2: [73.08938, 33.695566]<input type='checkbox' class='ee-toggle'></label><ul><li><span class='ee-k'>0:</span><span class='ee-v'>73.08938</span></li><li><span class='ee-k'>1:</span><span class='ee-v'>33.695566</span></li></ul></li><li><label class='ee-shut'>3: [73.085518, 33.695566]<input type='checkbox' class='ee-toggle'></label><ul><li><span class='ee-k'>0:</span><span class='ee-v'>73.085518</span></li><li><span class='ee-k'>1:</span><span class='ee-v'>33.695566</span></li></ul></li><li><label class='ee-shut'>4: [73.085518, 33.693638]<input type='checkbox' class='ee-toggle'></label><ul><li><span class='ee-k'>0:</span><span class='ee-v'>73.085518</span></li><li><span class='ee-k'>1:</span><span class='ee-v'>33.693638</span></li></ul></li></ul></li></ul></li><li><label class='ee-shut'>10: List (1 element)<input type='checkbox' class='ee-toggle'></label><ul><li><label class='ee-shut'>0: List (5 elements)<input type='checkbox' class='ee-toggle'></label><ul><li><label class='ee-shut'>0: [73.093929, 33.688853]<input type='checkbox' class='ee-toggle'></label><ul><li><span class='ee-k'>0:</span><span class='ee-v'>73.093929</span></li><li><span class='ee-k'>1:</span><span class='ee-v'>33.688853</span></li></ul></li><li><label class='ee-shut'>1: [73.096933, 33.688853]<input type='checkbox' class='ee-toggle'></label><ul><li><span class='ee-k'>0:</span><span class='ee-v'>73.096933</span></li><li><span class='ee-k'>1:</span><span class='ee-v'>33.688853</span></li></ul></li><li><label class='ee-shut'>2: [73.096933, 33.690888]<input type='checkbox' class='ee-toggle'></label><ul><li><span class='ee-k'>0:</span><span class='ee-v'>73.096933</span></li><li><span class='ee-k'>1:</span><span class='ee-v'>33.690888</span></li></ul></li><li><label class='ee-shut'>3: [73.093929, 33.690888]<input type='checkbox' class='ee-toggle'></label><ul><li><span class='ee-k'>0:</span><span class='ee-v'>73.093929</span></li><li><span class='ee-k'>1:</span><span class='ee-v'>33.690888</span></li></ul></li><li><label class='ee-shut'>4: [73.093929, 33.688853]<input type='checkbox' class='ee-toggle'></label><ul><li><span class='ee-k'>0:</span><span class='ee-v'>73.093929</span></li><li><span class='ee-k'>1:</span><span class='ee-v'>33.688853</span></li></ul></li></ul></li></ul></li><li><label class='ee-shut'>11: List (1 element)<input type='checkbox' class='ee-toggle'></label><ul><li><label class='ee-shut'>0: List (5 elements)<input type='checkbox' class='ee-toggle'></label><ul><li><label class='ee-shut'>0: [73.084788, 33.688353]<input type='checkbox' class='ee-toggle'></label><ul><li><span class='ee-k'>0:</span><span class='ee-v'>73.084788</span></li><li><span class='ee-k'>1:</span><span class='ee-v'>33.688353</span></li></ul></li><li><label class='ee-shut'>1: [73.087535, 33.688353]<input type='checkbox' class='ee-toggle'></label><ul><li><span class='ee-k'>0:</span><span class='ee-v'>73.087535</span></li><li><span class='ee-k'>1:</span><span class='ee-v'>33.688353</span></li></ul></li><li><label class='ee-shut'>2: [73.087535, 33.68946]<input type='checkbox' class='ee-toggle'></label><ul><li><span class='ee-k'>0:</span><span class='ee-v'>73.087535</span></li><li><span class='ee-k'>1:</span><span class='ee-v'>33.68946</span></li></ul></li><li><label class='ee-shut'>3: [73.084788, 33.68946]<input type='checkbox' class='ee-toggle'></label><ul><li><span class='ee-k'>0:</span><span class='ee-v'>73.084788</span></li><li><span class='ee-k'>1:</span><span class='ee-v'>33.68946</span></li></ul></li><li><label class='ee-shut'>4: [73.084788, 33.688353]<input type='checkbox' class='ee-toggle'></label><ul><li><span class='ee-k'>0:</span><span class='ee-v'>73.084788</span></li><li><span class='ee-k'>1:</span><span class='ee-v'>33.688353</span></li></ul></li></ul></li></ul></li><li><label class='ee-shut'>12: List (1 element)<input type='checkbox' class='ee-toggle'></label><ul><li><label class='ee-shut'>0: List (5 elements)<input type='checkbox' class='ee-toggle'></label><ul><li><label class='ee-shut'>0: [73.099036, 33.698637]<input type='checkbox' class='ee-toggle'></label><ul><li><span class='ee-k'>0:</span><span class='ee-v'>73.099036</span></li><li><span class='ee-k'>1:</span><span class='ee-v'>33.698637</span></li></ul></li><li><label class='ee-shut'>1: [73.100581, 33.698637]<input type='checkbox' class='ee-toggle'></label><ul><li><span class='ee-k'>0:</span><span class='ee-v'>73.100581</span></li><li><span class='ee-k'>1:</span><span class='ee-v'>33.698637</span></li></ul></li><li><label class='ee-shut'>2: [73.100581, 33.7001]<input type='checkbox' class='ee-toggle'></label><ul><li><span class='ee-k'>0:</span><span class='ee-v'>73.100581</span></li><li><span class='ee-k'>1:</span><span class='ee-v'>33.7001</span></li></ul></li><li><label class='ee-shut'>3: [73.099036, 33.7001]<input type='checkbox' class='ee-toggle'></label><ul><li><span class='ee-k'>0:</span><span class='ee-v'>73.099036</span></li><li><span class='ee-k'>1:</span><span class='ee-v'>33.7001</span></li></ul></li><li><label class='ee-shut'>4: [73.099036, 33.698637]<input type='checkbox' class='ee-toggle'></label><ul><li><span class='ee-k'>0:</span><span class='ee-v'>73.099036</span></li><li><span class='ee-k'>1:</span><span class='ee-v'>33.698637</span></li></ul></li></ul></li></ul></li><li><label class='ee-shut'>13: List (1 element)<input type='checkbox' class='ee-toggle'></label><ul><li><label class='ee-shut'>0: List (5 elements)<input type='checkbox' class='ee-toggle'></label><ul><li><label class='ee-shut'>0: [73.143797, 33.677354]<input type='checkbox' class='ee-toggle'></label><ul><li><span class='ee-k'>0:</span><span class='ee-v'>73.143797</span></li><li><span class='ee-k'>1:</span><span class='ee-v'>33.677354</span></li></ul></li><li><label class='ee-shut'>1: [73.1462, 33.677354]<input type='checkbox' class='ee-toggle'></label><ul><li><span class='ee-k'>0:</span><span class='ee-v'>73.1462</span></li><li><span class='ee-k'>1:</span><span class='ee-v'>33.677354</span></li></ul></li><li><label class='ee-shut'>2: [73.1462, 33.678926]<input type='checkbox' class='ee-toggle'></label><ul><li><span class='ee-k'>0:</span><span class='ee-v'>73.1462</span></li><li><span class='ee-k'>1:</span><span class='ee-v'>33.678926</span></li></ul></li><li><label class='ee-shut'>3: [73.143797, 33.678926]<input type='checkbox' class='ee-toggle'></label><ul><li><span class='ee-k'>0:</span><span class='ee-v'>73.143797</span></li><li><span class='ee-k'>1:</span><span class='ee-v'>33.678926</span></li></ul></li><li><label class='ee-shut'>4: [73.143797, 33.677354]<input type='checkbox' class='ee-toggle'></label><ul><li><span class='ee-k'>0:</span><span class='ee-v'>73.143797</span></li><li><span class='ee-k'>1:</span><span class='ee-v'>33.677354</span></li></ul></li></ul></li></ul></li><li><label class='ee-shut'>14: List (1 element)<input type='checkbox' class='ee-toggle'></label><ul><li><label class='ee-shut'>0: List (5 elements)<input type='checkbox' class='ee-toggle'></label><ul><li><label class='ee-shut'>0: [73.139935, 33.690567]<input type='checkbox' class='ee-toggle'></label><ul><li><span class='ee-k'>0:</span><span class='ee-v'>73.139935</span></li><li><span class='ee-k'>1:</span><span class='ee-v'>33.690567</span></li></ul></li><li><label class='ee-shut'>1: [73.143282, 33.690567]<input type='checkbox' class='ee-toggle'></label><ul><li><span class='ee-k'>0:</span><span class='ee-v'>73.143282</span></li><li><span class='ee-k'>1:</span><span class='ee-v'>33.690567</span></li></ul></li><li><label class='ee-shut'>2: [73.143282, 33.692924]<input type='checkbox' class='ee-toggle'></label><ul><li><span class='ee-k'>0:</span><span class='ee-v'>73.143282</span></li><li><span class='ee-k'>1:</span><span class='ee-v'>33.692924</span></li></ul></li><li><label class='ee-shut'>3: [73.139935, 33.692924]<input type='checkbox' class='ee-toggle'></label><ul><li><span class='ee-k'>0:</span><span class='ee-v'>73.139935</span></li><li><span class='ee-k'>1:</span><span class='ee-v'>33.692924</span></li></ul></li><li><label class='ee-shut'>4: [73.139935, 33.690567]<input type='checkbox' class='ee-toggle'></label><ul><li><span class='ee-k'>0:</span><span class='ee-v'>73.139935</span></li><li><span class='ee-k'>1:</span><span class='ee-v'>33.690567</span></li></ul></li></ul></li></ul></li><li><label class='ee-shut'>15: List (1 element)<input type='checkbox' class='ee-toggle'></label><ul><li><label class='ee-shut'>0: List (5 elements)<input type='checkbox' class='ee-toggle'></label><ul><li><label class='ee-shut'>0: [73.121481, 33.675711]<input type='checkbox' class='ee-toggle'></label><ul><li><span class='ee-k'>0:</span><span class='ee-v'>73.121481</span></li><li><span class='ee-k'>1:</span><span class='ee-v'>33.675711</span></li></ul></li><li><label class='ee-shut'>1: [73.122511, 33.675711]<input type='checkbox' class='ee-toggle'></label><ul><li><span class='ee-k'>0:</span><span class='ee-v'>73.122511</span></li><li><span class='ee-k'>1:</span><span class='ee-v'>33.675711</span></li></ul></li><li><label class='ee-shut'>2: [73.122511, 33.676569]<input type='checkbox' class='ee-toggle'></label><ul><li><span class='ee-k'>0:</span><span class='ee-v'>73.122511</span></li><li><span class='ee-k'>1:</span><span class='ee-v'>33.676569</span></li></ul></li><li><label class='ee-shut'>3: [73.121481, 33.676569]<input type='checkbox' class='ee-toggle'></label><ul><li><span class='ee-k'>0:</span><span class='ee-v'>73.121481</span></li><li><span class='ee-k'>1:</span><span class='ee-v'>33.676569</span></li></ul></li><li><label class='ee-shut'>4: [73.121481, 33.675711]<input type='checkbox' class='ee-toggle'></label><ul><li><span class='ee-k'>0:</span><span class='ee-v'>73.121481</span></li><li><span class='ee-k'>1:</span><span class='ee-v'>33.675711</span></li></ul></li></ul></li></ul></li><li><label class='ee-shut'>16: List (1 element)<input type='checkbox' class='ee-toggle'></label><ul><li><label class='ee-shut'>0: List (5 elements)<input type='checkbox' class='ee-toggle'></label><ul><li><label class='ee-shut'>0: [73.041787, 33.708722]<input type='checkbox' class='ee-toggle'></label><ul><li><span class='ee-k'>0:</span><span class='ee-v'>73.041787</span></li><li><span class='ee-k'>1:</span><span class='ee-v'>33.708722</span></li></ul></li><li><label class='ee-shut'>1: [73.042485, 33.708722]<input type='checkbox' class='ee-toggle'></label><ul><li><span class='ee-k'>0:</span><span class='ee-v'>73.042485</span></li><li><span class='ee-k'>1:</span><span class='ee-v'>33.708722</span></li></ul></li><li><label class='ee-shut'>2: [73.042485, 33.709035]<input type='checkbox' class='ee-toggle'></label><ul><li><span class='ee-k'>0:</span><span class='ee-v'>73.042485</span></li><li><span class='ee-k'>1:</span><span class='ee-v'>33.709035</span></li></ul></li><li><label class='ee-shut'>3: [73.041787, 33.709035]<input type='checkbox' class='ee-toggle'></label><ul><li><span class='ee-k'>0:</span><span class='ee-v'>73.041787</span></li><li><span class='ee-k'>1:</span><span class='ee-v'>33.709035</span></li></ul></li><li><label class='ee-shut'>4: [73.041787, 33.708722]<input type='checkbox' class='ee-toggle'></label><ul><li><span class='ee-k'>0:</span><span class='ee-v'>73.041787</span></li><li><span class='ee-k'>1:</span><span class='ee-v'>33.708722</span></li></ul></li></ul></li></ul></li></ul></li></ul></li><li><label class='ee-shut'>properties: Object (1 property)<input type='checkbox' class='ee-toggle'></label><ul><li><span class='ee-k'>class:</span><span class='ee-v'>2</span></li></ul></li></ul></li><li><label class='ee-shut'>3: Feature (MultiPolygon, 1 property)<input type='checkbox' class='ee-toggle'></label><ul><li><span class='ee-k'>type:</span><span class='ee-v'>Feature</span></li><li><span class='ee-k'>id:</span><span class='ee-v'>3</span></li><li><label class='ee-shut'>geometry: MultiPolygon (5 vertices)<input type='checkbox' class='ee-toggle'></label><ul><li><span class='ee-k'>type:</span><span class='ee-v'>MultiPolygon</span></li><li><label class='ee-shut'>coordinates: List (32 elements)<input type='checkbox' class='ee-toggle'></label><ul><li><label class='ee-shut'>0: List (1 element)<input type='checkbox' class='ee-toggle'></label><ul><li><label class='ee-shut'>0: List (5 elements)<input type='checkbox' class='ee-toggle'></label><ul><li><label class='ee-shut'>0: [73.005223, 33.597141]<input type='checkbox' class='ee-toggle'></label><ul><li><span class='ee-k'>0:</span><span class='ee-v'>73.005223</span></li><li><span class='ee-k'>1:</span><span class='ee-v'>33.597141</span></li></ul></li><li><label class='ee-shut'>1: [73.008442, 33.597141]<input type='checkbox' class='ee-toggle'></label><ul><li><span class='ee-k'>0:</span><span class='ee-v'>73.008442</span></li><li><span class='ee-k'>1:</span><span class='ee-v'>33.597141</span></li></ul></li><li><label class='ee-shut'>2: [73.008442, 33.599608]<input type='checkbox' class='ee-toggle'></label><ul><li><span class='ee-k'>0:</span><span class='ee-v'>73.008442</span></li><li><span class='ee-k'>1:</span><span class='ee-v'>33.599608</span></li></ul></li><li><label class='ee-shut'>3: [73.005223, 33.599608]<input type='checkbox' class='ee-toggle'></label><ul><li><span class='ee-k'>0:</span><span class='ee-v'>73.005223</span></li><li><span class='ee-k'>1:</span><span class='ee-v'>33.599608</span></li></ul></li><li><label class='ee-shut'>4: [73.005223, 33.597141]<input type='checkbox' class='ee-toggle'></label><ul><li><span class='ee-k'>0:</span><span class='ee-v'>73.005223</span></li><li><span class='ee-k'>1:</span><span class='ee-v'>33.597141</span></li></ul></li></ul></li></ul></li><li><label class='ee-shut'>1: List (1 element)<input type='checkbox' class='ee-toggle'></label><ul><li><label class='ee-shut'>0: List (5 elements)<input type='checkbox' class='ee-toggle'></label><ul><li><label class='ee-shut'>0: [73.010073, 33.594925]<input type='checkbox' class='ee-toggle'></label><ul><li><span class='ee-k'>0:</span><span class='ee-v'>73.010073</span></li><li><span class='ee-k'>1:</span><span class='ee-v'>33.594925</span></li></ul></li><li><label class='ee-shut'>1: [73.014107, 33.594925]<input type='checkbox' class='ee-toggle'></label><ul><li><span class='ee-k'>0:</span><span class='ee-v'>73.014107</span></li><li><span class='ee-k'>1:</span><span class='ee-v'>33.594925</span></li></ul></li><li><label class='ee-shut'>2: [73.014107, 33.597892]<input type='checkbox' class='ee-toggle'></label><ul><li><span class='ee-k'>0:</span><span class='ee-v'>73.014107</span></li><li><span class='ee-k'>1:</span><span class='ee-v'>33.597892</span></li></ul></li><li><label class='ee-shut'>3: [73.010073, 33.597892]<input type='checkbox' class='ee-toggle'></label><ul><li><span class='ee-k'>0:</span><span class='ee-v'>73.010073</span></li><li><span class='ee-k'>1:</span><span class='ee-v'>33.597892</span></li></ul></li><li><label class='ee-shut'>4: [73.010073, 33.594925]<input type='checkbox' class='ee-toggle'></label><ul><li><span class='ee-k'>0:</span><span class='ee-v'>73.010073</span></li><li><span class='ee-k'>1:</span><span class='ee-v'>33.594925</span></li></ul></li></ul></li></ul></li><li><label class='ee-shut'>2: List (1 element)<input type='checkbox' class='ee-toggle'></label><ul><li><label class='ee-shut'>0: List (5 elements)<input type='checkbox' class='ee-toggle'></label><ul><li><label class='ee-shut'>0: [73.016424, 33.594281]<input type='checkbox' class='ee-toggle'></label><ul><li><span class='ee-k'>0:</span><span class='ee-v'>73.016424</span></li><li><span class='ee-k'>1:</span><span class='ee-v'>33.594281</span></li></ul></li><li><label class='ee-shut'>1: [73.020973, 33.594281]<input type='checkbox' class='ee-toggle'></label><ul><li><span class='ee-k'>0:</span><span class='ee-v'>73.020973</span></li><li><span class='ee-k'>1:</span><span class='ee-v'>33.594281</span></li></ul></li><li><label class='ee-shut'>2: [73.020973, 33.596962]<input type='checkbox' class='ee-toggle'></label><ul><li><span class='ee-k'>0:</span><span class='ee-v'>73.020973</span></li><li><span class='ee-k'>1:</span><span class='ee-v'>33.596962</span></li></ul></li><li><label class='ee-shut'>3: [73.016424, 33.596962]<input type='checkbox' class='ee-toggle'></label><ul><li><span class='ee-k'>0:</span><span class='ee-v'>73.016424</span></li><li><span class='ee-k'>1:</span><span class='ee-v'>33.596962</span></li></ul></li><li><label class='ee-shut'>4: [73.016424, 33.594281]<input type='checkbox' class='ee-toggle'></label><ul><li><span class='ee-k'>0:</span><span class='ee-v'>73.016424</span></li><li><span class='ee-k'>1:</span><span class='ee-v'>33.594281</span></li></ul></li></ul></li></ul></li><li><label class='ee-shut'>3: List (1 element)<input type='checkbox' class='ee-toggle'></label><ul><li><label class='ee-shut'>0: List (5 elements)<input type='checkbox' class='ee-toggle'></label><ul><li><label class='ee-shut'>0: [73.013506, 33.58967]<input type='checkbox' class='ee-toggle'></label><ul><li><span class='ee-k'>0:</span><span class='ee-v'>73.013506</span></li><li><span class='ee-k'>1:</span><span class='ee-v'>33.58967</span></li></ul></li><li><label class='ee-shut'>1: [73.018827, 33.58967]<input type='checkbox' class='ee-toggle'></label><ul><li><span class='ee-k'>0:</span><span class='ee-v'>73.018827</span></li><li><span class='ee-k'>1:</span><span class='ee-v'>33.58967</span></li></ul></li><li><label class='ee-shut'>2: [73.018827, 33.591743]<input type='checkbox' class='ee-toggle'></label><ul><li><span class='ee-k'>0:</span><span class='ee-v'>73.018827</span></li><li><span class='ee-k'>1:</span><span class='ee-v'>33.591743</span></li></ul></li><li><label class='ee-shut'>3: [73.013506, 33.591743]<input type='checkbox' class='ee-toggle'></label><ul><li><span class='ee-k'>0:</span><span class='ee-v'>73.013506</span></li><li><span class='ee-k'>1:</span><span class='ee-v'>33.591743</span></li></ul></li><li><label class='ee-shut'>4: [73.013506, 33.58967]<input type='checkbox' class='ee-toggle'></label><ul><li><span class='ee-k'>0:</span><span class='ee-v'>73.013506</span></li><li><span class='ee-k'>1:</span><span class='ee-v'>33.58967</span></li></ul></li></ul></li></ul></li><li><label class='ee-shut'>4: List (1 element)<input type='checkbox' class='ee-toggle'></label><ul><li><label class='ee-shut'>0: List (5 elements)<input type='checkbox' class='ee-toggle'></label><ul><li><label class='ee-shut'>0: [73.00149, 33.600573]<input type='checkbox' class='ee-toggle'></label><ul><li><span class='ee-k'>0:</span><span class='ee-v'>73.00149</span></li><li><span class='ee-k'>1:</span><span class='ee-v'>33.600573</span></li></ul></li><li><label class='ee-shut'>1: [73.00724, 33.600573]<input type='checkbox' class='ee-toggle'></label><ul><li><span class='ee-k'>0:</span><span class='ee-v'>73.00724</span></li><li><span class='ee-k'>1:</span><span class='ee-v'>33.600573</span></li></ul></li><li><label class='ee-shut'>2: [73.00724, 33.602896]<input type='checkbox' class='ee-toggle'></label><ul><li><span class='ee-k'>0:</span><span class='ee-v'>73.00724</span></li><li><span class='ee-k'>1:</span><span class='ee-v'>33.602896</span></li></ul></li><li><label class='ee-shut'>3: [73.00149, 33.602896]<input type='checkbox' class='ee-toggle'></label><ul><li><span class='ee-k'>0:</span><span class='ee-v'>73.00149</span></li><li><span class='ee-k'>1:</span><span class='ee-v'>33.602896</span></li></ul></li><li><label class='ee-shut'>4: [73.00149, 33.600573]<input type='checkbox' class='ee-toggle'></label><ul><li><span class='ee-k'>0:</span><span class='ee-v'>73.00149</span></li><li><span class='ee-k'>1:</span><span class='ee-v'>33.600573</span></li></ul></li></ul></li></ul></li><li><label class='ee-shut'>5: List (1 element)<input type='checkbox' class='ee-toggle'></label><ul><li><label class='ee-shut'>0: List (5 elements)<input type='checkbox' class='ee-toggle'></label><ul><li><label class='ee-shut'>0: [73.015137, 33.585165]<input type='checkbox' class='ee-toggle'></label><ul><li><span class='ee-k'>0:</span><span class='ee-v'>73.015137</span></li><li><span class='ee-k'>1:</span><span class='ee-v'>33.585165</span></li></ul></li><li><label class='ee-shut'>1: [73.020029, 33.585165]<input type='checkbox' class='ee-toggle'></label><ul><li><span class='ee-k'>0:</span><span class='ee-v'>73.020029</span></li><li><span class='ee-k'>1:</span><span class='ee-v'>33.585165</span></li></ul></li><li><label class='ee-shut'>2: [73.020029, 33.588883]<input type='checkbox' class='ee-toggle'></label><ul><li><span class='ee-k'>0:</span><span class='ee-v'>73.020029</span></li><li><span class='ee-k'>1:</span><span class='ee-v'>33.588883</span></li></ul></li><li><label class='ee-shut'>3: [73.015137, 33.588883]<input type='checkbox' class='ee-toggle'></label><ul><li><span class='ee-k'>0:</span><span class='ee-v'>73.015137</span></li><li><span class='ee-k'>1:</span><span class='ee-v'>33.588883</span></li></ul></li><li><label class='ee-shut'>4: [73.015137, 33.585165]<input type='checkbox' class='ee-toggle'></label><ul><li><span class='ee-k'>0:</span><span class='ee-v'>73.015137</span></li><li><span class='ee-k'>1:</span><span class='ee-v'>33.585165</span></li></ul></li></ul></li></ul></li><li><label class='ee-shut'>6: List (1 element)<input type='checkbox' class='ee-toggle'></label><ul><li><label class='ee-shut'>0: List (5 elements)<input type='checkbox' class='ee-toggle'></label><ul><li><label class='ee-shut'>0: [73.015223, 33.582377]<input type='checkbox' class='ee-toggle'></label><ul><li><span class='ee-k'>0:</span><span class='ee-v'>73.015223</span></li><li><span class='ee-k'>1:</span><span class='ee-v'>33.582377</span></li></ul></li><li><label class='ee-shut'>1: [73.020716, 33.582377]<input type='checkbox' class='ee-toggle'></label><ul><li><span class='ee-k'>0:</span><span class='ee-v'>73.020716</span></li><li><span class='ee-k'>1:</span><span class='ee-v'>33.582377</span></li></ul></li><li><label class='ee-shut'>2: [73.020716, 33.584236]<input type='checkbox' class='ee-toggle'></label><ul><li><span class='ee-k'>0:</span><span class='ee-v'>73.020716</span></li><li><span class='ee-k'>1:</span><span class='ee-v'>33.584236</span></li></ul></li><li><label class='ee-shut'>3: [73.015223, 33.584236]<input type='checkbox' class='ee-toggle'></label><ul><li><span class='ee-k'>0:</span><span class='ee-v'>73.015223</span></li><li><span class='ee-k'>1:</span><span class='ee-v'>33.584236</span></li></ul></li><li><label class='ee-shut'>4: [73.015223, 33.582377]<input type='checkbox' class='ee-toggle'></label><ul><li><span class='ee-k'>0:</span><span class='ee-v'>73.015223</span></li><li><span class='ee-k'>1:</span><span class='ee-v'>33.582377</span></li></ul></li></ul></li></ul></li><li><label class='ee-shut'>7: List (1 element)<input type='checkbox' class='ee-toggle'></label><ul><li><label class='ee-shut'>0: List (5 elements)<input type='checkbox' class='ee-toggle'></label><ul><li><label class='ee-shut'>0: [73.010888, 33.577264]<input type='checkbox' class='ee-toggle'></label><ul><li><span class='ee-k'>0:</span><span class='ee-v'>73.010888</span></li><li><span class='ee-k'>1:</span><span class='ee-v'>33.577264</span></li></ul></li><li><label class='ee-shut'>1: [73.017282, 33.577264]<input type='checkbox' class='ee-toggle'></label><ul><li><span class='ee-k'>0:</span><span class='ee-v'>73.017282</span></li><li><span class='ee-k'>1:</span><span class='ee-v'>33.577264</span></li></ul></li><li><label class='ee-shut'>2: [73.017282, 33.579624]<input type='checkbox' class='ee-toggle'></label><ul><li><span class='ee-k'>0:</span><span class='ee-v'>73.017282</span></li><li><span class='ee-k'>1:</span><span class='ee-v'>33.579624</span></li></ul></li><li><label class='ee-shut'>3: [73.010888, 33.579624]<input type='checkbox' class='ee-toggle'></label><ul><li><span class='ee-k'>0:</span><span class='ee-v'>73.010888</span></li><li><span class='ee-k'>1:</span><span class='ee-v'>33.579624</span></li></ul></li><li><label class='ee-shut'>4: [73.010888, 33.577264]<input type='checkbox' class='ee-toggle'></label><ul><li><span class='ee-k'>0:</span><span class='ee-v'>73.010888</span></li><li><span class='ee-k'>1:</span><span class='ee-v'>33.577264</span></li></ul></li></ul></li></ul></li><li><label class='ee-shut'>8: List (1 element)<input type='checkbox' class='ee-toggle'></label><ul><li><label class='ee-shut'>0: List (5 elements)<input type='checkbox' class='ee-toggle'></label><ul><li><label class='ee-shut'>0: [73.082643, 33.634023]<input type='checkbox' class='ee-toggle'></label><ul><li><span class='ee-k'>0:</span><span class='ee-v'>73.082643</span></li><li><span class='ee-k'>1:</span><span class='ee-v'>33.634023</span></li></ul></li><li><label class='ee-shut'>1: [73.088608, 33.634023]<input type='checkbox' class='ee-toggle'></label><ul><li><span class='ee-k'>0:</span><span class='ee-v'>73.088608</span></li><li><span class='ee-k'>1:</span><span class='ee-v'>33.634023</span></li></ul></li><li><label class='ee-shut'>2: [73.088608, 33.636346]<input type='checkbox' class='ee-toggle'></label><ul><li><span class='ee-k'>0:</span><span class='ee-v'>73.088608</span></li><li><span class='ee-k'>1:</span><span class='ee-v'>33.636346</span></li></ul></li><li><label class='ee-shut'>3: [73.082643, 33.636346]<input type='checkbox' class='ee-toggle'></label><ul><li><span class='ee-k'>0:</span><span class='ee-v'>73.082643</span></li><li><span class='ee-k'>1:</span><span class='ee-v'>33.636346</span></li></ul></li><li><label class='ee-shut'>4: [73.082643, 33.634023]<input type='checkbox' class='ee-toggle'></label><ul><li><span class='ee-k'>0:</span><span class='ee-v'>73.082643</span></li><li><span class='ee-k'>1:</span><span class='ee-v'>33.634023</span></li></ul></li></ul></li></ul></li><li><label class='ee-shut'>9: List (1 element)<input type='checkbox' class='ee-toggle'></label><ul><li><label class='ee-shut'>0: List (5 elements)<input type='checkbox' class='ee-toggle'></label><ul><li><label class='ee-shut'>0: [73.083415, 33.627913]<input type='checkbox' class='ee-toggle'></label><ul><li><span class='ee-k'>0:</span><span class='ee-v'>73.083415</span></li><li><span class='ee-k'>1:</span><span class='ee-v'>33.627913</span></li></ul></li><li><label class='ee-shut'>1: [73.091612, 33.627913]<input type='checkbox' class='ee-toggle'></label><ul><li><span class='ee-k'>0:</span><span class='ee-v'>73.091612</span></li><li><span class='ee-k'>1:</span><span class='ee-v'>33.627913</span></li></ul></li><li><label class='ee-shut'>2: [73.091612, 33.630343]<input type='checkbox' class='ee-toggle'></label><ul><li><span class='ee-k'>0:</span><span class='ee-v'>73.091612</span></li><li><span class='ee-k'>1:</span><span class='ee-v'>33.630343</span></li></ul></li><li><label class='ee-shut'>3: [73.083415, 33.630343]<input type='checkbox' class='ee-toggle'></label><ul><li><span class='ee-k'>0:</span><span class='ee-v'>73.083415</span></li><li><span class='ee-k'>1:</span><span class='ee-v'>33.630343</span></li></ul></li><li><label class='ee-shut'>4: [73.083415, 33.627913]<input type='checkbox' class='ee-toggle'></label><ul><li><span class='ee-k'>0:</span><span class='ee-v'>73.083415</span></li><li><span class='ee-k'>1:</span><span class='ee-v'>33.627913</span></li></ul></li></ul></li></ul></li><li><label class='ee-shut'>10: List (1 element)<input type='checkbox' class='ee-toggle'></label><ul><li><label class='ee-shut'>0: List (5 elements)<input type='checkbox' class='ee-toggle'></label><ul><li><label class='ee-shut'>0: [73.090067, 33.633345]<input type='checkbox' class='ee-toggle'></label><ul><li><span class='ee-k'>0:</span><span class='ee-v'>73.090067</span></li><li><span class='ee-k'>1:</span><span class='ee-v'>33.633345</span></li></ul></li><li><label class='ee-shut'>1: [73.094273, 33.633345]<input type='checkbox' class='ee-toggle'></label><ul><li><span class='ee-k'>0:</span><span class='ee-v'>73.094273</span></li><li><span class='ee-k'>1:</span><span class='ee-v'>33.633345</span></li></ul></li><li><label class='ee-shut'>2: [73.094273, 33.635631]<input type='checkbox' class='ee-toggle'></label><ul><li><span class='ee-k'>0:</span><span class='ee-v'>73.094273</span></li><li><span class='ee-k'>1:</span><span class='ee-v'>33.635631</span></li></ul></li><li><label class='ee-shut'>3: [73.090067, 33.635631]<input type='checkbox' class='ee-toggle'></label><ul><li><span class='ee-k'>0:</span><span class='ee-v'>73.090067</span></li><li><span class='ee-k'>1:</span><span class='ee-v'>33.635631</span></li></ul></li><li><label class='ee-shut'>4: [73.090067, 33.633345]<input type='checkbox' class='ee-toggle'></label><ul><li><span class='ee-k'>0:</span><span class='ee-v'>73.090067</span></li><li><span class='ee-k'>1:</span><span class='ee-v'>33.633345</span></li></ul></li></ul></li></ul></li><li><label class='ee-shut'>11: List (1 element)<input type='checkbox' class='ee-toggle'></label><ul><li><label class='ee-shut'>0: List (5 elements)<input type='checkbox' class='ee-toggle'></label><ul><li><label class='ee-shut'>0: [73.095388, 33.639133]<input type='checkbox' class='ee-toggle'></label><ul><li><span class='ee-k'>0:</span><span class='ee-v'>73.095388</span></li><li><span class='ee-k'>1:</span><span class='ee-v'>33.639133</span></li></ul></li><li><label class='ee-shut'>1: [73.100109, 33.639133]<input type='checkbox' class='ee-toggle'></label><ul><li><span class='ee-k'>0:</span><span class='ee-v'>73.100109</span></li><li><span class='ee-k'>1:</span><span class='ee-v'>33.639133</span></li></ul></li><li><label class='ee-shut'>2: [73.100109, 33.640705]<input type='checkbox' class='ee-toggle'></label><ul><li><span class='ee-k'>0:</span><span class='ee-v'>73.100109</span></li><li><span class='ee-k'>1:</span><span class='ee-v'>33.640705</span></li></ul></li><li><label class='ee-shut'>3: [73.095388, 33.640705]<input type='checkbox' class='ee-toggle'></label><ul><li><span class='ee-k'>0:</span><span class='ee-v'>73.095388</span></li><li><span class='ee-k'>1:</span><span class='ee-v'>33.640705</span></li></ul></li><li><label class='ee-shut'>4: [73.095388, 33.639133]<input type='checkbox' class='ee-toggle'></label><ul><li><span class='ee-k'>0:</span><span class='ee-v'>73.095388</span></li><li><span class='ee-k'>1:</span><span class='ee-v'>33.639133</span></li></ul></li></ul></li></ul></li><li><label class='ee-shut'>12: List (1 element)<input type='checkbox' class='ee-toggle'></label><ul><li><label class='ee-shut'>0: List (5 elements)<input type='checkbox' class='ee-toggle'></label><ul><li><label class='ee-shut'>0: [73.095946, 33.634631]<input type='checkbox' class='ee-toggle'></label><ul><li><span class='ee-k'>0:</span><span class='ee-v'>73.095946</span></li><li><span class='ee-k'>1:</span><span class='ee-v'>33.634631</span></li></ul></li><li><label class='ee-shut'>1: [73.100967, 33.634631]<input type='checkbox' class='ee-toggle'></label><ul><li><span class='ee-k'>0:</span><span class='ee-v'>73.100967</span></li><li><span class='ee-k'>1:</span><span class='ee-v'>33.634631</span></li></ul></li><li><label class='ee-shut'>2: [73.100967, 33.636203]<input type='checkbox' class='ee-toggle'></label><ul><li><span class='ee-k'>0:</span><span class='ee-v'>73.100967</span></li><li><span class='ee-k'>1:</span><span class='ee-v'>33.636203</span></li></ul></li><li><label class='ee-shut'>3: [73.095946, 33.636203]<input type='checkbox' class='ee-toggle'></label><ul><li><span class='ee-k'>0:</span><span class='ee-v'>73.095946</span></li><li><span class='ee-k'>1:</span><span class='ee-v'>33.636203</span></li></ul></li><li><label class='ee-shut'>4: [73.095946, 33.634631]<input type='checkbox' class='ee-toggle'></label><ul><li><span class='ee-k'>0:</span><span class='ee-v'>73.095946</span></li><li><span class='ee-k'>1:</span><span class='ee-v'>33.634631</span></li></ul></li></ul></li></ul></li><li><label class='ee-shut'>13: List (1 element)<input type='checkbox' class='ee-toggle'></label><ul><li><label class='ee-shut'>0: List (5 elements)<input type='checkbox' class='ee-toggle'></label><ul><li><label class='ee-shut'>0: [73.113542, 33.642849]<input type='checkbox' class='ee-toggle'></label><ul><li><span class='ee-k'>0:</span><span class='ee-v'>73.113542</span></li><li><span class='ee-k'>1:</span><span class='ee-v'>33.642849</span></li></ul></li><li><label class='ee-shut'>1: [73.117619, 33.642849]<input type='checkbox' class='ee-toggle'></label><ul><li><span class='ee-k'>0:</span><span class='ee-v'>73.117619</span></li><li><span class='ee-k'>1:</span><span class='ee-v'>33.642849</span></li></ul></li><li><label class='ee-shut'>2: [73.117619, 33.644492]<input type='checkbox' class='ee-toggle'></label><ul><li><span class='ee-k'>0:</span><span class='ee-v'>73.117619</span></li><li><span class='ee-k'>1:</span><span class='ee-v'>33.644492</span></li></ul></li><li><label class='ee-shut'>3: [73.113542, 33.644492]<input type='checkbox' class='ee-toggle'></label><ul><li><span class='ee-k'>0:</span><span class='ee-v'>73.113542</span></li><li><span class='ee-k'>1:</span><span class='ee-v'>33.644492</span></li></ul></li><li><label class='ee-shut'>4: [73.113542, 33.642849]<input type='checkbox' class='ee-toggle'></label><ul><li><span class='ee-k'>0:</span><span class='ee-v'>73.113542</span></li><li><span class='ee-k'>1:</span><span class='ee-v'>33.642849</span></li></ul></li></ul></li></ul></li><li><label class='ee-shut'>14: List (1 element)<input type='checkbox' class='ee-toggle'></label><ul><li><label class='ee-shut'>0: List (5 elements)<input type='checkbox' class='ee-toggle'></label><ul><li><label class='ee-shut'>0: [73.108907, 33.638954]<input type='checkbox' class='ee-toggle'></label><ul><li><span class='ee-k'>0:</span><span class='ee-v'>73.108907</span></li><li><span class='ee-k'>1:</span><span class='ee-v'>33.638954</span></li></ul></li><li><label class='ee-shut'>1: [73.112855, 33.638954]<input type='checkbox' class='ee-toggle'></label><ul><li><span class='ee-k'>0:</span><span class='ee-v'>73.112855</span></li><li><span class='ee-k'>1:</span><span class='ee-v'>33.638954</span></li></ul></li><li><label class='ee-shut'>2: [73.112855, 33.640205]<input type='checkbox' class='ee-toggle'></label><ul><li><span class='ee-k'>0:</span><span class='ee-v'>73.112855</span></li><li><span class='ee-k'>1:</span><span class='ee-v'>33.640205</span></li></ul></li><li><label class='ee-shut'>3: [73.108907, 33.640205]<input type='checkbox' class='ee-toggle'></label><ul><li><span class='ee-k'>0:</span><span class='ee-v'>73.108907</span></li><li><span class='ee-k'>1:</span><span class='ee-v'>33.640205</span></li></ul></li><li><label class='ee-shut'>4: [73.108907, 33.638954]<input type='checkbox' class='ee-toggle'></label><ul><li><span class='ee-k'>0:</span><span class='ee-v'>73.108907</span></li><li><span class='ee-k'>1:</span><span class='ee-v'>33.638954</span></li></ul></li></ul></li></ul></li><li><label class='ee-shut'>15: List (1 element)<input type='checkbox' class='ee-toggle'></label><ul><li><label class='ee-shut'>0: List (5 elements)<input type='checkbox' class='ee-toggle'></label><ul><li><label class='ee-shut'>0: [73.173623, 33.731906]<input type='checkbox' class='ee-toggle'></label><ul><li><span class='ee-k'>0:</span><span class='ee-v'>73.173623</span></li><li><span class='ee-k'>1:</span><span class='ee-v'>33.731906</span></li></ul></li><li><label class='ee-shut'>1: [73.177228, 33.731906]<input type='checkbox' class='ee-toggle'></label><ul><li><span class='ee-k'>0:</span><span class='ee-v'>73.177228</span></li><li><span class='ee-k'>1:</span><span class='ee-v'>33.731906</span></li></ul></li><li><label class='ee-shut'>2: [73.177228, 33.733298]<input type='checkbox' class='ee-toggle'></label><ul><li><span class='ee-k'>0:</span><span class='ee-v'>73.177228</span></li><li><span class='ee-k'>1:</span><span class='ee-v'>33.733298</span></li></ul></li><li><label class='ee-shut'>3: [73.173623, 33.733298]<input type='checkbox' class='ee-toggle'></label><ul><li><span class='ee-k'>0:</span><span class='ee-v'>73.173623</span></li><li><span class='ee-k'>1:</span><span class='ee-v'>33.733298</span></li></ul></li><li><label class='ee-shut'>4: [73.173623, 33.731906]<input type='checkbox' class='ee-toggle'></label><ul><li><span class='ee-k'>0:</span><span class='ee-v'>73.173623</span></li><li><span class='ee-k'>1:</span><span class='ee-v'>33.731906</span></li></ul></li></ul></li></ul></li><li><label class='ee-shut'>16: List (1 element)<input type='checkbox' class='ee-toggle'></label><ul><li><label class='ee-shut'>0: List (5 elements)<input type='checkbox' class='ee-toggle'></label><ul><li><label class='ee-shut'>0: [73.169031, 33.729087]<input type='checkbox' class='ee-toggle'></label><ul><li><span class='ee-k'>0:</span><span class='ee-v'>73.169031</span></li><li><span class='ee-k'>1:</span><span class='ee-v'>33.729087</span></li></ul></li><li><label class='ee-shut'>1: [73.171477, 33.729087]<input type='checkbox' class='ee-toggle'></label><ul><li><span class='ee-k'>0:</span><span class='ee-v'>73.171477</span></li><li><span class='ee-k'>1:</span><span class='ee-v'>33.729087</span></li></ul></li><li><label class='ee-shut'>2: [73.171477, 33.730158]<input type='checkbox' class='ee-toggle'></label><ul><li><span class='ee-k'>0:</span><span class='ee-v'>73.171477</span></li><li><span class='ee-k'>1:</span><span class='ee-v'>33.730158</span></li></ul></li><li><label class='ee-shut'>3: [73.169031, 33.730158]<input type='checkbox' class='ee-toggle'></label><ul><li><span class='ee-k'>0:</span><span class='ee-v'>73.169031</span></li><li><span class='ee-k'>1:</span><span class='ee-v'>33.730158</span></li></ul></li><li><label class='ee-shut'>4: [73.169031, 33.729087]<input type='checkbox' class='ee-toggle'></label><ul><li><span class='ee-k'>0:</span><span class='ee-v'>73.169031</span></li><li><span class='ee-k'>1:</span><span class='ee-v'>33.729087</span></li></ul></li></ul></li></ul></li><li><label class='ee-shut'>17: List (1 element)<input type='checkbox' class='ee-toggle'></label><ul><li><label class='ee-shut'>0: List (5 elements)<input type='checkbox' class='ee-toggle'></label><ul><li><label class='ee-shut'>0: [73.178172, 33.736475]<input type='checkbox' class='ee-toggle'></label><ul><li><span class='ee-k'>0:</span><span class='ee-v'>73.178172</span></li><li><span class='ee-k'>1:</span><span class='ee-v'>33.736475</span></li></ul></li><li><label class='ee-shut'>1: [73.181949, 33.736475]<input type='checkbox' class='ee-toggle'></label><ul><li><span class='ee-k'>0:</span><span class='ee-v'>73.181949</span></li><li><span class='ee-k'>1:</span><span class='ee-v'>33.736475</span></li></ul></li><li><label class='ee-shut'>2: [73.181949, 33.737545]<input type='checkbox' class='ee-toggle'></label><ul><li><span class='ee-k'>0:</span><span class='ee-v'>73.181949</span></li><li><span class='ee-k'>1:</span><span class='ee-v'>33.737545</span></li></ul></li><li><label class='ee-shut'>3: [73.178172, 33.737545]<input type='checkbox' class='ee-toggle'></label><ul><li><span class='ee-k'>0:</span><span class='ee-v'>73.178172</span></li><li><span class='ee-k'>1:</span><span class='ee-v'>33.737545</span></li></ul></li><li><label class='ee-shut'>4: [73.178172, 33.736475]<input type='checkbox' class='ee-toggle'></label><ul><li><span class='ee-k'>0:</span><span class='ee-v'>73.178172</span></li><li><span class='ee-k'>1:</span><span class='ee-v'>33.736475</span></li></ul></li></ul></li></ul></li><li><label class='ee-shut'>18: List (1 element)<input type='checkbox' class='ee-toggle'></label><ul><li><label class='ee-shut'>0: List (5 elements)<input type='checkbox' class='ee-toggle'></label><ul><li><label class='ee-shut'>0: [73.182678, 33.737153]<input type='checkbox' class='ee-toggle'></label><ul><li><span class='ee-k'>0:</span><span class='ee-v'>73.182678</span></li><li><span class='ee-k'>1:</span><span class='ee-v'>33.737153</span></li></ul></li><li><label class='ee-shut'>1: [73.184438, 33.737153]<input type='checkbox' class='ee-toggle'></label><ul><li><span class='ee-k'>0:</span><span class='ee-v'>73.184438</span></li><li><span class='ee-k'>1:</span><span class='ee-v'>33.737153</span></li></ul></li><li><label class='ee-shut'>2: [73.184438, 33.738081]<input type='checkbox' class='ee-toggle'></label><ul><li><span class='ee-k'>0:</span><span class='ee-v'>73.184438</span></li><li><span class='ee-k'>1:</span><span class='ee-v'>33.738081</span></li></ul></li><li><label class='ee-shut'>3: [73.182678, 33.738081]<input type='checkbox' class='ee-toggle'></label><ul><li><span class='ee-k'>0:</span><span class='ee-v'>73.182678</span></li><li><span class='ee-k'>1:</span><span class='ee-v'>33.738081</span></li></ul></li><li><label class='ee-shut'>4: [73.182678, 33.737153]<input type='checkbox' class='ee-toggle'></label><ul><li><span class='ee-k'>0:</span><span class='ee-v'>73.182678</span></li><li><span class='ee-k'>1:</span><span class='ee-v'>33.737153</span></li></ul></li></ul></li></ul></li><li><label class='ee-shut'>19: List (1 element)<input type='checkbox' class='ee-toggle'></label><ul><li><label class='ee-shut'>0: List (5 elements)<input type='checkbox' class='ee-toggle'></label><ul><li><label class='ee-shut'>0: [73.179588, 33.748822]<input type='checkbox' class='ee-toggle'></label><ul><li><span class='ee-k'>0:</span><span class='ee-v'>73.179588</span></li><li><span class='ee-k'>1:</span><span class='ee-v'>33.748822</span></li></ul></li><li><label class='ee-shut'>1: [73.182764, 33.748822]<input type='checkbox' class='ee-toggle'></label><ul><li><span class='ee-k'>0:</span><span class='ee-v'>73.182764</span></li><li><span class='ee-k'>1:</span><span class='ee-v'>33.748822</span></li></ul></li><li><label class='ee-shut'>2: [73.182764, 33.750677]<input type='checkbox' class='ee-toggle'></label><ul><li><span class='ee-k'>0:</span><span class='ee-v'>73.182764</span></li><li><span class='ee-k'>1:</span><span class='ee-v'>33.750677</span></li></ul></li><li><label class='ee-shut'>3: [73.179588, 33.750677]<input type='checkbox' class='ee-toggle'></label><ul><li><span class='ee-k'>0:</span><span class='ee-v'>73.179588</span></li><li><span class='ee-k'>1:</span><span class='ee-v'>33.750677</span></li></ul></li><li><label class='ee-shut'>4: [73.179588, 33.748822]<input type='checkbox' class='ee-toggle'></label><ul><li><span class='ee-k'>0:</span><span class='ee-v'>73.179588</span></li><li><span class='ee-k'>1:</span><span class='ee-v'>33.748822</span></li></ul></li></ul></li></ul></li><li><label class='ee-shut'>20: List (1 element)<input type='checkbox' class='ee-toggle'></label><ul><li><label class='ee-shut'>0: List (5 elements)<input type='checkbox' class='ee-toggle'></label><ul><li><label class='ee-shut'>0: [73.036809, 33.628556]<input type='checkbox' class='ee-toggle'></label><ul><li><span class='ee-k'>0:</span><span class='ee-v'>73.036809</span></li><li><span class='ee-k'>1:</span><span class='ee-v'>33.628556</span></li></ul></li><li><label class='ee-shut'>1: [73.039126, 33.628556]<input type='checkbox' class='ee-toggle'></label><ul><li><span class='ee-k'>0:</span><span class='ee-v'>73.039126</span></li><li><span class='ee-k'>1:</span><span class='ee-v'>33.628556</span></li></ul></li><li><label class='ee-shut'>2: [73.039126, 33.630236]<input type='checkbox' class='ee-toggle'></label><ul><li><span class='ee-k'>0:</span><span class='ee-v'>73.039126</span></li><li><span class='ee-k'>1:</span><span class='ee-v'>33.630236</span></li></ul></li><li><label class='ee-shut'>3: [73.036809, 33.630236]<input type='checkbox' class='ee-toggle'></label><ul><li><span class='ee-k'>0:</span><span class='ee-v'>73.036809</span></li><li><span class='ee-k'>1:</span><span class='ee-v'>33.630236</span></li></ul></li><li><label class='ee-shut'>4: [73.036809, 33.628556]<input type='checkbox' class='ee-toggle'></label><ul><li><span class='ee-k'>0:</span><span class='ee-v'>73.036809</span></li><li><span class='ee-k'>1:</span><span class='ee-v'>33.628556</span></li></ul></li></ul></li></ul></li><li><label class='ee-shut'>21: List (1 element)<input type='checkbox' class='ee-toggle'></label><ul><li><label class='ee-shut'>0: List (5 elements)<input type='checkbox' class='ee-toggle'></label><ul><li><label class='ee-shut'>0: [73.030372, 33.6307]<input type='checkbox' class='ee-toggle'></label><ul><li><span class='ee-k'>0:</span><span class='ee-v'>73.030372</span></li><li><span class='ee-k'>1:</span><span class='ee-v'>33.6307</span></li></ul></li><li><label class='ee-shut'>1: [73.03299, 33.6307]<input type='checkbox' class='ee-toggle'></label><ul><li><span class='ee-k'>0:</span><span class='ee-v'>73.03299</span></li><li><span class='ee-k'>1:</span><span class='ee-v'>33.6307</span></li></ul></li><li><label class='ee-shut'>2: [73.03299, 33.632487]<input type='checkbox' class='ee-toggle'></label><ul><li><span class='ee-k'>0:</span><span class='ee-v'>73.03299</span></li><li><span class='ee-k'>1:</span><span class='ee-v'>33.632487</span></li></ul></li><li><label class='ee-shut'>3: [73.030372, 33.632487]<input type='checkbox' class='ee-toggle'></label><ul><li><span class='ee-k'>0:</span><span class='ee-v'>73.030372</span></li><li><span class='ee-k'>1:</span><span class='ee-v'>33.632487</span></li></ul></li><li><label class='ee-shut'>4: [73.030372, 33.6307]<input type='checkbox' class='ee-toggle'></label><ul><li><span class='ee-k'>0:</span><span class='ee-v'>73.030372</span></li><li><span class='ee-k'>1:</span><span class='ee-v'>33.6307</span></li></ul></li></ul></li></ul></li><li><label class='ee-shut'>22: List (1 element)<input type='checkbox' class='ee-toggle'></label><ul><li><label class='ee-shut'>0: List (5 elements)<input type='checkbox' class='ee-toggle'></label><ul><li><label class='ee-shut'>0: [73.030586, 33.625984]<input type='checkbox' class='ee-toggle'></label><ul><li><span class='ee-k'>0:</span><span class='ee-v'>73.030586</span></li><li><span class='ee-k'>1:</span><span class='ee-v'>33.625984</span></li></ul></li><li><label class='ee-shut'>1: [73.033204, 33.625984]<input type='checkbox' class='ee-toggle'></label><ul><li><span class='ee-k'>0:</span><span class='ee-v'>73.033204</span></li><li><span class='ee-k'>1:</span><span class='ee-v'>33.625984</span></li></ul></li><li><label class='ee-shut'>2: [73.033204, 33.62727]<input type='checkbox' class='ee-toggle'></label><ul><li><span class='ee-k'>0:</span><span class='ee-v'>73.033204</span></li><li><span class='ee-k'>1:</span><span class='ee-v'>33.62727</span></li></ul></li><li><label class='ee-shut'>3: [73.030586, 33.62727]<input type='checkbox' class='ee-toggle'></label><ul><li><span class='ee-k'>0:</span><span class='ee-v'>73.030586</span></li><li><span class='ee-k'>1:</span><span class='ee-v'>33.62727</span></li></ul></li><li><label class='ee-shut'>4: [73.030586, 33.625984]<input type='checkbox' class='ee-toggle'></label><ul><li><span class='ee-k'>0:</span><span class='ee-v'>73.030586</span></li><li><span class='ee-k'>1:</span><span class='ee-v'>33.625984</span></li></ul></li></ul></li></ul></li><li><label class='ee-shut'>23: List (1 element)<input type='checkbox' class='ee-toggle'></label><ul><li><label class='ee-shut'>0: List (5 elements)<input type='checkbox' class='ee-toggle'></label><ul><li><label class='ee-shut'>0: [72.683895, 33.821531]<input type='checkbox' class='ee-toggle'></label><ul><li><span class='ee-k'>0:</span><span class='ee-v'>72.683895</span></li><li><span class='ee-k'>1:</span><span class='ee-v'>33.821531</span></li></ul></li><li><label class='ee-shut'>1: [72.68647, 33.821531]<input type='checkbox' class='ee-toggle'></label><ul><li><span class='ee-k'>0:</span><span class='ee-v'>72.68647</span></li><li><span class='ee-k'>1:</span><span class='ee-v'>33.821531</span></li></ul></li><li><label class='ee-shut'>2: [72.68647, 33.823581]<input type='checkbox' class='ee-toggle'></label><ul><li><span class='ee-k'>0:</span><span class='ee-v'>72.68647</span></li><li><span class='ee-k'>1:</span><span class='ee-v'>33.823581</span></li></ul></li><li><label class='ee-shut'>3: [72.683895, 33.823581]<input type='checkbox' class='ee-toggle'></label><ul><li><span class='ee-k'>0:</span><span class='ee-v'>72.683895</span></li><li><span class='ee-k'>1:</span><span class='ee-v'>33.823581</span></li></ul></li><li><label class='ee-shut'>4: [72.683895, 33.821531]<input type='checkbox' class='ee-toggle'></label><ul><li><span class='ee-k'>0:</span><span class='ee-v'>72.683895</span></li><li><span class='ee-k'>1:</span><span class='ee-v'>33.821531</span></li></ul></li></ul></li></ul></li><li><label class='ee-shut'>24: List (1 element)<input type='checkbox' class='ee-toggle'></label><ul><li><label class='ee-shut'>0: List (5 elements)<input type='checkbox' class='ee-toggle'></label><ul><li><label class='ee-shut'>0: [72.682629, 33.824473]<input type='checkbox' class='ee-toggle'></label><ul><li><span class='ee-k'>0:</span><span class='ee-v'>72.682629</span></li><li><span class='ee-k'>1:</span><span class='ee-v'>33.824473</span></li></ul></li><li><label class='ee-shut'>1: [72.68471, 33.824473]<input type='checkbox' class='ee-toggle'></label><ul><li><span class='ee-k'>0:</span><span class='ee-v'>72.68471</span></li><li><span class='ee-k'>1:</span><span class='ee-v'>33.824473</span></li></ul></li><li><label class='ee-shut'>2: [72.68471, 33.825453]<input type='checkbox' class='ee-toggle'></label><ul><li><span class='ee-k'>0:</span><span class='ee-v'>72.68471</span></li><li><span class='ee-k'>1:</span><span class='ee-v'>33.825453</span></li></ul></li><li><label class='ee-shut'>3: [72.682629, 33.825453]<input type='checkbox' class='ee-toggle'></label><ul><li><span class='ee-k'>0:</span><span class='ee-v'>72.682629</span></li><li><span class='ee-k'>1:</span><span class='ee-v'>33.825453</span></li></ul></li><li><label class='ee-shut'>4: [72.682629, 33.824473]<input type='checkbox' class='ee-toggle'></label><ul><li><span class='ee-k'>0:</span><span class='ee-v'>72.682629</span></li><li><span class='ee-k'>1:</span><span class='ee-v'>33.824473</span></li></ul></li></ul></li></ul></li><li><label class='ee-shut'>25: List (1 element)<input type='checkbox' class='ee-toggle'></label><ul><li><label class='ee-shut'>0: List (5 elements)<input type='checkbox' class='ee-toggle'></label><ul><li><label class='ee-shut'>0: [72.727089, 33.765912]<input type='checkbox' class='ee-toggle'></label><ul><li><span class='ee-k'>0:</span><span class='ee-v'>72.727089</span></li><li><span class='ee-k'>1:</span><span class='ee-v'>33.765912</span></li></ul></li><li><label class='ee-shut'>1: [72.729878, 33.765912]<input type='checkbox' class='ee-toggle'></label><ul><li><span class='ee-k'>0:</span><span class='ee-v'>72.729878</span></li><li><span class='ee-k'>1:</span><span class='ee-v'>33.765912</span></li></ul></li><li><label class='ee-shut'>2: [72.729878, 33.767518]<input type='checkbox' class='ee-toggle'></label><ul><li><span class='ee-k'>0:</span><span class='ee-v'>72.729878</span></li><li><span class='ee-k'>1:</span><span class='ee-v'>33.767518</span></li></ul></li><li><label class='ee-shut'>3: [72.727089, 33.767518]<input type='checkbox' class='ee-toggle'></label><ul><li><span class='ee-k'>0:</span><span class='ee-v'>72.727089</span></li><li><span class='ee-k'>1:</span><span class='ee-v'>33.767518</span></li></ul></li><li><label class='ee-shut'>4: [72.727089, 33.765912]<input type='checkbox' class='ee-toggle'></label><ul><li><span class='ee-k'>0:</span><span class='ee-v'>72.727089</span></li><li><span class='ee-k'>1:</span><span class='ee-v'>33.765912</span></li></ul></li></ul></li></ul></li><li><label class='ee-shut'>26: List (1 element)<input type='checkbox' class='ee-toggle'></label><ul><li><label class='ee-shut'>0: List (5 elements)<input type='checkbox' class='ee-toggle'></label><ul><li><label class='ee-shut'>0: [72.730994, 33.763843]<input type='checkbox' class='ee-toggle'></label><ul><li><span class='ee-k'>0:</span><span class='ee-v'>72.730994</span></li><li><span class='ee-k'>1:</span><span class='ee-v'>33.763843</span></li></ul></li><li><label class='ee-shut'>1: [72.73344, 33.763843]<input type='checkbox' class='ee-toggle'></label><ul><li><span class='ee-k'>0:</span><span class='ee-v'>72.73344</span></li><li><span class='ee-k'>1:</span><span class='ee-v'>33.763843</span></li></ul></li><li><label class='ee-shut'>2: [72.73344, 33.765484]<input type='checkbox' class='ee-toggle'></label><ul><li><span class='ee-k'>0:</span><span class='ee-v'>72.73344</span></li><li><span class='ee-k'>1:</span><span class='ee-v'>33.765484</span></li></ul></li><li><label class='ee-shut'>3: [72.730994, 33.765484]<input type='checkbox' class='ee-toggle'></label><ul><li><span class='ee-k'>0:</span><span class='ee-v'>72.730994</span></li><li><span class='ee-k'>1:</span><span class='ee-v'>33.765484</span></li></ul></li><li><label class='ee-shut'>4: [72.730994, 33.763843]<input type='checkbox' class='ee-toggle'></label><ul><li><span class='ee-k'>0:</span><span class='ee-v'>72.730994</span></li><li><span class='ee-k'>1:</span><span class='ee-v'>33.763843</span></li></ul></li></ul></li></ul></li><li><label class='ee-shut'>27: List (1 element)<input type='checkbox' class='ee-toggle'></label><ul><li><label class='ee-shut'>0: List (5 elements)<input type='checkbox' class='ee-toggle'></label><ul><li><label class='ee-shut'>0: [72.728269, 33.764503]<input type='checkbox' class='ee-toggle'></label><ul><li><span class='ee-k'>0:</span><span class='ee-v'>72.728269</span></li><li><span class='ee-k'>1:</span><span class='ee-v'>33.764503</span></li></ul></li><li><label class='ee-shut'>1: [72.730157, 33.764503]<input type='checkbox' class='ee-toggle'></label><ul><li><span class='ee-k'>0:</span><span class='ee-v'>72.730157</span></li><li><span class='ee-k'>1:</span><span class='ee-v'>33.764503</span></li></ul></li><li><label class='ee-shut'>2: [72.730157, 33.765449]<input type='checkbox' class='ee-toggle'></label><ul><li><span class='ee-k'>0:</span><span class='ee-v'>72.730157</span></li><li><span class='ee-k'>1:</span><span class='ee-v'>33.765449</span></li></ul></li><li><label class='ee-shut'>3: [72.728269, 33.765449]<input type='checkbox' class='ee-toggle'></label><ul><li><span class='ee-k'>0:</span><span class='ee-v'>72.728269</span></li><li><span class='ee-k'>1:</span><span class='ee-v'>33.765449</span></li></ul></li><li><label class='ee-shut'>4: [72.728269, 33.764503]<input type='checkbox' class='ee-toggle'></label><ul><li><span class='ee-k'>0:</span><span class='ee-v'>72.728269</span></li><li><span class='ee-k'>1:</span><span class='ee-v'>33.764503</span></li></ul></li></ul></li></ul></li><li><label class='ee-shut'>28: List (1 element)<input type='checkbox' class='ee-toggle'></label><ul><li><label class='ee-shut'>0: List (5 elements)<input type='checkbox' class='ee-toggle'></label><ul><li><label class='ee-shut'>0: [72.74816, 33.758402]<input type='checkbox' class='ee-toggle'></label><ul><li><span class='ee-k'>0:</span><span class='ee-v'>72.74816</span></li><li><span class='ee-k'>1:</span><span class='ee-v'>33.758402</span></li></ul></li><li><label class='ee-shut'>1: [72.748182, 33.758402]<input type='checkbox' class='ee-toggle'></label><ul><li><span class='ee-k'>0:</span><span class='ee-v'>72.748182</span></li><li><span class='ee-k'>1:</span><span class='ee-v'>33.758402</span></li></ul></li><li><label class='ee-shut'>2: [72.748182, 33.759758]<input type='checkbox' class='ee-toggle'></label><ul><li><span class='ee-k'>0:</span><span class='ee-v'>72.748182</span></li><li><span class='ee-k'>1:</span><span class='ee-v'>33.759758</span></li></ul></li><li><label class='ee-shut'>3: [72.74816, 33.759758]<input type='checkbox' class='ee-toggle'></label><ul><li><span class='ee-k'>0:</span><span class='ee-v'>72.74816</span></li><li><span class='ee-k'>1:</span><span class='ee-v'>33.759758</span></li></ul></li><li><label class='ee-shut'>4: [72.74816, 33.758402]<input type='checkbox' class='ee-toggle'></label><ul><li><span class='ee-k'>0:</span><span class='ee-v'>72.74816</span></li><li><span class='ee-k'>1:</span><span class='ee-v'>33.758402</span></li></ul></li></ul></li></ul></li><li><label class='ee-shut'>29: List (1 element)<input type='checkbox' class='ee-toggle'></label><ul><li><label class='ee-shut'>0: List (5 elements)<input type='checkbox' class='ee-toggle'></label><ul><li><label class='ee-shut'>0: [72.749212, 33.75826]<input type='checkbox' class='ee-toggle'></label><ul><li><span class='ee-k'>0:</span><span class='ee-v'>72.749212</span></li><li><span class='ee-k'>1:</span><span class='ee-v'>33.75826</span></li></ul></li><li><label class='ee-shut'>1: [72.752216, 33.75826]<input type='checkbox' class='ee-toggle'></label><ul><li><span class='ee-k'>0:</span><span class='ee-v'>72.752216</span></li><li><span class='ee-k'>1:</span><span class='ee-v'>33.75826</span></li></ul></li><li><label class='ee-shut'>2: [72.752216, 33.759384]<input type='checkbox' class='ee-toggle'></label><ul><li><span class='ee-k'>0:</span><span class='ee-v'>72.752216</span></li><li><span class='ee-k'>1:</span><span class='ee-v'>33.759384</span></li></ul></li><li><label class='ee-shut'>3: [72.749212, 33.759384]<input type='checkbox' class='ee-toggle'></label><ul><li><span class='ee-k'>0:</span><span class='ee-v'>72.749212</span></li><li><span class='ee-k'>1:</span><span class='ee-v'>33.759384</span></li></ul></li><li><label class='ee-shut'>4: [72.749212, 33.75826]<input type='checkbox' class='ee-toggle'></label><ul><li><span class='ee-k'>0:</span><span class='ee-v'>72.749212</span></li><li><span class='ee-k'>1:</span><span class='ee-v'>33.75826</span></li></ul></li></ul></li></ul></li><li><label class='ee-shut'>30: List (1 element)<input type='checkbox' class='ee-toggle'></label><ul><li><label class='ee-shut'>0: List (5 elements)<input type='checkbox' class='ee-toggle'></label><ul><li><label class='ee-shut'>0: [72.981298, 33.669193]<input type='checkbox' class='ee-toggle'></label><ul><li><span class='ee-k'>0:</span><span class='ee-v'>72.981298</span></li><li><span class='ee-k'>1:</span><span class='ee-v'>33.669193</span></li></ul></li><li><label class='ee-shut'>1: [72.982671, 33.669193]<input type='checkbox' class='ee-toggle'></label><ul><li><span class='ee-k'>0:</span><span class='ee-v'>72.982671</span></li><li><span class='ee-k'>1:</span><span class='ee-v'>33.669193</span></li></ul></li><li><label class='ee-shut'>2: [72.982671, 33.669926]<input type='checkbox' class='ee-toggle'></label><ul><li><span class='ee-k'>0:</span><span class='ee-v'>72.982671</span></li><li><span class='ee-k'>1:</span><span class='ee-v'>33.669926</span></li></ul></li><li><label class='ee-shut'>3: [72.981298, 33.669926]<input type='checkbox' class='ee-toggle'></label><ul><li><span class='ee-k'>0:</span><span class='ee-v'>72.981298</span></li><li><span class='ee-k'>1:</span><span class='ee-v'>33.669926</span></li></ul></li><li><label class='ee-shut'>4: [72.981298, 33.669193]<input type='checkbox' class='ee-toggle'></label><ul><li><span class='ee-k'>0:</span><span class='ee-v'>72.981298</span></li><li><span class='ee-k'>1:</span><span class='ee-v'>33.669193</span></li></ul></li></ul></li></ul></li><li><label class='ee-shut'>31: List (1 element)<input type='checkbox' class='ee-toggle'></label><ul><li><label class='ee-shut'>0: List (5 elements)<input type='checkbox' class='ee-toggle'></label><ul><li><label class='ee-shut'>0: [72.979174, 33.667586]<input type='checkbox' class='ee-toggle'></label><ul><li><span class='ee-k'>0:</span><span class='ee-v'>72.979174</span></li><li><span class='ee-k'>1:</span><span class='ee-v'>33.667586</span></li></ul></li><li><label class='ee-shut'>1: [72.981277, 33.667586]<input type='checkbox' class='ee-toggle'></label><ul><li><span class='ee-k'>0:</span><span class='ee-v'>72.981277</span></li><li><span class='ee-k'>1:</span><span class='ee-v'>33.667586</span></li></ul></li><li><label class='ee-shut'>2: [72.981277, 33.668336]<input type='checkbox' class='ee-toggle'></label><ul><li><span class='ee-k'>0:</span><span class='ee-v'>72.981277</span></li><li><span class='ee-k'>1:</span><span class='ee-v'>33.668336</span></li></ul></li><li><label class='ee-shut'>3: [72.979174, 33.668336]<input type='checkbox' class='ee-toggle'></label><ul><li><span class='ee-k'>0:</span><span class='ee-v'>72.979174</span></li><li><span class='ee-k'>1:</span><span class='ee-v'>33.668336</span></li></ul></li><li><label class='ee-shut'>4: [72.979174, 33.667586]<input type='checkbox' class='ee-toggle'></label><ul><li><span class='ee-k'>0:</span><span class='ee-v'>72.979174</span></li><li><span class='ee-k'>1:</span><span class='ee-v'>33.667586</span></li></ul></li></ul></li></ul></li></ul></li></ul></li><li><label class='ee-shut'>properties: Object (1 property)<input type='checkbox' class='ee-toggle'></label><ul><li><span class='ee-k'>class:</span><span class='ee-v'>3</span></li></ul></li></ul></li><li><label class='ee-shut'>4: Feature (MultiPolygon, 1 property)<input type='checkbox' class='ee-toggle'></label><ul><li><span class='ee-k'>type:</span><span class='ee-v'>Feature</span></li><li><span class='ee-k'>id:</span><span class='ee-v'>4</span></li><li><label class='ee-shut'>geometry: MultiPolygon (5 vertices)<input type='checkbox' class='ee-toggle'></label><ul><li><span class='ee-k'>type:</span><span class='ee-v'>MultiPolygon</span></li><li><label class='ee-shut'>coordinates: List (21 elements)<input type='checkbox' class='ee-toggle'></label><ul><li><label class='ee-shut'>0: List (1 element)<input type='checkbox' class='ee-toggle'></label><ul><li><label class='ee-shut'>0: List (5 elements)<input type='checkbox' class='ee-toggle'></label><ul><li><label class='ee-shut'>0: [72.818069, 34.258351]<input type='checkbox' class='ee-toggle'></label><ul><li><span class='ee-k'>0:</span><span class='ee-v'>72.818069</span></li><li><span class='ee-k'>1:</span><span class='ee-v'>34.258351</span></li></ul></li><li><label class='ee-shut'>1: [72.828026, 34.258351]<input type='checkbox' class='ee-toggle'></label><ul><li><span class='ee-k'>0:</span><span class='ee-v'>72.828026</span></li><li><span class='ee-k'>1:</span><span class='ee-v'>34.258351</span></li></ul></li><li><label class='ee-shut'>2: [72.828026, 34.265445]<input type='checkbox' class='ee-toggle'></label><ul><li><span class='ee-k'>0:</span><span class='ee-v'>72.828026</span></li><li><span class='ee-k'>1:</span><span class='ee-v'>34.265445</span></li></ul></li><li><label class='ee-shut'>3: [72.818069, 34.265445]<input type='checkbox' class='ee-toggle'></label><ul><li><span class='ee-k'>0:</span><span class='ee-v'>72.818069</span></li><li><span class='ee-k'>1:</span><span class='ee-v'>34.265445</span></li></ul></li><li><label class='ee-shut'>4: [72.818069, 34.258351]<input type='checkbox' class='ee-toggle'></label><ul><li><span class='ee-k'>0:</span><span class='ee-v'>72.818069</span></li><li><span class='ee-k'>1:</span><span class='ee-v'>34.258351</span></li></ul></li></ul></li></ul></li><li><label class='ee-shut'>1: List (1 element)<input type='checkbox' class='ee-toggle'></label><ul><li><label class='ee-shut'>0: List (5 elements)<input type='checkbox' class='ee-toggle'></label><ul><li><label class='ee-shut'>0: [72.814293, 34.230255]<input type='checkbox' class='ee-toggle'></label><ul><li><span class='ee-k'>0:</span><span class='ee-v'>72.814293</span></li><li><span class='ee-k'>1:</span><span class='ee-v'>34.230255</span></li></ul></li><li><label class='ee-shut'>1: [72.827339, 34.230255]<input type='checkbox' class='ee-toggle'></label><ul><li><span class='ee-k'>0:</span><span class='ee-v'>72.827339</span></li><li><span class='ee-k'>1:</span><span class='ee-v'>34.230255</span></li></ul></li><li><label class='ee-shut'>2: [72.827339, 34.242743]<input type='checkbox' class='ee-toggle'></label><ul><li><span class='ee-k'>0:</span><span class='ee-v'>72.827339</span></li><li><span class='ee-k'>1:</span><span class='ee-v'>34.242743</span></li></ul></li><li><label class='ee-shut'>3: [72.814293, 34.242743]<input type='checkbox' class='ee-toggle'></label><ul><li><span class='ee-k'>0:</span><span class='ee-v'>72.814293</span></li><li><span class='ee-k'>1:</span><span class='ee-v'>34.242743</span></li></ul></li><li><label class='ee-shut'>4: [72.814293, 34.230255]<input type='checkbox' class='ee-toggle'></label><ul><li><span class='ee-k'>0:</span><span class='ee-v'>72.814293</span></li><li><span class='ee-k'>1:</span><span class='ee-v'>34.230255</span></li></ul></li></ul></li></ul></li><li><label class='ee-shut'>2: List (1 element)<input type='checkbox' class='ee-toggle'></label><ul><li><label class='ee-shut'>0: List (5 elements)<input type='checkbox' class='ee-toggle'></label><ul><li><label class='ee-shut'>0: [72.812576, 34.212654]<input type='checkbox' class='ee-toggle'></label><ul><li><span class='ee-k'>0:</span><span class='ee-v'>72.812576</span></li><li><span class='ee-k'>1:</span><span class='ee-v'>34.212654</span></li></ul></li><li><label class='ee-shut'>1: [72.823906, 34.212654]<input type='checkbox' class='ee-toggle'></label><ul><li><span class='ee-k'>0:</span><span class='ee-v'>72.823906</span></li><li><span class='ee-k'>1:</span><span class='ee-v'>34.212654</span></li></ul></li><li><label class='ee-shut'>2: [72.823906, 34.221739]<input type='checkbox' class='ee-toggle'></label><ul><li><span class='ee-k'>0:</span><span class='ee-v'>72.823906</span></li><li><span class='ee-k'>1:</span><span class='ee-v'>34.221739</span></li></ul></li><li><label class='ee-shut'>3: [72.812576, 34.221739]<input type='checkbox' class='ee-toggle'></label><ul><li><span class='ee-k'>0:</span><span class='ee-v'>72.812576</span></li><li><span class='ee-k'>1:</span><span class='ee-v'>34.221739</span></li></ul></li><li><label class='ee-shut'>4: [72.812576, 34.212654]<input type='checkbox' class='ee-toggle'></label><ul><li><span class='ee-k'>0:</span><span class='ee-v'>72.812576</span></li><li><span class='ee-k'>1:</span><span class='ee-v'>34.212654</span></li></ul></li></ul></li></ul></li><li><label class='ee-shut'>3: List (1 element)<input type='checkbox' class='ee-toggle'></label><ul><li><label class='ee-shut'>0: List (5 elements)<input type='checkbox' class='ee-toggle'></label><ul><li><label class='ee-shut'>0: [72.880554, 34.096738]<input type='checkbox' class='ee-toggle'></label><ul><li><span class='ee-k'>0:</span><span class='ee-v'>72.880554</span></li><li><span class='ee-k'>1:</span><span class='ee-v'>34.096738</span></li></ul></li><li><label class='ee-shut'>1: [72.89566, 34.096738]<input type='checkbox' class='ee-toggle'></label><ul><li><span class='ee-k'>0:</span><span class='ee-v'>72.89566</span></li><li><span class='ee-k'>1:</span><span class='ee-v'>34.096738</span></li></ul></li><li><label class='ee-shut'>2: [72.89566, 34.108109]<input type='checkbox' class='ee-toggle'></label><ul><li><span class='ee-k'>0:</span><span class='ee-v'>72.89566</span></li><li><span class='ee-k'>1:</span><span class='ee-v'>34.108109</span></li></ul></li><li><label class='ee-shut'>3: [72.880554, 34.108109]<input type='checkbox' class='ee-toggle'></label><ul><li><span class='ee-k'>0:</span><span class='ee-v'>72.880554</span></li><li><span class='ee-k'>1:</span><span class='ee-v'>34.108109</span></li></ul></li><li><label class='ee-shut'>4: [72.880554, 34.096738]<input type='checkbox' class='ee-toggle'></label><ul><li><span class='ee-k'>0:</span><span class='ee-v'>72.880554</span></li><li><span class='ee-k'>1:</span><span class='ee-v'>34.096738</span></li></ul></li></ul></li></ul></li><li><label class='ee-shut'>4: List (1 element)<input type='checkbox' class='ee-toggle'></label><ul><li><label class='ee-shut'>0: List (5 elements)<input type='checkbox' class='ee-toggle'></label><ul><li><label class='ee-shut'>0: [72.875748, 34.058348]<input type='checkbox' class='ee-toggle'></label><ul><li><span class='ee-k'>0:</span><span class='ee-v'>72.875748</span></li><li><span class='ee-k'>1:</span><span class='ee-v'>34.058348</span></li></ul></li><li><label class='ee-shut'>1: [72.886391, 34.058348]<input type='checkbox' class='ee-toggle'></label><ul><li><span class='ee-k'>0:</span><span class='ee-v'>72.886391</span></li><li><span class='ee-k'>1:</span><span class='ee-v'>34.058348</span></li></ul></li><li><label class='ee-shut'>2: [72.886391, 34.070578]<input type='checkbox' class='ee-toggle'></label><ul><li><span class='ee-k'>0:</span><span class='ee-v'>72.886391</span></li><li><span class='ee-k'>1:</span><span class='ee-v'>34.070578</span></li></ul></li><li><label class='ee-shut'>3: [72.875748, 34.070578]<input type='checkbox' class='ee-toggle'></label><ul><li><span class='ee-k'>0:</span><span class='ee-v'>72.875748</span></li><li><span class='ee-k'>1:</span><span class='ee-v'>34.070578</span></li></ul></li><li><label class='ee-shut'>4: [72.875748, 34.058348]<input type='checkbox' class='ee-toggle'></label><ul><li><span class='ee-k'>0:</span><span class='ee-v'>72.875748</span></li><li><span class='ee-k'>1:</span><span class='ee-v'>34.058348</span></li></ul></li></ul></li></ul></li><li><label class='ee-shut'>5: List (1 element)<input type='checkbox' class='ee-toggle'></label><ul><li><label class='ee-shut'>0: List (5 elements)<input type='checkbox' class='ee-toggle'></label><ul><li><label class='ee-shut'>0: [72.780647, 34.118058]<input type='checkbox' class='ee-toggle'></label><ul><li><span class='ee-k'>0:</span><span class='ee-v'>72.780647</span></li><li><span class='ee-k'>1:</span><span class='ee-v'>34.118058</span></li></ul></li><li><label class='ee-shut'>1: [72.80571, 34.118058]<input type='checkbox' class='ee-toggle'></label><ul><li><span class='ee-k'>0:</span><span class='ee-v'>72.80571</span></li><li><span class='ee-k'>1:</span><span class='ee-v'>34.118058</span></li></ul></li><li><label class='ee-shut'>2: [72.80571, 34.1317]<input type='checkbox' class='ee-toggle'></label><ul><li><span class='ee-k'>0:</span><span class='ee-v'>72.80571</span></li><li><span class='ee-k'>1:</span><span class='ee-v'>34.1317</span></li></ul></li><li><label class='ee-shut'>3: [72.780647, 34.1317]<input type='checkbox' class='ee-toggle'></label><ul><li><span class='ee-k'>0:</span><span class='ee-v'>72.780647</span></li><li><span class='ee-k'>1:</span><span class='ee-v'>34.1317</span></li></ul></li><li><label class='ee-shut'>4: [72.780647, 34.118058]<input type='checkbox' class='ee-toggle'></label><ul><li><span class='ee-k'>0:</span><span class='ee-v'>72.780647</span></li><li><span class='ee-k'>1:</span><span class='ee-v'>34.118058</span></li></ul></li></ul></li></ul></li><li><label class='ee-shut'>6: List (1 element)<input type='checkbox' class='ee-toggle'></label><ul><li><label class='ee-shut'>0: List (5 elements)<input type='checkbox' class='ee-toggle'></label><ul><li><label class='ee-shut'>0: [72.667007, 34.056357]<input type='checkbox' class='ee-toggle'></label><ul><li><span class='ee-k'>0:</span><span class='ee-v'>72.667007</span></li><li><span class='ee-k'>1:</span><span class='ee-v'>34.056357</span></li></ul></li><li><label class='ee-shut'>1: [72.67662, 34.056357]<input type='checkbox' class='ee-toggle'></label><ul><li><span class='ee-k'>0:</span><span class='ee-v'>72.67662</span></li><li><span class='ee-k'>1:</span><span class='ee-v'>34.056357</span></li></ul></li><li><label class='ee-shut'>2: [72.67662, 34.062899]<input type='checkbox' class='ee-toggle'></label><ul><li><span class='ee-k'>0:</span><span class='ee-v'>72.67662</span></li><li><span class='ee-k'>1:</span><span class='ee-v'>34.062899</span></li></ul></li><li><label class='ee-shut'>3: [72.667007, 34.062899]<input type='checkbox' class='ee-toggle'></label><ul><li><span class='ee-k'>0:</span><span class='ee-v'>72.667007</span></li><li><span class='ee-k'>1:</span><span class='ee-v'>34.062899</span></li></ul></li><li><label class='ee-shut'>4: [72.667007, 34.056357]<input type='checkbox' class='ee-toggle'></label><ul><li><span class='ee-k'>0:</span><span class='ee-v'>72.667007</span></li><li><span class='ee-k'>1:</span><span class='ee-v'>34.056357</span></li></ul></li></ul></li></ul></li><li><label class='ee-shut'>7: List (1 element)<input type='checkbox' class='ee-toggle'></label><ul><li><label class='ee-shut'>0: List (5 elements)<input type='checkbox' class='ee-toggle'></label><ul><li><label class='ee-shut'>0: [72.709923, 34.091336]<input type='checkbox' class='ee-toggle'></label><ul><li><span class='ee-k'>0:</span><span class='ee-v'>72.709923</span></li><li><span class='ee-k'>1:</span><span class='ee-v'>34.091336</span></li></ul></li><li><label class='ee-shut'>1: [72.730179, 34.091336]<input type='checkbox' class='ee-toggle'></label><ul><li><span class='ee-k'>0:</span><span class='ee-v'>72.730179</span></li><li><span class='ee-k'>1:</span><span class='ee-v'>34.091336</span></li></ul></li><li><label class='ee-shut'>2: [72.730179, 34.103561]<input type='checkbox' class='ee-toggle'></label><ul><li><span class='ee-k'>0:</span><span class='ee-v'>72.730179</span></li><li><span class='ee-k'>1:</span><span class='ee-v'>34.103561</span></li></ul></li><li><label class='ee-shut'>3: [72.709923, 34.103561]<input type='checkbox' class='ee-toggle'></label><ul><li><span class='ee-k'>0:</span><span class='ee-v'>72.709923</span></li><li><span class='ee-k'>1:</span><span class='ee-v'>34.103561</span></li></ul></li><li><label class='ee-shut'>4: [72.709923, 34.091336]<input type='checkbox' class='ee-toggle'></label><ul><li><span class='ee-k'>0:</span><span class='ee-v'>72.709923</span></li><li><span class='ee-k'>1:</span><span class='ee-v'>34.091336</span></li></ul></li></ul></li></ul></li><li><label class='ee-shut'>8: List (1 element)<input type='checkbox' class='ee-toggle'></label><ul><li><label class='ee-shut'>0: List (6 elements)<input type='checkbox' class='ee-toggle'></label><ul><li><label class='ee-shut'>0: [71.994417, 33.677051]<input type='checkbox' class='ee-toggle'></label><ul><li><span class='ee-k'>0:</span><span class='ee-v'>71.994417</span></li><li><span class='ee-k'>1:</span><span class='ee-v'>33.677051</span></li></ul></li><li><label class='ee-shut'>1: [71.995339, 33.676051]<input type='checkbox' class='ee-toggle'></label><ul><li><span class='ee-k'>0:</span><span class='ee-v'>71.995339</span></li><li><span class='ee-k'>1:</span><span class='ee-v'>33.676051</span></li></ul></li><li><label class='ee-shut'>2: [71.996841, 33.676711]<input type='checkbox' class='ee-toggle'></label><ul><li><span class='ee-k'>0:</span><span class='ee-v'>71.996841</span></li><li><span class='ee-k'>1:</span><span class='ee-v'>33.676711</span></li></ul></li><li><label class='ee-shut'>3: [71.996584, 33.677336]<input type='checkbox' class='ee-toggle'></label><ul><li><span class='ee-k'>0:</span><span class='ee-v'>71.996584</span></li><li><span class='ee-k'>1:</span><span class='ee-v'>33.677336</span></li></ul></li><li><label class='ee-shut'>4: [71.995168, 33.67739]<input type='checkbox' class='ee-toggle'></label><ul><li><span class='ee-k'>0:</span><span class='ee-v'>71.995168</span></li><li><span class='ee-k'>1:</span><span class='ee-v'>33.67739</span></li></ul></li><li><label class='ee-shut'>5: [71.994417, 33.677051]<input type='checkbox' class='ee-toggle'></label><ul><li><span class='ee-k'>0:</span><span class='ee-v'>71.994417</span></li><li><span class='ee-k'>1:</span><span class='ee-v'>33.677051</span></li></ul></li></ul></li></ul></li><li><label class='ee-shut'>9: List (1 element)<input type='checkbox' class='ee-toggle'></label><ul><li><label class='ee-shut'>0: List (5 elements)<input type='checkbox' class='ee-toggle'></label><ul><li><label class='ee-shut'>0: [71.998451, 33.677479]<input type='checkbox' class='ee-toggle'></label><ul><li><span class='ee-k'>0:</span><span class='ee-v'>71.998451</span></li><li><span class='ee-k'>1:</span><span class='ee-v'>33.677479</span></li></ul></li><li><label class='ee-shut'>1: [72.00021, 33.677479]<input type='checkbox' class='ee-toggle'></label><ul><li><span class='ee-k'>0:</span><span class='ee-v'>72.00021</span></li><li><span class='ee-k'>1:</span><span class='ee-v'>33.677479</span></li></ul></li><li><label class='ee-shut'>2: [72.00021, 33.67864]<input type='checkbox' class='ee-toggle'></label><ul><li><span class='ee-k'>0:</span><span class='ee-v'>72.00021</span></li><li><span class='ee-k'>1:</span><span class='ee-v'>33.67864</span></li></ul></li><li><label class='ee-shut'>3: [71.998451, 33.67864]<input type='checkbox' class='ee-toggle'></label><ul><li><span class='ee-k'>0:</span><span class='ee-v'>71.998451</span></li><li><span class='ee-k'>1:</span><span class='ee-v'>33.67864</span></li></ul></li><li><label class='ee-shut'>4: [71.998451, 33.677479]<input type='checkbox' class='ee-toggle'></label><ul><li><span class='ee-k'>0:</span><span class='ee-v'>71.998451</span></li><li><span class='ee-k'>1:</span><span class='ee-v'>33.677479</span></li></ul></li></ul></li></ul></li><li><label class='ee-shut'>10: List (1 element)<input type='checkbox' class='ee-toggle'></label><ul><li><label class='ee-shut'>0: List (5 elements)<input type='checkbox' class='ee-toggle'></label><ul><li><label class='ee-shut'>0: [71.991498, 33.674801]<input type='checkbox' class='ee-toggle'></label><ul><li><span class='ee-k'>0:</span><span class='ee-v'>71.991498</span></li><li><span class='ee-k'>1:</span><span class='ee-v'>33.674801</span></li></ul></li><li><label class='ee-shut'>1: [71.994009, 33.674801]<input type='checkbox' class='ee-toggle'></label><ul><li><span class='ee-k'>0:</span><span class='ee-v'>71.994009</span></li><li><span class='ee-k'>1:</span><span class='ee-v'>33.674801</span></li></ul></li><li><label class='ee-shut'>2: [71.994009, 33.676015]<input type='checkbox' class='ee-toggle'></label><ul><li><span class='ee-k'>0:</span><span class='ee-v'>71.994009</span></li><li><span class='ee-k'>1:</span><span class='ee-v'>33.676015</span></li></ul></li><li><label class='ee-shut'>3: [71.991498, 33.676015]<input type='checkbox' class='ee-toggle'></label><ul><li><span class='ee-k'>0:</span><span class='ee-v'>71.991498</span></li><li><span class='ee-k'>1:</span><span class='ee-v'>33.676015</span></li></ul></li><li><label class='ee-shut'>4: [71.991498, 33.674801]<input type='checkbox' class='ee-toggle'></label><ul><li><span class='ee-k'>0:</span><span class='ee-v'>71.991498</span></li><li><span class='ee-k'>1:</span><span class='ee-v'>33.674801</span></li></ul></li></ul></li></ul></li><li><label class='ee-shut'>11: List (1 element)<input type='checkbox' class='ee-toggle'></label><ul><li><label class='ee-shut'>0: List (5 elements)<input type='checkbox' class='ee-toggle'></label><ul><li><label class='ee-shut'>0: [73.725471, 33.190145]<input type='checkbox' class='ee-toggle'></label><ul><li><span class='ee-k'>0:</span><span class='ee-v'>73.725471</span></li><li><span class='ee-k'>1:</span><span class='ee-v'>33.190145</span></li></ul></li><li><label class='ee-shut'>1: [73.766327, 33.190145]<input type='checkbox' class='ee-toggle'></label><ul><li><span class='ee-k'>0:</span><span class='ee-v'>73.766327</span></li><li><span class='ee-k'>1:</span><span class='ee-v'>33.190145</span></li></ul></li><li><label class='ee-shut'>2: [73.766327, 33.219446]<input type='checkbox' class='ee-toggle'></label><ul><li><span class='ee-k'>0:</span><span class='ee-v'>73.766327</span></li><li><span class='ee-k'>1:</span><span class='ee-v'>33.219446</span></li></ul></li><li><label class='ee-shut'>3: [73.725471, 33.219446]<input type='checkbox' class='ee-toggle'></label><ul><li><span class='ee-k'>0:</span><span class='ee-v'>73.725471</span></li><li><span class='ee-k'>1:</span><span class='ee-v'>33.219446</span></li></ul></li><li><label class='ee-shut'>4: [73.725471, 33.190145]<input type='checkbox' class='ee-toggle'></label><ul><li><span class='ee-k'>0:</span><span class='ee-v'>73.725471</span></li><li><span class='ee-k'>1:</span><span class='ee-v'>33.190145</span></li></ul></li></ul></li></ul></li><li><label class='ee-shut'>12: List (1 element)<input type='checkbox' class='ee-toggle'></label><ul><li><label class='ee-shut'>0: List (5 elements)<input type='checkbox' class='ee-toggle'></label><ul><li><label class='ee-shut'>0: [73.664017, 33.16026]<input type='checkbox' class='ee-toggle'></label><ul><li><span class='ee-k'>0:</span><span class='ee-v'>73.664017</span></li><li><span class='ee-k'>1:</span><span class='ee-v'>33.16026</span></li></ul></li><li><label class='ee-shut'>1: [73.679466, 33.16026]<input type='checkbox' class='ee-toggle'></label><ul><li><span class='ee-k'>0:</span><span class='ee-v'>73.679466</span></li><li><span class='ee-k'>1:</span><span class='ee-v'>33.16026</span></li></ul></li><li><label class='ee-shut'>2: [73.679466, 33.178077]<input type='checkbox' class='ee-toggle'></label><ul><li><span class='ee-k'>0:</span><span class='ee-v'>73.679466</span></li><li><span class='ee-k'>1:</span><span class='ee-v'>33.178077</span></li></ul></li><li><label class='ee-shut'>3: [73.664017, 33.178077]<input type='checkbox' class='ee-toggle'></label><ul><li><span class='ee-k'>0:</span><span class='ee-v'>73.664017</span></li><li><span class='ee-k'>1:</span><span class='ee-v'>33.178077</span></li></ul></li><li><label class='ee-shut'>4: [73.664017, 33.16026]<input type='checkbox' class='ee-toggle'></label><ul><li><span class='ee-k'>0:</span><span class='ee-v'>73.664017</span></li><li><span class='ee-k'>1:</span><span class='ee-v'>33.16026</span></li></ul></li></ul></li></ul></li><li><label class='ee-shut'>13: List (1 element)<input type='checkbox' class='ee-toggle'></label><ul><li><label class='ee-shut'>0: List (5 elements)<input type='checkbox' class='ee-toggle'></label><ul><li><label class='ee-shut'>0: [73.651314, 33.141863]<input type='checkbox' class='ee-toggle'></label><ul><li><span class='ee-k'>0:</span><span class='ee-v'>73.651314</span></li><li><span class='ee-k'>1:</span><span class='ee-v'>33.141863</span></li></ul></li><li><label class='ee-shut'>1: [73.661613, 33.141863]<input type='checkbox' class='ee-toggle'></label><ul><li><span class='ee-k'>0:</span><span class='ee-v'>73.661613</span></li><li><span class='ee-k'>1:</span><span class='ee-v'>33.141863</span></li></ul></li><li><label class='ee-shut'>2: [73.661613, 33.153361]<input type='checkbox' class='ee-toggle'></label><ul><li><span class='ee-k'>0:</span><span class='ee-v'>73.661613</span></li><li><span class='ee-k'>1:</span><span class='ee-v'>33.153361</span></li></ul></li><li><label class='ee-shut'>3: [73.651314, 33.153361]<input type='checkbox' class='ee-toggle'></label><ul><li><span class='ee-k'>0:</span><span class='ee-v'>73.651314</span></li><li><span class='ee-k'>1:</span><span class='ee-v'>33.153361</span></li></ul></li><li><label class='ee-shut'>4: [73.651314, 33.141863]<input type='checkbox' class='ee-toggle'></label><ul><li><span class='ee-k'>0:</span><span class='ee-v'>73.651314</span></li><li><span class='ee-k'>1:</span><span class='ee-v'>33.141863</span></li></ul></li></ul></li></ul></li><li><label class='ee-shut'>14: List (1 element)<input type='checkbox' class='ee-toggle'></label><ul><li><label class='ee-shut'>0: List (5 elements)<input type='checkbox' class='ee-toggle'></label><ul><li><label class='ee-shut'>0: [73.549776, 33.19327]<input type='checkbox' class='ee-toggle'></label><ul><li><span class='ee-k'>0:</span><span class='ee-v'>73.549776</span></li><li><span class='ee-k'>1:</span><span class='ee-v'>33.19327</span></li></ul></li><li><label class='ee-shut'>1: [73.55454, 33.19327]<input type='checkbox' class='ee-toggle'></label><ul><li><span class='ee-k'>0:</span><span class='ee-v'>73.55454</span></li><li><span class='ee-k'>1:</span><span class='ee-v'>33.19327</span></li></ul></li><li><label class='ee-shut'>2: [73.55454, 33.195748]<input type='checkbox' class='ee-toggle'></label><ul><li><span class='ee-k'>0:</span><span class='ee-v'>73.55454</span></li><li><span class='ee-k'>1:</span><span class='ee-v'>33.195748</span></li></ul></li><li><label class='ee-shut'>3: [73.549776, 33.195748]<input type='checkbox' class='ee-toggle'></label><ul><li><span class='ee-k'>0:</span><span class='ee-v'>73.549776</span></li><li><span class='ee-k'>1:</span><span class='ee-v'>33.195748</span></li></ul></li><li><label class='ee-shut'>4: [73.549776, 33.19327]<input type='checkbox' class='ee-toggle'></label><ul><li><span class='ee-k'>0:</span><span class='ee-v'>73.549776</span></li><li><span class='ee-k'>1:</span><span class='ee-v'>33.19327</span></li></ul></li></ul></li></ul></li><li><label class='ee-shut'>15: List (1 element)<input type='checkbox' class='ee-toggle'></label><ul><li><label class='ee-shut'>0: List (5 elements)<input type='checkbox' class='ee-toggle'></label><ul><li><label class='ee-shut'>0: [73.544068, 33.187344]<input type='checkbox' class='ee-toggle'></label><ul><li><span class='ee-k'>0:</span><span class='ee-v'>73.544068</span></li><li><span class='ee-k'>1:</span><span class='ee-v'>33.187344</span></li></ul></li><li><label class='ee-shut'>1: [73.548574, 33.187344]<input type='checkbox' class='ee-toggle'></label><ul><li><span class='ee-k'>0:</span><span class='ee-v'>73.548574</span></li><li><span class='ee-k'>1:</span><span class='ee-v'>33.187344</span></li></ul></li><li><label class='ee-shut'>2: [73.548574, 33.191187]<input type='checkbox' class='ee-toggle'></label><ul><li><span class='ee-k'>0:</span><span class='ee-v'>73.548574</span></li><li><span class='ee-k'>1:</span><span class='ee-v'>33.191187</span></li></ul></li><li><label class='ee-shut'>3: [73.544068, 33.191187]<input type='checkbox' class='ee-toggle'></label><ul><li><span class='ee-k'>0:</span><span class='ee-v'>73.544068</span></li><li><span class='ee-k'>1:</span><span class='ee-v'>33.191187</span></li></ul></li><li><label class='ee-shut'>4: [73.544068, 33.187344]<input type='checkbox' class='ee-toggle'></label><ul><li><span class='ee-k'>0:</span><span class='ee-v'>73.544068</span></li><li><span class='ee-k'>1:</span><span class='ee-v'>33.187344</span></li></ul></li></ul></li></ul></li><li><label class='ee-shut'>16: List (1 element)<input type='checkbox' class='ee-toggle'></label><ul><li><label class='ee-shut'>0: List (5 elements)<input type='checkbox' class='ee-toggle'></label><ul><li><label class='ee-shut'>0: [73.556728, 33.233519]<input type='checkbox' class='ee-toggle'></label><ul><li><span class='ee-k'>0:</span><span class='ee-v'>73.556728</span></li><li><span class='ee-k'>1:</span><span class='ee-v'>33.233519</span></li></ul></li><li><label class='ee-shut'>1: [73.560848, 33.233519]<input type='checkbox' class='ee-toggle'></label><ul><li><span class='ee-k'>0:</span><span class='ee-v'>73.560848</span></li><li><span class='ee-k'>1:</span><span class='ee-v'>33.233519</span></li></ul></li><li><label class='ee-shut'>2: [73.560848, 33.236103]<input type='checkbox' class='ee-toggle'></label><ul><li><span class='ee-k'>0:</span><span class='ee-v'>73.560848</span></li><li><span class='ee-k'>1:</span><span class='ee-v'>33.236103</span></li></ul></li><li><label class='ee-shut'>3: [73.556728, 33.236103]<input type='checkbox' class='ee-toggle'></label><ul><li><span class='ee-k'>0:</span><span class='ee-v'>73.556728</span></li><li><span class='ee-k'>1:</span><span class='ee-v'>33.236103</span></li></ul></li><li><label class='ee-shut'>4: [73.556728, 33.233519]<input type='checkbox' class='ee-toggle'></label><ul><li><span class='ee-k'>0:</span><span class='ee-v'>73.556728</span></li><li><span class='ee-k'>1:</span><span class='ee-v'>33.233519</span></li></ul></li></ul></li></ul></li><li><label class='ee-shut'>17: List (1 element)<input type='checkbox' class='ee-toggle'></label><ul><li><label class='ee-shut'>0: List (5 elements)<input type='checkbox' class='ee-toggle'></label><ul><li><label class='ee-shut'>0: [72.221589, 33.474462]<input type='checkbox' class='ee-toggle'></label><ul><li><span class='ee-k'>0:</span><span class='ee-v'>72.221589</span></li><li><span class='ee-k'>1:</span><span class='ee-v'>33.474462</span></li></ul></li><li><label class='ee-shut'>1: [72.223606, 33.474462]<input type='checkbox' class='ee-toggle'></label><ul><li><span class='ee-k'>0:</span><span class='ee-v'>72.223606</span></li><li><span class='ee-k'>1:</span><span class='ee-v'>33.474462</span></li></ul></li><li><label class='ee-shut'>2: [72.223606, 33.475214]<input type='checkbox' class='ee-toggle'></label><ul><li><span class='ee-k'>0:</span><span class='ee-v'>72.223606</span></li><li><span class='ee-k'>1:</span><span class='ee-v'>33.475214</span></li></ul></li><li><label class='ee-shut'>3: [72.221589, 33.475214]<input type='checkbox' class='ee-toggle'></label><ul><li><span class='ee-k'>0:</span><span class='ee-v'>72.221589</span></li><li><span class='ee-k'>1:</span><span class='ee-v'>33.475214</span></li></ul></li><li><label class='ee-shut'>4: [72.221589, 33.474462]<input type='checkbox' class='ee-toggle'></label><ul><li><span class='ee-k'>0:</span><span class='ee-v'>72.221589</span></li><li><span class='ee-k'>1:</span><span class='ee-v'>33.474462</span></li></ul></li></ul></li></ul></li><li><label class='ee-shut'>18: List (1 element)<input type='checkbox' class='ee-toggle'></label><ul><li><label class='ee-shut'>0: List (5 elements)<input type='checkbox' class='ee-toggle'></label><ul><li><label class='ee-shut'>0: [72.223027, 33.472207]<input type='checkbox' class='ee-toggle'></label><ul><li><span class='ee-k'>0:</span><span class='ee-v'>72.223027</span></li><li><span class='ee-k'>1:</span><span class='ee-v'>33.472207</span></li></ul></li><li><label class='ee-shut'>1: [72.225194, 33.472207]<input type='checkbox' class='ee-toggle'></label><ul><li><span class='ee-k'>0:</span><span class='ee-v'>72.225194</span></li><li><span class='ee-k'>1:</span><span class='ee-v'>33.472207</span></li></ul></li><li><label class='ee-shut'>2: [72.225194, 33.473245]<input type='checkbox' class='ee-toggle'></label><ul><li><span class='ee-k'>0:</span><span class='ee-v'>72.225194</span></li><li><span class='ee-k'>1:</span><span class='ee-v'>33.473245</span></li></ul></li><li><label class='ee-shut'>3: [72.223027, 33.473245]<input type='checkbox' class='ee-toggle'></label><ul><li><span class='ee-k'>0:</span><span class='ee-v'>72.223027</span></li><li><span class='ee-k'>1:</span><span class='ee-v'>33.473245</span></li></ul></li><li><label class='ee-shut'>4: [72.223027, 33.472207]<input type='checkbox' class='ee-toggle'></label><ul><li><span class='ee-k'>0:</span><span class='ee-v'>72.223027</span></li><li><span class='ee-k'>1:</span><span class='ee-v'>33.472207</span></li></ul></li></ul></li></ul></li><li><label class='ee-shut'>19: List (1 element)<input type='checkbox' class='ee-toggle'></label><ul><li><label class='ee-shut'>0: List (5 elements)<input type='checkbox' class='ee-toggle'></label><ul><li><label class='ee-shut'>0: [72.669926, 32.888525]<input type='checkbox' class='ee-toggle'></label><ul><li><span class='ee-k'>0:</span><span class='ee-v'>72.669926</span></li><li><span class='ee-k'>1:</span><span class='ee-v'>32.888525</span></li></ul></li><li><label class='ee-shut'>1: [72.676277, 32.888525]<input type='checkbox' class='ee-toggle'></label><ul><li><span class='ee-k'>0:</span><span class='ee-v'>72.676277</span></li><li><span class='ee-k'>1:</span><span class='ee-v'>32.888525</span></li></ul></li><li><label class='ee-shut'>2: [72.676277, 32.891696]<input type='checkbox' class='ee-toggle'></label><ul><li><span class='ee-k'>0:</span><span class='ee-v'>72.676277</span></li><li><span class='ee-k'>1:</span><span class='ee-v'>32.891696</span></li></ul></li><li><label class='ee-shut'>3: [72.669926, 32.891696]<input type='checkbox' class='ee-toggle'></label><ul><li><span class='ee-k'>0:</span><span class='ee-v'>72.669926</span></li><li><span class='ee-k'>1:</span><span class='ee-v'>32.891696</span></li></ul></li><li><label class='ee-shut'>4: [72.669926, 32.888525]<input type='checkbox' class='ee-toggle'></label><ul><li><span class='ee-k'>0:</span><span class='ee-v'>72.669926</span></li><li><span class='ee-k'>1:</span><span class='ee-v'>32.888525</span></li></ul></li></ul></li></ul></li><li><label class='ee-shut'>20: List (1 element)<input type='checkbox' class='ee-toggle'></label><ul><li><label class='ee-shut'>0: List (5 elements)<input type='checkbox' class='ee-toggle'></label><ul><li><label class='ee-shut'>0: [72.675076, 32.879731]<input type='checkbox' class='ee-toggle'></label><ul><li><span class='ee-k'>0:</span><span class='ee-v'>72.675076</span></li><li><span class='ee-k'>1:</span><span class='ee-v'>32.879731</span></li></ul></li><li><label class='ee-shut'>1: [72.681084, 32.879731]<input type='checkbox' class='ee-toggle'></label><ul><li><span class='ee-k'>0:</span><span class='ee-v'>72.681084</span></li><li><span class='ee-k'>1:</span><span class='ee-v'>32.879731</span></li></ul></li><li><label class='ee-shut'>2: [72.681084, 32.885354]<input type='checkbox' class='ee-toggle'></label><ul><li><span class='ee-k'>0:</span><span class='ee-v'>72.681084</span></li><li><span class='ee-k'>1:</span><span class='ee-v'>32.885354</span></li></ul></li><li><label class='ee-shut'>3: [72.675076, 32.885354]<input type='checkbox' class='ee-toggle'></label><ul><li><span class='ee-k'>0:</span><span class='ee-v'>72.675076</span></li><li><span class='ee-k'>1:</span><span class='ee-v'>32.885354</span></li></ul></li><li><label class='ee-shut'>4: [72.675076, 32.879731]<input type='checkbox' class='ee-toggle'></label><ul><li><span class='ee-k'>0:</span><span class='ee-v'>72.675076</span></li><li><span class='ee-k'>1:</span><span class='ee-v'>32.879731</span></li></ul></li></ul></li></ul></li></ul></li></ul></li><li><label class='ee-shut'>properties: Object (1 property)<input type='checkbox' class='ee-toggle'></label><ul><li><span class='ee-k'>class:</span><span class='ee-v'>4</span></li></ul></li></ul></li></ul></li></ul></li></ul></div><script>function toggleHeader() {\n",
       "    const parent = this.parentElement;\n",
       "    parent.className = parent.className === \"ee-open\" ? \"ee-shut\" : \"ee-open\";\n",
       "}\n",
       "\n",
       "for (let c of document.getElementsByClassName(\"ee-toggle\")) {\n",
       "    c.onclick = toggleHeader;\n",
       "}</script></div>"
      ],
      "text/plain": [
       "<ee.featurecollection.FeatureCollection at 0xfffec05bfd30>"
      ]
     },
     "execution_count": 18,
     "metadata": {},
     "output_type": "execute_result"
    }
   ],
   "source": [
    "polygons"
   ]
  },
  {
   "cell_type": "markdown",
   "id": "c789bef3-8df6-4c13-8c59-6be012358188",
   "metadata": {},
   "source": [
    "### Classification: using built-in Random Forest"
   ]
  },
  {
   "cell_type": "code",
   "execution_count": 23,
   "id": "a0c56752-f856-4a6c-8b71-633a8ddcad5a",
   "metadata": {},
   "outputs": [
    {
     "data": {
      "text/html": [
       "\n",
       "            <style>\n",
       "                .geemap-dark {\n",
       "                    --jp-widgets-color: white;\n",
       "                    --jp-widgets-label-color: white;\n",
       "                    --jp-ui-font-color1: white;\n",
       "                    --jp-layout-color2: #454545;\n",
       "                    background-color: #383838;\n",
       "                }\n",
       "\n",
       "                .geemap-dark .jupyter-button {\n",
       "                    --jp-layout-color3: #383838;\n",
       "                }\n",
       "\n",
       "                .geemap-colab {\n",
       "                    background-color: var(--colab-primary-surface-color, white);\n",
       "                }\n",
       "\n",
       "                .geemap-colab .jupyter-button {\n",
       "                    --jp-layout-color3: var(--colab-primary-surface-color, white);\n",
       "                }\n",
       "            </style>\n",
       "            "
      ],
      "text/plain": [
       "<IPython.core.display.HTML object>"
      ]
     },
     "metadata": {},
     "output_type": "display_data"
    }
   ],
   "source": [
    "## Bands for feature selection\n",
    "bands = [\"B2_median\", \"B3_median\", \"B4_median\", \"B8_median\",\"B12_median\"]"
   ]
  },
  {
   "cell_type": "code",
   "execution_count": 24,
   "id": "a47d06f4-5a83-415f-98e4-f562d46dee7d",
   "metadata": {},
   "outputs": [
    {
     "data": {
      "text/html": [
       "\n",
       "            <style>\n",
       "                .geemap-dark {\n",
       "                    --jp-widgets-color: white;\n",
       "                    --jp-widgets-label-color: white;\n",
       "                    --jp-ui-font-color1: white;\n",
       "                    --jp-layout-color2: #454545;\n",
       "                    background-color: #383838;\n",
       "                }\n",
       "\n",
       "                .geemap-dark .jupyter-button {\n",
       "                    --jp-layout-color3: #383838;\n",
       "                }\n",
       "\n",
       "                .geemap-colab {\n",
       "                    background-color: var(--colab-primary-surface-color, white);\n",
       "                }\n",
       "\n",
       "                .geemap-colab .jupyter-button {\n",
       "                    --jp-layout-color3: var(--colab-primary-surface-color, white);\n",
       "                }\n",
       "            </style>\n",
       "            "
      ],
      "text/plain": [
       "<IPython.core.display.HTML object>"
      ]
     },
     "metadata": {},
     "output_type": "display_data"
    }
   ],
   "source": [
    "## Extracting training samples,\n",
    "#Scale is to reduce the overall samples, since area is quite large\n",
    "\n",
    "samples = reduced.select(bands).sampleRegions(**{\n",
    "  'collection': polygons,\n",
    "  'properties': ['class'],\n",
    "  'scale': 80\n",
    "})"
   ]
  },
  {
   "cell_type": "code",
   "execution_count": 25,
   "id": "b8231dcc-949d-4f63-b633-3967493a5a10",
   "metadata": {},
   "outputs": [
    {
     "data": {
      "text/html": [
       "\n",
       "            <style>\n",
       "                .geemap-dark {\n",
       "                    --jp-widgets-color: white;\n",
       "                    --jp-widgets-label-color: white;\n",
       "                    --jp-ui-font-color1: white;\n",
       "                    --jp-layout-color2: #454545;\n",
       "                    background-color: #383838;\n",
       "                }\n",
       "\n",
       "                .geemap-dark .jupyter-button {\n",
       "                    --jp-layout-color3: #383838;\n",
       "                }\n",
       "\n",
       "                .geemap-colab {\n",
       "                    background-color: var(--colab-primary-surface-color, white);\n",
       "                }\n",
       "\n",
       "                .geemap-colab .jupyter-button {\n",
       "                    --jp-layout-color3: var(--colab-primary-surface-color, white);\n",
       "                }\n",
       "            </style>\n",
       "            "
      ],
      "text/plain": [
       "<IPython.core.display.HTML object>"
      ]
     },
     "metadata": {},
     "output_type": "display_data"
    },
    {
     "name": "stdout",
     "output_type": "stream",
     "text": [
      "Number of samples: 15437\n"
     ]
    }
   ],
   "source": [
    "print(\"Number of samples:\",samples.size().getInfo())"
   ]
  },
  {
   "cell_type": "code",
   "execution_count": 26,
   "id": "f7b2ba46-22ca-45a4-bd95-d14d1879dfd5",
   "metadata": {},
   "outputs": [
    {
     "data": {
      "text/html": [
       "\n",
       "            <style>\n",
       "                .geemap-dark {\n",
       "                    --jp-widgets-color: white;\n",
       "                    --jp-widgets-label-color: white;\n",
       "                    --jp-ui-font-color1: white;\n",
       "                    --jp-layout-color2: #454545;\n",
       "                    background-color: #383838;\n",
       "                }\n",
       "\n",
       "                .geemap-dark .jupyter-button {\n",
       "                    --jp-layout-color3: #383838;\n",
       "                }\n",
       "\n",
       "                .geemap-colab {\n",
       "                    background-color: var(--colab-primary-surface-color, white);\n",
       "                }\n",
       "\n",
       "                .geemap-colab .jupyter-button {\n",
       "                    --jp-layout-color3: var(--colab-primary-surface-color, white);\n",
       "                }\n",
       "            </style>\n",
       "            "
      ],
      "text/plain": [
       "<IPython.core.display.HTML object>"
      ]
     },
     "metadata": {},
     "output_type": "display_data"
    },
    {
     "name": "stdout",
     "output_type": "stream",
     "text": [
      "{'type': 'Feature', 'geometry': None, 'id': '0_0', 'properties': {'B12_median': 3570, 'B2_median': 1291, 'B3_median': 1794, 'B4_median': 2294.5, 'B8_median': 3333, 'class': 0}}\n"
     ]
    }
   ],
   "source": [
    "print(samples.first().getInfo())"
   ]
  },
  {
   "cell_type": "code",
   "execution_count": 27,
   "id": "4c4d6af5-062f-454a-8b36-61e718a1e63c",
   "metadata": {},
   "outputs": [
    {
     "data": {
      "text/html": [
       "\n",
       "            <style>\n",
       "                .geemap-dark {\n",
       "                    --jp-widgets-color: white;\n",
       "                    --jp-widgets-label-color: white;\n",
       "                    --jp-ui-font-color1: white;\n",
       "                    --jp-layout-color2: #454545;\n",
       "                    background-color: #383838;\n",
       "                }\n",
       "\n",
       "                .geemap-dark .jupyter-button {\n",
       "                    --jp-layout-color3: #383838;\n",
       "                }\n",
       "\n",
       "                .geemap-colab {\n",
       "                    background-color: var(--colab-primary-surface-color, white);\n",
       "                }\n",
       "\n",
       "                .geemap-colab .jupyter-button {\n",
       "                    --jp-layout-color3: var(--colab-primary-surface-color, white);\n",
       "                }\n",
       "            </style>\n",
       "            "
      ],
      "text/plain": [
       "<IPython.core.display.HTML object>"
      ]
     },
     "metadata": {},
     "output_type": "display_data"
    }
   ],
   "source": [
    "#Training random forest using all training samples\n",
    "trained = ee.Classifier.smileRandomForest(10).train(samples, 'class', bands)"
   ]
  },
  {
   "cell_type": "code",
   "execution_count": 28,
   "id": "05c9cf9d-0eb1-473f-bfe6-5dd549601505",
   "metadata": {},
   "outputs": [
    {
     "data": {
      "text/html": [
       "\n",
       "            <style>\n",
       "                .geemap-dark {\n",
       "                    --jp-widgets-color: white;\n",
       "                    --jp-widgets-label-color: white;\n",
       "                    --jp-ui-font-color1: white;\n",
       "                    --jp-layout-color2: #454545;\n",
       "                    background-color: #383838;\n",
       "                }\n",
       "\n",
       "                .geemap-dark .jupyter-button {\n",
       "                    --jp-layout-color3: #383838;\n",
       "                }\n",
       "\n",
       "                .geemap-colab {\n",
       "                    background-color: var(--colab-primary-surface-color, white);\n",
       "                }\n",
       "\n",
       "                .geemap-colab .jupyter-button {\n",
       "                    --jp-layout-color3: var(--colab-primary-surface-color, white);\n",
       "                }\n",
       "            </style>\n",
       "            "
      ],
      "text/plain": [
       "<IPython.core.display.HTML object>"
      ]
     },
     "metadata": {},
     "output_type": "display_data"
    }
   ],
   "source": [
    "# Classify the image with the same bands used for training.\n",
    "result = reduced.select(bands).classify(trained)"
   ]
  },
  {
   "cell_type": "markdown",
   "id": "835c2a24-fdbf-403d-9854-535510f6a9d4",
   "metadata": {},
   "source": [
    "### Evaluate Performance and Generalization"
   ]
  },
  {
   "cell_type": "code",
   "execution_count": 32,
   "id": "5100bcf5-3840-44d7-a0ec-2e2b9e220983",
   "metadata": {},
   "outputs": [
    {
     "data": {
      "text/html": [
       "\n",
       "            <style>\n",
       "                .geemap-dark {\n",
       "                    --jp-widgets-color: white;\n",
       "                    --jp-widgets-label-color: white;\n",
       "                    --jp-ui-font-color1: white;\n",
       "                    --jp-layout-color2: #454545;\n",
       "                    background-color: #383838;\n",
       "                }\n",
       "\n",
       "                .geemap-dark .jupyter-button {\n",
       "                    --jp-layout-color3: #383838;\n",
       "                }\n",
       "\n",
       "                .geemap-colab {\n",
       "                    background-color: var(--colab-primary-surface-color, white);\n",
       "                }\n",
       "\n",
       "                .geemap-colab .jupyter-button {\n",
       "                    --jp-layout-color3: var(--colab-primary-surface-color, white);\n",
       "                }\n",
       "            </style>\n",
       "            "
      ],
      "text/plain": [
       "<IPython.core.display.HTML object>"
      ]
     },
     "metadata": {},
     "output_type": "display_data"
    }
   ],
   "source": [
    "# Train-Test split\n",
    "\n",
    "split = 0.7\n",
    "\n",
    "samples = samples.randomColumn()\n",
    "training = samples.filter(ee.Filter.lt(\"random\", split))\n",
    "test = samples.filter(ee.Filter.gte(\"random\", split))"
   ]
  },
  {
   "cell_type": "code",
   "execution_count": 33,
   "id": "4c0e4157-bd76-48d4-8f0a-072373ec905d",
   "metadata": {},
   "outputs": [
    {
     "data": {
      "text/html": [
       "\n",
       "            <style>\n",
       "                .geemap-dark {\n",
       "                    --jp-widgets-color: white;\n",
       "                    --jp-widgets-label-color: white;\n",
       "                    --jp-ui-font-color1: white;\n",
       "                    --jp-layout-color2: #454545;\n",
       "                    background-color: #383838;\n",
       "                }\n",
       "\n",
       "                .geemap-dark .jupyter-button {\n",
       "                    --jp-layout-color3: #383838;\n",
       "                }\n",
       "\n",
       "                .geemap-colab {\n",
       "                    background-color: var(--colab-primary-surface-color, white);\n",
       "                }\n",
       "\n",
       "                .geemap-colab .jupyter-button {\n",
       "                    --jp-layout-color3: var(--colab-primary-surface-color, white);\n",
       "                }\n",
       "            </style>\n",
       "            "
      ],
      "text/plain": [
       "<IPython.core.display.HTML object>"
      ]
     },
     "metadata": {},
     "output_type": "display_data"
    },
    {
     "name": "stdout",
     "output_type": "stream",
     "text": [
      "Number of training samples: 10720\n",
      "Number of test samples: 4717\n"
     ]
    }
   ],
   "source": [
    "print(\"Number of training samples:\",training.size().getInfo())\n",
    "print(\"Number of test samples:\",test.size().getInfo())"
   ]
  },
  {
   "cell_type": "code",
   "execution_count": 34,
   "id": "398b1140-5f54-40d0-abbd-418eec39622b",
   "metadata": {},
   "outputs": [
    {
     "data": {
      "text/html": [
       "\n",
       "            <style>\n",
       "                .geemap-dark {\n",
       "                    --jp-widgets-color: white;\n",
       "                    --jp-widgets-label-color: white;\n",
       "                    --jp-ui-font-color1: white;\n",
       "                    --jp-layout-color2: #454545;\n",
       "                    background-color: #383838;\n",
       "                }\n",
       "\n",
       "                .geemap-dark .jupyter-button {\n",
       "                    --jp-layout-color3: #383838;\n",
       "                }\n",
       "\n",
       "                .geemap-colab {\n",
       "                    background-color: var(--colab-primary-surface-color, white);\n",
       "                }\n",
       "\n",
       "                .geemap-colab .jupyter-button {\n",
       "                    --jp-layout-color3: var(--colab-primary-surface-color, white);\n",
       "                }\n",
       "            </style>\n",
       "            "
      ],
      "text/plain": [
       "<IPython.core.display.HTML object>"
      ]
     },
     "metadata": {},
     "output_type": "display_data"
    }
   ],
   "source": [
    "#Training classifier on Training data only\n",
    "classifier = ee.Classifier.smileRandomForest(10).train(training, 'class', bands)"
   ]
  },
  {
   "cell_type": "code",
   "execution_count": 41,
   "id": "28f2e884-26c9-4702-9afc-084b0de7fa3b",
   "metadata": {},
   "outputs": [
    {
     "data": {
      "text/html": [
       "\n",
       "            <style>\n",
       "                .geemap-dark {\n",
       "                    --jp-widgets-color: white;\n",
       "                    --jp-widgets-label-color: white;\n",
       "                    --jp-ui-font-color1: white;\n",
       "                    --jp-layout-color2: #454545;\n",
       "                    background-color: #383838;\n",
       "                }\n",
       "\n",
       "                .geemap-dark .jupyter-button {\n",
       "                    --jp-layout-color3: #383838;\n",
       "                }\n",
       "\n",
       "                .geemap-colab {\n",
       "                    background-color: var(--colab-primary-surface-color, white);\n",
       "                }\n",
       "\n",
       "                .geemap-colab .jupyter-button {\n",
       "                    --jp-layout-color3: var(--colab-primary-surface-color, white);\n",
       "                }\n",
       "            </style>\n",
       "            "
      ],
      "text/plain": [
       "<IPython.core.display.HTML object>"
      ]
     },
     "metadata": {},
     "output_type": "display_data"
    }
   ],
   "source": [
    "# subset_area = Map1.user_rois.getInfo()\n",
    "# fc=ee.FeatureCollection(subset_area).geometry()\n",
    "# fc.getInfo()['coordinates']\n",
    "\n",
    "# subset_roi = ee.Geometry.Polygon([[[73.322754, 33.99575],\n",
    "#   [72.872314, 34.002581],\n",
    "#   [72.333984, 33.767732],\n",
    "#   [72.229614, 33.539105],\n",
    "#   [72.331238, 33.20652],\n",
    "#   [72.592163, 33.123751],\n",
    "#   [72.880554, 33.107648],\n",
    "#   [73.048096, 33.142151],\n",
    "#   [73.369446, 33.23639],\n",
    "#   [73.762207, 33.458943],\n",
    "#   [73.652344, 33.872696],\n",
    "#   [73.495789, 33.975253],\n",
    "#   [73.322754, 33.99575]]])\n",
    "# reduced_subset = reduced.clip(subset_roi)"
   ]
  },
  {
   "cell_type": "code",
   "execution_count": 36,
   "id": "f7daea9b-4bd5-45fb-901b-6132de228204",
   "metadata": {},
   "outputs": [
    {
     "data": {
      "text/html": [
       "\n",
       "            <style>\n",
       "                .geemap-dark {\n",
       "                    --jp-widgets-color: white;\n",
       "                    --jp-widgets-label-color: white;\n",
       "                    --jp-ui-font-color1: white;\n",
       "                    --jp-layout-color2: #454545;\n",
       "                    background-color: #383838;\n",
       "                }\n",
       "\n",
       "                .geemap-dark .jupyter-button {\n",
       "                    --jp-layout-color3: #383838;\n",
       "                }\n",
       "\n",
       "                .geemap-colab {\n",
       "                    background-color: var(--colab-primary-surface-color, white);\n",
       "                }\n",
       "\n",
       "                .geemap-colab .jupyter-button {\n",
       "                    --jp-layout-color3: var(--colab-primary-surface-color, white);\n",
       "                }\n",
       "            </style>\n",
       "            "
      ],
      "text/plain": [
       "<IPython.core.display.HTML object>"
      ]
     },
     "metadata": {},
     "output_type": "display_data"
    },
    {
     "data": {
      "application/vnd.jupyter.widget-view+json": {
       "model_id": "296d3b4b083a44f4a9136eb6b922b4f1",
       "version_major": 2,
       "version_minor": 0
      },
      "text/plain": [
       "Map(bottom=105295.0, center=[33.6844, 73.0479], controls=(WidgetControl(options=['position', 'transparent_bg']…"
      ]
     },
     "metadata": {},
     "output_type": "display_data"
    }
   ],
   "source": [
    "#Classify Entire image using the RF classifier\n",
    "result = reduced.select(bands).classify(classifier)\n",
    "\n",
    "Map1.addLayer(result.randomVisualizer(), {}, \"classified with training\")\n",
    "Map1"
   ]
  },
  {
   "cell_type": "code",
   "execution_count": 43,
   "id": "d70c5f76-381c-48cc-be5d-8d6651b58167",
   "metadata": {},
   "outputs": [
    {
     "data": {
      "text/html": [
       "\n",
       "            <style>\n",
       "                .geemap-dark {\n",
       "                    --jp-widgets-color: white;\n",
       "                    --jp-widgets-label-color: white;\n",
       "                    --jp-ui-font-color1: white;\n",
       "                    --jp-layout-color2: #454545;\n",
       "                    background-color: #383838;\n",
       "                }\n",
       "\n",
       "                .geemap-dark .jupyter-button {\n",
       "                    --jp-layout-color3: #383838;\n",
       "                }\n",
       "\n",
       "                .geemap-colab {\n",
       "                    background-color: var(--colab-primary-surface-color, white);\n",
       "                }\n",
       "\n",
       "                .geemap-colab .jupyter-button {\n",
       "                    --jp-layout-color3: var(--colab-primary-surface-color, white);\n",
       "                }\n",
       "            </style>\n",
       "            "
      ],
      "text/plain": [
       "<IPython.core.display.HTML object>"
      ]
     },
     "metadata": {},
     "output_type": "display_data"
    },
    {
     "data": {
      "text/html": [
       "<div><style>:root {\n",
       "  --font-color-primary: var(--jp-content-font-color0, rgba(0, 0, 0, 1));\n",
       "  --font-color-secondary: var(--jp-content-font-color2, rgba(0, 0, 0, 0.6));\n",
       "  --font-color-accent: rgba(123, 31, 162, 1);\n",
       "  --border-color: var(--jp-border-color2, #e0e0e0);\n",
       "  --background-color: var(--jp-layout-color0, white);\n",
       "  --background-color-row-even: var(--jp-layout-color1, white);\n",
       "  --background-color-row-odd: var(--jp-layout-color2, #eeeeee);\n",
       "}\n",
       "\n",
       "html[theme=\"dark\"],\n",
       "body[data-theme=\"dark\"],\n",
       "body.vscode-dark {\n",
       "  --font-color-primary: rgba(255, 255, 255, 1);\n",
       "  --font-color-secondary: rgba(255, 255, 255, 0.6);\n",
       "  --font-color-accent: rgb(173, 132, 190);\n",
       "  --border-color: #2e2e2e;\n",
       "  --background-color: #111111;\n",
       "  --background-color-row-even: #111111;\n",
       "  --background-color-row-odd: #313131;\n",
       "}\n",
       "\n",
       ".ee {\n",
       "  padding: 1em;\n",
       "  line-height: 1.5em;\n",
       "  min-width: 300px;\n",
       "  max-width: 1200px;\n",
       "  overflow-y: scroll;\n",
       "  max-height: 600px;\n",
       "  border: 1px solid var(--border-color);\n",
       "  font-family: monospace;\n",
       "}\n",
       "\n",
       ".ee li {\n",
       "  list-style-type: none;\n",
       "}\n",
       "\n",
       ".ee ul {\n",
       "  padding-left: 1.5em !important;\n",
       "  margin: 0;\n",
       "}\n",
       "\n",
       ".ee > ul {\n",
       "  padding-left: 0 !important;\n",
       "}\n",
       "\n",
       ".ee-open,\n",
       ".ee-shut {\n",
       "  color: var(--font-color-secondary);\n",
       "  cursor: pointer;\n",
       "  margin: 0;\n",
       "}\n",
       "\n",
       ".ee-open:hover,\n",
       ".ee-shut:hover {\n",
       "  color: var(--font-color-primary);\n",
       "}\n",
       "\n",
       ".ee-k {\n",
       "  color: var(--font-color-accent);\n",
       "  margin-right: 6px;\n",
       "}\n",
       "\n",
       ".ee-v {\n",
       "  color: var(--font-color-primary);\n",
       "}\n",
       "\n",
       ".ee-toggle {\n",
       "  display: none;\n",
       "}\n",
       "\n",
       ".ee-shut + ul {\n",
       "  display: none;\n",
       "}\n",
       "\n",
       ".ee-open + ul {\n",
       "  display: block;\n",
       "}\n",
       "\n",
       ".ee-shut::before {\n",
       "  display: inline-block;\n",
       "  content: \"▼\";\n",
       "  margin-right: 6px;\n",
       "  transform: rotate(-90deg);\n",
       "  transition: transform 0.2s;\n",
       "}\n",
       "\n",
       ".ee-open::before {\n",
       "  transform: rotate(0deg);\n",
       "  display: inline-block;\n",
       "  content: \"▼\";\n",
       "  margin-right: 6px;\n",
       "  transition: transform 0.2s;\n",
       "}\n",
       "</style><div class='ee'><ul><li><label class='ee-shut'>Image (1 band)<input type='checkbox' class='ee-toggle'></label><ul><li><span class='ee-k'>type:</span><span class='ee-v'>Image</span></li><li><label class='ee-shut'>bands: List (1 element)<input type='checkbox' class='ee-toggle'></label><ul><li><label class='ee-shut'>0: \"classification\", signed int32, EPSG:4326<input type='checkbox' class='ee-toggle'></label><ul><li><span class='ee-k'>id:</span><span class='ee-v'>classification</span></li><li><span class='ee-k'>crs:</span><span class='ee-v'>EPSG:4326</span></li><li><label class='ee-shut'>crs_transform: [1, 0, 0, 0, 1, 0]<input type='checkbox' class='ee-toggle'></label><ul><li><span class='ee-k'>0:</span><span class='ee-v'>1</span></li><li><span class='ee-k'>1:</span><span class='ee-v'>0</span></li><li><span class='ee-k'>2:</span><span class='ee-v'>0</span></li><li><span class='ee-k'>3:</span><span class='ee-v'>0</span></li><li><span class='ee-k'>4:</span><span class='ee-v'>1</span></li><li><span class='ee-k'>5:</span><span class='ee-v'>0</span></li></ul></li><li><label class='ee-shut'>data_type: signed int32<input type='checkbox' class='ee-toggle'></label><ul><li><span class='ee-k'>type:</span><span class='ee-v'>PixelType</span></li><li><span class='ee-k'>max:</span><span class='ee-v'>2147483647</span></li><li><span class='ee-k'>min:</span><span class='ee-v'>-2147483648</span></li><li><span class='ee-k'>precision:</span><span class='ee-v'>int</span></li></ul></li></ul></li></ul></li></ul></li></ul></div><script>function toggleHeader() {\n",
       "    const parent = this.parentElement;\n",
       "    parent.className = parent.className === \"ee-open\" ? \"ee-shut\" : \"ee-open\";\n",
       "}\n",
       "\n",
       "for (let c of document.getElementsByClassName(\"ee-toggle\")) {\n",
       "    c.onclick = toggleHeader;\n",
       "}</script></div>"
      ],
      "text/plain": [
       "<ee.image.Image at 0xfffec04d5610>"
      ]
     },
     "execution_count": 43,
     "metadata": {},
     "output_type": "execute_result"
    }
   ],
   "source": [
    "result"
   ]
  },
  {
   "cell_type": "code",
   "execution_count": 37,
   "id": "73d40887-bfaa-49b5-b3c3-29f56fa2f1ab",
   "metadata": {},
   "outputs": [
    {
     "data": {
      "text/html": [
       "\n",
       "            <style>\n",
       "                .geemap-dark {\n",
       "                    --jp-widgets-color: white;\n",
       "                    --jp-widgets-label-color: white;\n",
       "                    --jp-ui-font-color1: white;\n",
       "                    --jp-layout-color2: #454545;\n",
       "                    background-color: #383838;\n",
       "                }\n",
       "\n",
       "                .geemap-dark .jupyter-button {\n",
       "                    --jp-layout-color3: #383838;\n",
       "                }\n",
       "\n",
       "                .geemap-colab {\n",
       "                    background-color: var(--colab-primary-surface-color, white);\n",
       "                }\n",
       "\n",
       "                .geemap-colab .jupyter-button {\n",
       "                    --jp-layout-color3: var(--colab-primary-surface-color, white);\n",
       "                }\n",
       "            </style>\n",
       "            "
      ],
      "text/plain": [
       "<IPython.core.display.HTML object>"
      ]
     },
     "metadata": {},
     "output_type": "display_data"
    }
   ],
   "source": [
    "#Classifying test data for evaluation of accuracy\n",
    "test_pred = test.classify(classifier)"
   ]
  },
  {
   "cell_type": "code",
   "execution_count": 38,
   "id": "6a94143a-aab0-414b-a6f0-edc180405130",
   "metadata": {},
   "outputs": [
    {
     "data": {
      "text/html": [
       "\n",
       "            <style>\n",
       "                .geemap-dark {\n",
       "                    --jp-widgets-color: white;\n",
       "                    --jp-widgets-label-color: white;\n",
       "                    --jp-ui-font-color1: white;\n",
       "                    --jp-layout-color2: #454545;\n",
       "                    background-color: #383838;\n",
       "                }\n",
       "\n",
       "                .geemap-dark .jupyter-button {\n",
       "                    --jp-layout-color3: #383838;\n",
       "                }\n",
       "\n",
       "                .geemap-colab {\n",
       "                    background-color: var(--colab-primary-surface-color, white);\n",
       "                }\n",
       "\n",
       "                .geemap-colab .jupyter-button {\n",
       "                    --jp-layout-color3: var(--colab-primary-surface-color, white);\n",
       "                }\n",
       "            </style>\n",
       "            "
      ],
      "text/plain": [
       "<IPython.core.display.HTML object>"
      ]
     },
     "metadata": {},
     "output_type": "display_data"
    },
    {
     "data": {
      "text/plain": [
       "{'type': 'Feature',\n",
       " 'geometry': None,\n",
       " 'id': '0_1',\n",
       " 'properties': {'B12_median': 3678,\n",
       "  'B2_median': 1327,\n",
       "  'B3_median': 1843,\n",
       "  'B4_median': 2425,\n",
       "  'B8_median': 3079.5,\n",
       "  'class': 0,\n",
       "  'classification': 0,\n",
       "  'random': 0.7116519484762333}}"
      ]
     },
     "execution_count": 38,
     "metadata": {},
     "output_type": "execute_result"
    }
   ],
   "source": [
    "test_pred.first().getInfo()"
   ]
  },
  {
   "cell_type": "code",
   "execution_count": 39,
   "id": "316b0c39-55cc-4741-be9a-780a9bde3f89",
   "metadata": {},
   "outputs": [
    {
     "data": {
      "text/html": [
       "\n",
       "            <style>\n",
       "                .geemap-dark {\n",
       "                    --jp-widgets-color: white;\n",
       "                    --jp-widgets-label-color: white;\n",
       "                    --jp-ui-font-color1: white;\n",
       "                    --jp-layout-color2: #454545;\n",
       "                    background-color: #383838;\n",
       "                }\n",
       "\n",
       "                .geemap-dark .jupyter-button {\n",
       "                    --jp-layout-color3: #383838;\n",
       "                }\n",
       "\n",
       "                .geemap-colab {\n",
       "                    background-color: var(--colab-primary-surface-color, white);\n",
       "                }\n",
       "\n",
       "                .geemap-colab .jupyter-button {\n",
       "                    --jp-layout-color3: var(--colab-primary-surface-color, white);\n",
       "                }\n",
       "            </style>\n",
       "            "
      ],
      "text/plain": [
       "<IPython.core.display.HTML object>"
      ]
     },
     "metadata": {},
     "output_type": "display_data"
    }
   ],
   "source": [
    "#Confusion matrix\n",
    "cm_test = test_pred.errorMatrix(\"class\", \"classification\")"
   ]
  },
  {
   "cell_type": "code",
   "execution_count": 73,
   "id": "8daf1439-d17f-4c39-acd8-ceaf193de538",
   "metadata": {},
   "outputs": [
    {
     "data": {
      "text/html": [
       "\n",
       "            <style>\n",
       "                .geemap-dark {\n",
       "                    --jp-widgets-color: white;\n",
       "                    --jp-widgets-label-color: white;\n",
       "                    --jp-ui-font-color1: white;\n",
       "                    --jp-layout-color2: #454545;\n",
       "                    background-color: #383838;\n",
       "                }\n",
       "\n",
       "                .geemap-dark .jupyter-button {\n",
       "                    --jp-layout-color3: #383838;\n",
       "                }\n",
       "\n",
       "                .geemap-colab {\n",
       "                    background-color: var(--colab-primary-surface-color, white);\n",
       "                }\n",
       "\n",
       "                .geemap-colab .jupyter-button {\n",
       "                    --jp-layout-color3: var(--colab-primary-surface-color, white);\n",
       "                }\n",
       "            </style>\n",
       "            "
      ],
      "text/plain": [
       "<IPython.core.display.HTML object>"
      ]
     },
     "metadata": {},
     "output_type": "display_data"
    },
    {
     "name": "stdout",
     "output_type": "stream",
     "text": [
      "[[1890, 0, 2, 1, 0], [1, 775, 13, 0, 0], [1, 12, 102, 1, 0], [3, 0, 1, 110, 0], [0, 0, 0, 0, 1764]]\n"
     ]
    }
   ],
   "source": [
    "print(cm_test.getInfo())"
   ]
  },
  {
   "cell_type": "markdown",
   "id": "cbd9b0e5-5e8f-467b-a26b-ee1ef261ca8a",
   "metadata": {},
   "source": [
    "### Accuracy of the RF classifier based on Confusion MAtrix"
   ]
  },
  {
   "cell_type": "code",
   "execution_count": 74,
   "id": "48b3ba3f-2e94-4bc6-9269-d6503369a5d2",
   "metadata": {},
   "outputs": [
    {
     "data": {
      "text/html": [
       "\n",
       "            <style>\n",
       "                .geemap-dark {\n",
       "                    --jp-widgets-color: white;\n",
       "                    --jp-widgets-label-color: white;\n",
       "                    --jp-ui-font-color1: white;\n",
       "                    --jp-layout-color2: #454545;\n",
       "                    background-color: #383838;\n",
       "                }\n",
       "\n",
       "                .geemap-dark .jupyter-button {\n",
       "                    --jp-layout-color3: #383838;\n",
       "                }\n",
       "\n",
       "                .geemap-colab {\n",
       "                    background-color: var(--colab-primary-surface-color, white);\n",
       "                }\n",
       "\n",
       "                .geemap-colab .jupyter-button {\n",
       "                    --jp-layout-color3: var(--colab-primary-surface-color, white);\n",
       "                }\n",
       "            </style>\n",
       "            "
      ],
      "text/plain": [
       "<IPython.core.display.HTML object>"
      ]
     },
     "metadata": {},
     "output_type": "display_data"
    },
    {
     "data": {
      "text/plain": [
       "0.9925149700598802"
      ]
     },
     "execution_count": 74,
     "metadata": {},
     "output_type": "execute_result"
    }
   ],
   "source": [
    "\n",
    "cm_test.accuracy().getInfo()"
   ]
  },
  {
   "cell_type": "markdown",
   "id": "77047cb9-a89e-472d-8bea-e5ddab908418",
   "metadata": {},
   "source": [
    "### Training Accuracy\n"
   ]
  },
  {
   "cell_type": "code",
   "execution_count": 40,
   "id": "78af0bdd-32c0-41a6-81e4-0de1e1f8357c",
   "metadata": {},
   "outputs": [
    {
     "data": {
      "text/html": [
       "\n",
       "            <style>\n",
       "                .geemap-dark {\n",
       "                    --jp-widgets-color: white;\n",
       "                    --jp-widgets-label-color: white;\n",
       "                    --jp-ui-font-color1: white;\n",
       "                    --jp-layout-color2: #454545;\n",
       "                    background-color: #383838;\n",
       "                }\n",
       "\n",
       "                .geemap-dark .jupyter-button {\n",
       "                    --jp-layout-color3: #383838;\n",
       "                }\n",
       "\n",
       "                .geemap-colab {\n",
       "                    background-color: var(--colab-primary-surface-color, white);\n",
       "                }\n",
       "\n",
       "                .geemap-colab .jupyter-button {\n",
       "                    --jp-layout-color3: var(--colab-primary-surface-color, white);\n",
       "                }\n",
       "            </style>\n",
       "            "
      ],
      "text/plain": [
       "<IPython.core.display.HTML object>"
      ]
     },
     "metadata": {},
     "output_type": "display_data"
    }
   ],
   "source": [
    "training_pred = training.classify(classifier)"
   ]
  },
  {
   "cell_type": "code",
   "execution_count": 55,
   "id": "903a24ae-48d5-41bd-9992-2e220aee701c",
   "metadata": {},
   "outputs": [
    {
     "data": {
      "text/html": [
       "\n",
       "            <style>\n",
       "                .geemap-dark {\n",
       "                    --jp-widgets-color: white;\n",
       "                    --jp-widgets-label-color: white;\n",
       "                    --jp-ui-font-color1: white;\n",
       "                    --jp-layout-color2: #454545;\n",
       "                    background-color: #383838;\n",
       "                }\n",
       "\n",
       "                .geemap-dark .jupyter-button {\n",
       "                    --jp-layout-color3: #383838;\n",
       "                }\n",
       "\n",
       "                .geemap-colab {\n",
       "                    background-color: var(--colab-primary-surface-color, white);\n",
       "                }\n",
       "\n",
       "                .geemap-colab .jupyter-button {\n",
       "                    --jp-layout-color3: var(--colab-primary-surface-color, white);\n",
       "                }\n",
       "            </style>\n",
       "            "
      ],
      "text/plain": [
       "<IPython.core.display.HTML object>"
      ]
     },
     "metadata": {},
     "output_type": "display_data"
    },
    {
     "data": {
      "text/plain": [
       "0.9981343283582089"
      ]
     },
     "execution_count": 55,
     "metadata": {},
     "output_type": "execute_result"
    }
   ],
   "source": [
    "#training Confusion  matrix and Accuracy\n",
    "cm_train = training_pred.errorMatrix(\"class\", \"classification\")\n",
    "cm_train.accuracy().getInfo()"
   ]
  },
  {
   "cell_type": "code",
   "execution_count": null,
   "id": "23499c02-7cd8-4ccf-901b-710aed19add5",
   "metadata": {},
   "outputs": [],
   "source": [
    "# subset_area = Map1.user_rois.getInfo()\n",
    "# fc=ee.FeatureCollection(subset_area).geometry()\n",
    "# fc.getInfo()['coordinates']"
   ]
  },
  {
   "cell_type": "markdown",
   "id": "ab200fe6-73b9-4954-a481-7490ff4d1f23",
   "metadata": {},
   "source": [
    "### Tsting on a random region i,e, Enschede\n"
   ]
  },
  {
   "cell_type": "code",
   "execution_count": 42,
   "id": "3a4ffde6-6243-4811-98f0-0dd9e946d2f8",
   "metadata": {},
   "outputs": [
    {
     "data": {
      "text/html": [
       "\n",
       "            <style>\n",
       "                .geemap-dark {\n",
       "                    --jp-widgets-color: white;\n",
       "                    --jp-widgets-label-color: white;\n",
       "                    --jp-ui-font-color1: white;\n",
       "                    --jp-layout-color2: #454545;\n",
       "                    background-color: #383838;\n",
       "                }\n",
       "\n",
       "                .geemap-dark .jupyter-button {\n",
       "                    --jp-layout-color3: #383838;\n",
       "                }\n",
       "\n",
       "                .geemap-colab {\n",
       "                    background-color: var(--colab-primary-surface-color, white);\n",
       "                }\n",
       "\n",
       "                .geemap-colab .jupyter-button {\n",
       "                    --jp-layout-color3: var(--colab-primary-surface-color, white);\n",
       "                }\n",
       "            </style>\n",
       "            "
      ],
      "text/plain": [
       "<IPython.core.display.HTML object>"
      ]
     },
     "metadata": {},
     "output_type": "display_data"
    }
   ],
   "source": [
    "enschede = ee.Geometry.Polygon([[[6.731186, 52.186563],\n",
    "  [6.731186, 52.295042],\n",
    "  [6.955719, 52.295042],\n",
    "  [6.955719, 52.186563],\n",
    "  [6.731186, 52.186563]]])"
   ]
  },
  {
   "cell_type": "code",
   "execution_count": 50,
   "id": "29c3dac0-62f9-45e1-82f6-764bee0c8d90",
   "metadata": {},
   "outputs": [
    {
     "data": {
      "text/html": [
       "\n",
       "            <style>\n",
       "                .geemap-dark {\n",
       "                    --jp-widgets-color: white;\n",
       "                    --jp-widgets-label-color: white;\n",
       "                    --jp-ui-font-color1: white;\n",
       "                    --jp-layout-color2: #454545;\n",
       "                    background-color: #383838;\n",
       "                }\n",
       "\n",
       "                .geemap-dark .jupyter-button {\n",
       "                    --jp-layout-color3: #383838;\n",
       "                }\n",
       "\n",
       "                .geemap-colab {\n",
       "                    background-color: var(--colab-primary-surface-color, white);\n",
       "                }\n",
       "\n",
       "                .geemap-colab .jupyter-button {\n",
       "                    --jp-layout-color3: var(--colab-primary-surface-color, white);\n",
       "                }\n",
       "            </style>\n",
       "            "
      ],
      "text/plain": [
       "<IPython.core.display.HTML object>"
      ]
     },
     "metadata": {},
     "output_type": "display_data"
    },
    {
     "data": {
      "application/vnd.jupyter.widget-view+json": {
       "model_id": "910b1b901d3c4a81a943ea88fe909f1e",
       "version_major": 2,
       "version_minor": 0
      },
      "text/plain": [
       "Map(center=[52.2215, 6.8937], controls=(WidgetControl(options=['position', 'transparent_bg'], widget=SearchDat…"
      ]
     },
     "metadata": {},
     "output_type": "display_data"
    }
   ],
   "source": [
    "# Coordinates for Enschede\n",
    "latitude = 52.2215\n",
    "longitude = 6.8937\n",
    "\n",
    "# Initialize the map centered on Enschede with a suitable zoom level\n",
    "Map1 = geemap.Map(center=(latitude, longitude), zoom=10)\n",
    "Map1.addLayer(enschede)\n",
    "Map1"
   ]
  },
  {
   "cell_type": "code",
   "execution_count": 51,
   "id": "5915fe91-5ede-453e-a7af-4618ca62d030",
   "metadata": {},
   "outputs": [
    {
     "data": {
      "text/html": [
       "\n",
       "            <style>\n",
       "                .geemap-dark {\n",
       "                    --jp-widgets-color: white;\n",
       "                    --jp-widgets-label-color: white;\n",
       "                    --jp-ui-font-color1: white;\n",
       "                    --jp-layout-color2: #454545;\n",
       "                    background-color: #383838;\n",
       "                }\n",
       "\n",
       "                .geemap-dark .jupyter-button {\n",
       "                    --jp-layout-color3: #383838;\n",
       "                }\n",
       "\n",
       "                .geemap-colab {\n",
       "                    background-color: var(--colab-primary-surface-color, white);\n",
       "                }\n",
       "\n",
       "                .geemap-colab .jupyter-button {\n",
       "                    --jp-layout-color3: var(--colab-primary-surface-color, white);\n",
       "                }\n",
       "            </style>\n",
       "            "
      ],
      "text/plain": [
       "<IPython.core.display.HTML object>"
      ]
     },
     "metadata": {},
     "output_type": "display_data"
    }
   ],
   "source": [
    "myCollection = ee.ImageCollection('COPERNICUS/S2_SR_HARMONIZED') \\\n",
    "    .filterBounds(enschede) \\\n",
    "    .filterDate('2024-06-01', '2024-08-30') \\\n",
    "    .filterMetadata('CLOUDY_PIXEL_PERCENTAGE', 'less_than', 10)"
   ]
  },
  {
   "cell_type": "code",
   "execution_count": 52,
   "id": "e9e9d287-b9f6-4dae-9409-64391dab94d1",
   "metadata": {},
   "outputs": [
    {
     "data": {
      "text/html": [
       "\n",
       "            <style>\n",
       "                .geemap-dark {\n",
       "                    --jp-widgets-color: white;\n",
       "                    --jp-widgets-label-color: white;\n",
       "                    --jp-ui-font-color1: white;\n",
       "                    --jp-layout-color2: #454545;\n",
       "                    background-color: #383838;\n",
       "                }\n",
       "\n",
       "                .geemap-dark .jupyter-button {\n",
       "                    --jp-layout-color3: #383838;\n",
       "                }\n",
       "\n",
       "                .geemap-colab {\n",
       "                    background-color: var(--colab-primary-surface-color, white);\n",
       "                }\n",
       "\n",
       "                .geemap-colab .jupyter-button {\n",
       "                    --jp-layout-color3: var(--colab-primary-surface-color, white);\n",
       "                }\n",
       "            </style>\n",
       "            "
      ],
      "text/plain": [
       "<IPython.core.display.HTML object>"
      ]
     },
     "metadata": {},
     "output_type": "display_data"
    }
   ],
   "source": [
    "vis_params ={'min': 0, 'max': 4000, 'bands': ['B4_median', 'B3_median', 'B2_median']}"
   ]
  },
  {
   "cell_type": "code",
   "execution_count": 53,
   "id": "69a45729-73da-4fb1-aa58-891498ac93ab",
   "metadata": {},
   "outputs": [
    {
     "data": {
      "text/html": [
       "\n",
       "            <style>\n",
       "                .geemap-dark {\n",
       "                    --jp-widgets-color: white;\n",
       "                    --jp-widgets-label-color: white;\n",
       "                    --jp-ui-font-color1: white;\n",
       "                    --jp-layout-color2: #454545;\n",
       "                    background-color: #383838;\n",
       "                }\n",
       "\n",
       "                .geemap-dark .jupyter-button {\n",
       "                    --jp-layout-color3: #383838;\n",
       "                }\n",
       "\n",
       "                .geemap-colab {\n",
       "                    background-color: var(--colab-primary-surface-color, white);\n",
       "                }\n",
       "\n",
       "                .geemap-colab .jupyter-button {\n",
       "                    --jp-layout-color3: var(--colab-primary-surface-color, white);\n",
       "                }\n",
       "            </style>\n",
       "            "
      ],
      "text/plain": [
       "<IPython.core.display.HTML object>"
      ]
     },
     "metadata": {},
     "output_type": "display_data"
    }
   ],
   "source": [
    "reduced=myCollection.reduce(ee.Reducer.median()).clip(enschede)\n",
    "Map1.addLayer(reduced.randomVisualizer(), vis_params, \"Enschede\")\n"
   ]
  },
  {
   "cell_type": "code",
   "execution_count": 54,
   "id": "fc738107-ab5e-4eef-88ad-f7840ed1ab27",
   "metadata": {},
   "outputs": [
    {
     "data": {
      "text/html": [
       "\n",
       "            <style>\n",
       "                .geemap-dark {\n",
       "                    --jp-widgets-color: white;\n",
       "                    --jp-widgets-label-color: white;\n",
       "                    --jp-ui-font-color1: white;\n",
       "                    --jp-layout-color2: #454545;\n",
       "                    background-color: #383838;\n",
       "                }\n",
       "\n",
       "                .geemap-dark .jupyter-button {\n",
       "                    --jp-layout-color3: #383838;\n",
       "                }\n",
       "\n",
       "                .geemap-colab {\n",
       "                    background-color: var(--colab-primary-surface-color, white);\n",
       "                }\n",
       "\n",
       "                .geemap-colab .jupyter-button {\n",
       "                    --jp-layout-color3: var(--colab-primary-surface-color, white);\n",
       "                }\n",
       "            </style>\n",
       "            "
      ],
      "text/plain": [
       "<IPython.core.display.HTML object>"
      ]
     },
     "metadata": {},
     "output_type": "display_data"
    },
    {
     "data": {
      "application/vnd.jupyter.widget-view+json": {
       "model_id": "910b1b901d3c4a81a943ea88fe909f1e",
       "version_major": 2,
       "version_minor": 0
      },
      "text/plain": [
       "Map(bottom=86763.0, center=[52.10734865208675, 7.027816772460938], controls=(WidgetControl(options=['position'…"
      ]
     },
     "metadata": {},
     "output_type": "display_data"
    }
   ],
   "source": [
    "result = reduced.select(bands).classify(classifier)\n",
    "\n",
    "Map1.addLayer(result.randomVisualizer(), {}, \"classified with training\")\n",
    "Map1"
   ]
  },
  {
   "cell_type": "markdown",
   "id": "97f809d6-f0b3-4278-935c-a791b31f5b0c",
   "metadata": {},
   "source": [
    "## Model Tuning (optional): Hyper parameters optimization"
   ]
  },
  {
   "cell_type": "code",
   "execution_count": 56,
   "id": "0eb21720-c60a-49fb-9ca0-7bccc342f8d6",
   "metadata": {},
   "outputs": [
    {
     "data": {
      "text/html": [
       "\n",
       "            <style>\n",
       "                .geemap-dark {\n",
       "                    --jp-widgets-color: white;\n",
       "                    --jp-widgets-label-color: white;\n",
       "                    --jp-ui-font-color1: white;\n",
       "                    --jp-layout-color2: #454545;\n",
       "                    background-color: #383838;\n",
       "                }\n",
       "\n",
       "                .geemap-dark .jupyter-button {\n",
       "                    --jp-layout-color3: #383838;\n",
       "                }\n",
       "\n",
       "                .geemap-colab {\n",
       "                    background-color: var(--colab-primary-surface-color, white);\n",
       "                }\n",
       "\n",
       "                .geemap-colab .jupyter-button {\n",
       "                    --jp-layout-color3: var(--colab-primary-surface-color, white);\n",
       "                }\n",
       "            </style>\n",
       "            "
      ],
      "text/plain": [
       "<IPython.core.display.HTML object>"
      ]
     },
     "metadata": {},
     "output_type": "display_data"
    },
    {
     "name": "stdout",
     "output_type": "stream",
     "text": [
      "Accuracy with 50 trees and 1 vars per split: 0.9991604477611941\n",
      "Accuracy with 50 trees and 3 vars per split: 0.9994402985074626\n",
      "Accuracy with 50 trees and 5 vars per split: 0.9988805970149254\n",
      "Accuracy with 100 trees and 1 vars per split: 0.9995335820895522\n",
      "Accuracy with 100 trees and 3 vars per split: 0.9995335820895522\n",
      "Accuracy with 100 trees and 5 vars per split: 0.9993470149253731\n",
      "Accuracy with 150 trees and 1 vars per split: 0.9994402985074626\n",
      "Accuracy with 150 trees and 3 vars per split: 0.9995335820895522\n",
      "Accuracy with 150 trees and 5 vars per split: 0.9991604477611941\n",
      "Best accuracy: 0.9995335820895522\n"
     ]
    }
   ],
   "source": [
    "import itertools\n",
    "\n",
    "\n",
    "# Define hyperparameter options\n",
    "num_trees_options = [50, 100, 150]\n",
    "variables_per_split_options = [1, 3, 5]\n",
    "best_accuracy = 0\n",
    "best_classifier = None\n",
    "\n",
    "# Iterate over combinations of hyperparameters\n",
    "for num_trees, variables_per_split in itertools.product(num_trees_options, variables_per_split_options):\n",
    "    classifier = ee.Classifier.smileRandomForest(\n",
    "        numberOfTrees=num_trees,\n",
    "        variablesPerSplit=variables_per_split\n",
    "    ).train(training, 'class', bands)\n",
    "\n",
    "    # Evaluate the classifier\n",
    "    confusion_matrix = classifier.confusionMatrix()\n",
    "    accuracy = confusion_matrix.accuracy().getInfo()\n",
    "    print(f'Accuracy with {num_trees} trees and {variables_per_split} vars per split: {accuracy}')\n",
    "    \n",
    "    # Update best classifier if current accuracy is higher\n",
    "    if accuracy > best_accuracy:\n",
    "        best_accuracy = accuracy\n",
    "        best_classifier = classifier\n",
    "\n",
    "print(f'Best accuracy: {best_accuracy}')\n"
   ]
  },
  {
   "cell_type": "code",
   "execution_count": null,
   "id": "bd7cf751-f3ed-495b-80b8-57f72d850295",
   "metadata": {},
   "outputs": [],
   "source": []
  }
 ],
 "metadata": {
  "kernelspec": {
   "display_name": "Python",
   "language": "python",
   "name": "python3"
  },
  "language_info": {
   "codemirror_mode": {
    "name": "ipython",
    "version": 3
   },
   "file_extension": ".py",
   "mimetype": "text/x-python",
   "name": "python",
   "nbconvert_exporter": "python",
   "pygments_lexer": "ipython3",
   "version": "3.8.10"
  }
 },
 "nbformat": 4,
 "nbformat_minor": 5
}
