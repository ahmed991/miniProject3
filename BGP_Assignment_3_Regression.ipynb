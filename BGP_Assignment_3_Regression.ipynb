{
 "cells": [
  {
   "cell_type": "markdown",
   "id": "cfeeb599-b0bf-4002-9abd-7c8597dafbe7",
   "metadata": {},
   "source": [
    "# This notebook will use GEE using packages geemap, ee, and scikit-learn to train a regression model\n",
    "\n",
    "### The study area is a city in Pakistan called Charsadda which is in the norhtern part of the country. It is chosen because it has a variation of elevation and greenary in its surroundings."
   ]
  },
  {
   "cell_type": "markdown",
   "id": "86b89bd9-3a4e-487b-a0f9-75941821c43e",
   "metadata": {},
   "source": [
    "### Initialize GEE"
   ]
  },
  {
   "cell_type": "code",
   "execution_count": 2,
   "id": "4680397a-4e15-4f4e-b588-cd69c3efb5af",
   "metadata": {},
   "outputs": [],
   "source": [
    "import ee\n",
    "import geemap"
   ]
  },
  {
   "cell_type": "code",
   "execution_count": 3,
   "id": "19e81d39-0c81-4265-9ed3-294aae238a9c",
   "metadata": {},
   "outputs": [],
   "source": [
    "# # If you are running this notebook for the first time, you need to activate the command below for the authentication flow:\n",
    "# ee.Authenticate()"
   ]
  },
  {
   "cell_type": "code",
   "execution_count": 4,
   "id": "fc7a9617-f44a-4338-b5e1-04688f8d6224",
   "metadata": {},
   "outputs": [
    {
     "name": "stdout",
     "output_type": "stream",
     "text": [
      "Google Earth Engine has initialized successfully!\n"
     ]
    }
   ],
   "source": [
    "try:\n",
    "    # Initialize the library.\n",
    "    ee.Initialize()\n",
    "    print('Google Earth Engine has initialized successfully!')\n",
    "except ee.EEException as e:\n",
    "    print('Google Earth Engine has failed to initialize!')\n",
    "except:\n",
    "    print(\"Unexpected error:\", sys.exc_info()[0])\n",
    "    raise"
   ]
  },
  {
   "cell_type": "markdown",
   "id": "5efd4a62-e14f-4eda-b59a-8277b561a5b2",
   "metadata": {},
   "source": [
    "### Define study area and dates"
   ]
  },
  {
   "cell_type": "code",
   "execution_count": 5,
   "id": "5c8e9487-3cd5-4a84-8593-9ac4f4f3fcae",
   "metadata": {},
   "outputs": [],
   "source": [
    "# A point over Charsadda, Pakistan\n",
    "point = ee.Geometry.Point([71.755005, 34.16239])\n",
    "\n",
    "# Define the start and end dates\n",
    "start_date = '2020-01-01'\n",
    "end_date = '2020-12-31'"
   ]
  },
  {
   "cell_type": "code",
   "execution_count": 6,
   "id": "383666e3-89fd-4ba2-9f30-4ec22af1aedf",
   "metadata": {},
   "outputs": [],
   "source": [
    "# Initialize the map\n",
    "Map = geemap.Map()"
   ]
  },
  {
   "cell_type": "code",
   "execution_count": 7,
   "id": "4ad9ed49-0f2f-4838-9b95-085ea8af0524",
   "metadata": {},
   "outputs": [
    {
     "data": {
      "application/vnd.jupyter.widget-view+json": {
       "model_id": "45caf269662f45ad9cb56283029aae8e",
       "version_major": 2,
       "version_minor": 0
      },
      "text/plain": [
       "Map(center=[34.16239, 71.755005], controls=(WidgetControl(options=['position', 'transparent_bg'], widget=HBox(…"
      ]
     },
     "metadata": {},
     "output_type": "display_data"
    }
   ],
   "source": [
    "# Visualize the Map centered over the area\n",
    "Map.centerObject(point, 14)\n",
    "Map.addLayer(point)\n",
    "Map"
   ]
  },
  {
   "cell_type": "markdown",
   "id": "37a16c02-7904-4bdc-9287-95d3372f12e2",
   "metadata": {},
   "source": [
    "### Calculate NDVI and generate monthly composites"
   ]
  },
  {
   "cell_type": "code",
   "execution_count": 8,
   "id": "e146b78a-c347-4f1c-8b93-e58035ac3d8d",
   "metadata": {},
   "outputs": [],
   "source": [
    "# Function to calculate NDVI from input bands\n",
    "def calculate_ndvi(image):\n",
    "    ndvi = image.normalizedDifference(['SR_B5', 'SR_B4']).rename('NDVI')\n",
    "    return image.addBands(ndvi)"
   ]
  },
  {
   "cell_type": "code",
   "execution_count": 52,
   "id": "7ebade75-4a3b-4eb0-b4f5-9a9acf72fff7",
   "metadata": {},
   "outputs": [],
   "source": [
    "# Select the images from GEE using the input location and dates\n",
    "image_collection = ee.ImageCollection('LANDSAT/LC08/C02/T1_L2') \\\n",
    "                      .filterBounds(point) \\\n",
    "                      .filterDate(start_date, end_date) \\\n",
    "                      .map(calculate_ndvi)\n",
    "                      # .filter(ee.Filter.lt('CLOUD_COVER', 10))\n",
    "                      "
   ]
  },
  {
   "cell_type": "code",
   "execution_count": 53,
   "id": "899ed76f-e793-4dbd-9908-76a3c04ce136",
   "metadata": {
    "scrolled": true,
    "tags": []
   },
   "outputs": [
    {
     "data": {
      "text/plain": [
       "{'type': 'Image',\n",
       " 'bands': [{'id': 'SR_B1',\n",
       "   'data_type': {'type': 'PixelType',\n",
       "    'precision': 'int',\n",
       "    'min': 0,\n",
       "    'max': 65535},\n",
       "   'dimensions': [7561, 7701],\n",
       "   'crs': 'EPSG:32642',\n",
       "   'crs_transform': [30, 0, 638685, 0, -30, 3948315]},\n",
       "  {'id': 'SR_B2',\n",
       "   'data_type': {'type': 'PixelType',\n",
       "    'precision': 'int',\n",
       "    'min': 0,\n",
       "    'max': 65535},\n",
       "   'dimensions': [7561, 7701],\n",
       "   'crs': 'EPSG:32642',\n",
       "   'crs_transform': [30, 0, 638685, 0, -30, 3948315]},\n",
       "  {'id': 'SR_B3',\n",
       "   'data_type': {'type': 'PixelType',\n",
       "    'precision': 'int',\n",
       "    'min': 0,\n",
       "    'max': 65535},\n",
       "   'dimensions': [7561, 7701],\n",
       "   'crs': 'EPSG:32642',\n",
       "   'crs_transform': [30, 0, 638685, 0, -30, 3948315]},\n",
       "  {'id': 'SR_B4',\n",
       "   'data_type': {'type': 'PixelType',\n",
       "    'precision': 'int',\n",
       "    'min': 0,\n",
       "    'max': 65535},\n",
       "   'dimensions': [7561, 7701],\n",
       "   'crs': 'EPSG:32642',\n",
       "   'crs_transform': [30, 0, 638685, 0, -30, 3948315]},\n",
       "  {'id': 'SR_B5',\n",
       "   'data_type': {'type': 'PixelType',\n",
       "    'precision': 'int',\n",
       "    'min': 0,\n",
       "    'max': 65535},\n",
       "   'dimensions': [7561, 7701],\n",
       "   'crs': 'EPSG:32642',\n",
       "   'crs_transform': [30, 0, 638685, 0, -30, 3948315]},\n",
       "  {'id': 'SR_B6',\n",
       "   'data_type': {'type': 'PixelType',\n",
       "    'precision': 'int',\n",
       "    'min': 0,\n",
       "    'max': 65535},\n",
       "   'dimensions': [7561, 7701],\n",
       "   'crs': 'EPSG:32642',\n",
       "   'crs_transform': [30, 0, 638685, 0, -30, 3948315]},\n",
       "  {'id': 'SR_B7',\n",
       "   'data_type': {'type': 'PixelType',\n",
       "    'precision': 'int',\n",
       "    'min': 0,\n",
       "    'max': 65535},\n",
       "   'dimensions': [7561, 7701],\n",
       "   'crs': 'EPSG:32642',\n",
       "   'crs_transform': [30, 0, 638685, 0, -30, 3948315]},\n",
       "  {'id': 'SR_QA_AEROSOL',\n",
       "   'data_type': {'type': 'PixelType',\n",
       "    'precision': 'int',\n",
       "    'min': 0,\n",
       "    'max': 255},\n",
       "   'dimensions': [7561, 7701],\n",
       "   'crs': 'EPSG:32642',\n",
       "   'crs_transform': [30, 0, 638685, 0, -30, 3948315]},\n",
       "  {'id': 'ST_B10',\n",
       "   'data_type': {'type': 'PixelType',\n",
       "    'precision': 'int',\n",
       "    'min': 0,\n",
       "    'max': 65535},\n",
       "   'dimensions': [7561, 7701],\n",
       "   'crs': 'EPSG:32642',\n",
       "   'crs_transform': [30, 0, 638685, 0, -30, 3948315]},\n",
       "  {'id': 'ST_ATRAN',\n",
       "   'data_type': {'type': 'PixelType',\n",
       "    'precision': 'int',\n",
       "    'min': -32768,\n",
       "    'max': 32767},\n",
       "   'dimensions': [7561, 7701],\n",
       "   'crs': 'EPSG:32642',\n",
       "   'crs_transform': [30, 0, 638685, 0, -30, 3948315]},\n",
       "  {'id': 'ST_CDIST',\n",
       "   'data_type': {'type': 'PixelType',\n",
       "    'precision': 'int',\n",
       "    'min': -32768,\n",
       "    'max': 32767},\n",
       "   'dimensions': [7561, 7701],\n",
       "   'crs': 'EPSG:32642',\n",
       "   'crs_transform': [30, 0, 638685, 0, -30, 3948315]},\n",
       "  {'id': 'ST_DRAD',\n",
       "   'data_type': {'type': 'PixelType',\n",
       "    'precision': 'int',\n",
       "    'min': -32768,\n",
       "    'max': 32767},\n",
       "   'dimensions': [7561, 7701],\n",
       "   'crs': 'EPSG:32642',\n",
       "   'crs_transform': [30, 0, 638685, 0, -30, 3948315]},\n",
       "  {'id': 'ST_EMIS',\n",
       "   'data_type': {'type': 'PixelType',\n",
       "    'precision': 'int',\n",
       "    'min': -32768,\n",
       "    'max': 32767},\n",
       "   'dimensions': [7561, 7701],\n",
       "   'crs': 'EPSG:32642',\n",
       "   'crs_transform': [30, 0, 638685, 0, -30, 3948315]},\n",
       "  {'id': 'ST_EMSD',\n",
       "   'data_type': {'type': 'PixelType',\n",
       "    'precision': 'int',\n",
       "    'min': -32768,\n",
       "    'max': 32767},\n",
       "   'dimensions': [7561, 7701],\n",
       "   'crs': 'EPSG:32642',\n",
       "   'crs_transform': [30, 0, 638685, 0, -30, 3948315]},\n",
       "  {'id': 'ST_QA',\n",
       "   'data_type': {'type': 'PixelType',\n",
       "    'precision': 'int',\n",
       "    'min': -32768,\n",
       "    'max': 32767},\n",
       "   'dimensions': [7561, 7701],\n",
       "   'crs': 'EPSG:32642',\n",
       "   'crs_transform': [30, 0, 638685, 0, -30, 3948315]},\n",
       "  {'id': 'ST_TRAD',\n",
       "   'data_type': {'type': 'PixelType',\n",
       "    'precision': 'int',\n",
       "    'min': -32768,\n",
       "    'max': 32767},\n",
       "   'dimensions': [7561, 7701],\n",
       "   'crs': 'EPSG:32642',\n",
       "   'crs_transform': [30, 0, 638685, 0, -30, 3948315]},\n",
       "  {'id': 'ST_URAD',\n",
       "   'data_type': {'type': 'PixelType',\n",
       "    'precision': 'int',\n",
       "    'min': -32768,\n",
       "    'max': 32767},\n",
       "   'dimensions': [7561, 7701],\n",
       "   'crs': 'EPSG:32642',\n",
       "   'crs_transform': [30, 0, 638685, 0, -30, 3948315]},\n",
       "  {'id': 'QA_PIXEL',\n",
       "   'data_type': {'type': 'PixelType',\n",
       "    'precision': 'int',\n",
       "    'min': 0,\n",
       "    'max': 65535},\n",
       "   'dimensions': [7561, 7701],\n",
       "   'crs': 'EPSG:32642',\n",
       "   'crs_transform': [30, 0, 638685, 0, -30, 3948315]},\n",
       "  {'id': 'QA_RADSAT',\n",
       "   'data_type': {'type': 'PixelType',\n",
       "    'precision': 'int',\n",
       "    'min': 0,\n",
       "    'max': 65535},\n",
       "   'dimensions': [7561, 7701],\n",
       "   'crs': 'EPSG:32642',\n",
       "   'crs_transform': [30, 0, 638685, 0, -30, 3948315]},\n",
       "  {'id': 'NDVI',\n",
       "   'data_type': {'type': 'PixelType',\n",
       "    'precision': 'float',\n",
       "    'min': -1,\n",
       "    'max': 1},\n",
       "   'dimensions': [7561, 7701],\n",
       "   'crs': 'EPSG:32642',\n",
       "   'crs_transform': [30, 0, 638685, 0, -30, 3948315]}],\n",
       " 'version': 1629941565398040.0,\n",
       " 'id': 'LANDSAT/LC08/C02/T1_L2/LC08_151036_20200128',\n",
       " 'properties': {'DATA_SOURCE_ELEVATION': 'GLS2000',\n",
       "  'WRS_TYPE': 2,\n",
       "  'REFLECTANCE_ADD_BAND_1': -0.2,\n",
       "  'REFLECTANCE_ADD_BAND_2': -0.2,\n",
       "  'DATUM': 'WGS84',\n",
       "  'REFLECTANCE_ADD_BAND_3': -0.2,\n",
       "  'REFLECTANCE_ADD_BAND_4': -0.2,\n",
       "  'REFLECTANCE_ADD_BAND_5': -0.2,\n",
       "  'REFLECTANCE_ADD_BAND_6': -0.2,\n",
       "  'REFLECTANCE_ADD_BAND_7': -0.2,\n",
       "  'system:footprint': {'type': 'LinearRing',\n",
       "   'coordinates': [[70.57122539076052, 34.13210773550963],\n",
       "    [70.55948470108822, 34.0865553775923],\n",
       "    [70.54087500336988, 34.0104996352159],\n",
       "    [70.52236131279385, 33.93424427048704],\n",
       "    [70.99109750879448, 33.84601341084323],\n",
       "    [72.47434129184843, 33.55393964230099],\n",
       "    [72.51779220316365, 33.70340081745655],\n",
       "    [72.6048025407759, 34.00256057781383],\n",
       "    [72.8107627655316, 34.70497422750995],\n",
       "    [72.90802317094087, 35.03363413516702],\n",
       "    [72.93034327517834, 35.11156043023265],\n",
       "    [72.97562017178673, 35.277455546656924],\n",
       "    [70.98974798259752, 35.65688268856682],\n",
       "    [70.9778417637651, 35.617910818989856],\n",
       "    [70.94829339305201, 35.5165180131817],\n",
       "    [70.79153216909955, 34.951689183680486],\n",
       "    [70.69347914138251, 34.591177928905736],\n",
       "    [70.64129376143721, 34.39745971293752],\n",
       "    [70.5932391467739, 34.21602537267768],\n",
       "    [70.57122539076052, 34.13210773550963]]},\n",
       "  'REFLECTIVE_SAMPLES': 7561,\n",
       "  'GROUND_CONTROL_POINTS_VERSION': 5,\n",
       "  'SUN_AZIMUTH': 152.41357132,\n",
       "  'DATA_SOURCE_TIRS_STRAY_LIGHT_CORRECTION': 'TIRS',\n",
       "  'UTM_ZONE': 42,\n",
       "  'DATE_ACQUIRED': '2020-01-28',\n",
       "  'ELLIPSOID': 'WGS84',\n",
       "  'system:time_end': 1580190496308,\n",
       "  'DATA_SOURCE_PRESSURE': 'Calculated',\n",
       "  'LANDSAT_PRODUCT_ID': 'LC08_L2SP_151036_20200128_20200823_02_T1',\n",
       "  'STATION_ID': 'LGN',\n",
       "  'TEMPERATURE_ADD_BAND_ST_B10': 149,\n",
       "  'DATA_SOURCE_REANALYSIS': 'GEOS-5 FP-IT',\n",
       "  'REFLECTANCE_MULT_BAND_7': 2.75e-05,\n",
       "  'system:time_start': 1580190496308,\n",
       "  'REFLECTANCE_MULT_BAND_6': 2.75e-05,\n",
       "  'L1_PROCESSING_LEVEL': 'L1TP',\n",
       "  'PROCESSING_SOFTWARE_VERSION': 'LPGS_15.3.1c',\n",
       "  'L1_DATE_PRODUCT_GENERATED': '2020-08-23T13:53:31Z',\n",
       "  'ORIENTATION': 'NORTH_UP',\n",
       "  'REFLECTANCE_MULT_BAND_1': 2.75e-05,\n",
       "  'WRS_ROW': 36,\n",
       "  'REFLECTANCE_MULT_BAND_3': 2.75e-05,\n",
       "  'REFLECTANCE_MULT_BAND_2': 2.75e-05,\n",
       "  'TARGET_WRS_ROW': 36,\n",
       "  'REFLECTANCE_MULT_BAND_5': 2.75e-05,\n",
       "  'REFLECTANCE_MULT_BAND_4': 2.75e-05,\n",
       "  'THERMAL_LINES': 7701,\n",
       "  'TIRS_SSM_POSITION_STATUS': 'ESTIMATED',\n",
       "  'GRID_CELL_SIZE_THERMAL': 30,\n",
       "  'IMAGE_QUALITY_TIRS': 9,\n",
       "  'TRUNCATION_OLI': 'UPPER',\n",
       "  'NADIR_OFFNADIR': 'NADIR',\n",
       "  'CLOUD_COVER': 56.23,\n",
       "  'REQUEST_ID': 'L2',\n",
       "  'EARTH_SUN_DISTANCE': 0.984737,\n",
       "  'GEOMETRIC_RMSE_VERIFY': 7.081,\n",
       "  'TIRS_SSM_MODEL': 'FINAL',\n",
       "  'COLLECTION_CATEGORY': 'T1',\n",
       "  'SCENE_CENTER_TIME': '05:48:16.3089000Z',\n",
       "  'GRID_CELL_SIZE_REFLECTIVE': 30,\n",
       "  'SUN_ELEVATION': 32.20623203,\n",
       "  'ALGORITHM_SOURCE_SURFACE_TEMPERATURE': 'st_1.3.0',\n",
       "  'TEMPERATURE_MAXIMUM_BAND_ST_B10': 372.999941,\n",
       "  'CLOUD_COVER_LAND': 56.23,\n",
       "  'GEOMETRIC_RMSE_MODEL': 7.803,\n",
       "  'ROLL_ANGLE': -0.001,\n",
       "  'COLLECTION_NUMBER': 2,\n",
       "  'DATE_PRODUCT_GENERATED': 1598191459000,\n",
       "  'L1_REQUEST_ID': 'L2',\n",
       "  'DATA_SOURCE_OZONE': 'MODIS',\n",
       "  'SATURATION_BAND_1': 'N',\n",
       "  'DATA_SOURCE_WATER_VAPOR': 'MODIS',\n",
       "  'SATURATION_BAND_2': 'N',\n",
       "  'SATURATION_BAND_3': 'N',\n",
       "  'IMAGE_QUALITY_OLI': 9,\n",
       "  'SATURATION_BAND_4': 'N',\n",
       "  'LANDSAT_SCENE_ID': 'LC81510362020028LGN00',\n",
       "  'SATURATION_BAND_5': 'N',\n",
       "  'MAP_PROJECTION': 'UTM',\n",
       "  'SATURATION_BAND_6': 'N',\n",
       "  'SENSOR_ID': 'OLI_TIRS',\n",
       "  'SATURATION_BAND_7': 'Y',\n",
       "  'SATURATION_BAND_8': 'N',\n",
       "  'WRS_PATH': 151,\n",
       "  'SATURATION_BAND_9': 'N',\n",
       "  'TARGET_WRS_PATH': 151,\n",
       "  'L1_PROCESSING_SOFTWARE_VERSION': 'LPGS_15.3.1c',\n",
       "  'TEMPERATURE_MULT_BAND_ST_B10': 0.00341802,\n",
       "  'L1_LANDSAT_PRODUCT_ID': 'LC08_L1TP_151036_20200128_20200823_02_T1',\n",
       "  'PROCESSING_LEVEL': 'L2SP',\n",
       "  'ALGORITHM_SOURCE_SURFACE_REFLECTANCE': 'LaSRC_1.5.0',\n",
       "  'GROUND_CONTROL_POINTS_MODEL': 488,\n",
       "  'SPACECRAFT_ID': 'LANDSAT_8',\n",
       "  'TEMPERATURE_MINIMUM_BAND_ST_B10': 149.003418,\n",
       "  'GEOMETRIC_RMSE_MODEL_Y': 5.471,\n",
       "  'REFLECTIVE_LINES': 7701,\n",
       "  'GEOMETRIC_RMSE_MODEL_X': 5.563,\n",
       "  'THERMAL_SAMPLES': 7561,\n",
       "  'system:asset_size': 1012328502,\n",
       "  'DATA_SOURCE_AIR_TEMPERATURE': 'MODIS',\n",
       "  'GROUND_CONTROL_POINTS_VERIFY': 189,\n",
       "  'system:index': 'LC08_151036_20200128'}}"
      ]
     },
     "execution_count": 53,
     "metadata": {},
     "output_type": "execute_result"
    }
   ],
   "source": [
    "# Quickly check the first image\n",
    "image_collection.first().getInfo()"
   ]
  },
  {
   "cell_type": "code",
   "execution_count": 54,
   "id": "b3f5b919-9858-4d9b-bb0e-dbb03d884ede",
   "metadata": {},
   "outputs": [],
   "source": [
    "# Function to calculate monthly mean from all images\n",
    "def monthly_median_ndvi(year, month):\n",
    "    start = ee.Date.fromYMD(year, month, 1)\n",
    "    end = start.advance(1, 'month')\n",
    "    \n",
    "    # Filter images in the given month and calculate the median NDVI\n",
    "    monthly_ndvi = image_collection.filterDate(start, end).select('NDVI').median()\n",
    "    \n",
    "    return monthly_ndvi.set('system:time_start', start.millis())"
   ]
  },
  {
   "cell_type": "code",
   "execution_count": 55,
   "id": "86469417-5ba1-49be-a8e4-952426852461",
   "metadata": {},
   "outputs": [
    {
     "data": {
      "text/plain": [
       "<ee.imagecollection.ImageCollection at 0xfffec896bf10>"
      ]
     },
     "execution_count": 55,
     "metadata": {},
     "output_type": "execute_result"
    }
   ],
   "source": [
    "# Generate monthly composites\n",
    "monthly_ndvi_composites = ee.ImageCollection([monthly_median_ndvi(2020, month) for month in range(1, 13)])\n",
    "monthly_ndvi_composites"
   ]
  },
  {
   "cell_type": "code",
   "execution_count": 56,
   "id": "149300b7-964d-487f-adce-54550f345464",
   "metadata": {},
   "outputs": [],
   "source": [
    "# Visualize the monthyl NDVIs on map\n",
    "ndvi_vis_params = {\n",
    "    'min': 0.0,\n",
    "    'max': 1.0,\n",
    "    'palette': ['blue', 'white', 'green']\n",
    "}\n",
    "\n",
    "# Add each monthly NDVI composite to the map\n",
    "for month in range(1, 13):\n",
    "    ndvi_image = monthly_ndvi_composites.filter(ee.Filter.calendarRange(month, month, 'month')).first()\n",
    "    Map.addLayer(ndvi_image, ndvi_vis_params, f'Month {month} - NDVI Median Composite')"
   ]
  },
  {
   "cell_type": "code",
   "execution_count": 57,
   "id": "f01e8b28-1f65-4e96-b312-e97b10896c11",
   "metadata": {},
   "outputs": [
    {
     "data": {
      "application/vnd.jupyter.widget-view+json": {
       "model_id": "45caf269662f45ad9cb56283029aae8e",
       "version_major": 2,
       "version_minor": 0
      },
      "text/plain": [
       "Map(bottom=1673508.0, center=[34.16239, 71.755005], controls=(WidgetControl(options=['position', 'transparent_…"
      ]
     },
     "metadata": {},
     "output_type": "display_data"
    }
   ],
   "source": [
    "Map"
   ]
  },
  {
   "cell_type": "code",
   "execution_count": 58,
   "id": "d08b1709-ce4d-437d-a213-1a103db754f8",
   "metadata": {},
   "outputs": [
    {
     "data": {
      "text/plain": [
       "[[[70.52236131279385, 33.55393964230097],\n",
       "  [72.97562017178673, 33.55393964230097],\n",
       "  [72.97562017178673, 35.656882688566846],\n",
       "  [70.52236131279385, 35.656882688566846],\n",
       "  [70.52236131279385, 33.55393964230097]]]"
      ]
     },
     "execution_count": 58,
     "metadata": {},
     "output_type": "execute_result"
    }
   ],
   "source": [
    "# Compute the region boundary, in this case the bounds of the landsat image\n",
    "region = image_collection.first().geometry().bounds()\n",
    "region.coordinates().getInfo()"
   ]
  },
  {
   "cell_type": "code",
   "execution_count": 59,
   "id": "39081d94-3254-4a3a-8e04-89dc113e8175",
   "metadata": {},
   "outputs": [],
   "source": [
    "# Add it to the Map\n",
    "Map.addLayer(region)"
   ]
  },
  {
   "cell_type": "markdown",
   "id": "5255e625-d353-4429-8fe7-13b19b38d31b",
   "metadata": {},
   "source": [
    "### Get the elevation and precipitation datasets"
   ]
  },
  {
   "cell_type": "code",
   "execution_count": 60,
   "id": "2837494b-f6f1-440f-a51c-c99bb87ca8fc",
   "metadata": {},
   "outputs": [],
   "source": [
    "# Select the elevation dataset\n",
    "elevation = ee.Image('USGS/SRTMGL1_003').select('elevation')\n",
    "\n",
    "Map.addLayer(elevation, {min: 10, max: 5000}, 'Elevation')"
   ]
  },
  {
   "cell_type": "code",
   "execution_count": 61,
   "id": "a01f247b-c84b-4260-8af9-151fd601ad59",
   "metadata": {},
   "outputs": [
    {
     "data": {
      "text/plain": [
       "{'type': 'Image',\n",
       " 'bands': [{'id': 'precipitation',\n",
       "   'data_type': {'type': 'PixelType', 'precision': 'float'},\n",
       "   'dimensions': [7200, 2000],\n",
       "   'crs': 'EPSG:4326',\n",
       "   'crs_transform': [0.05, 0, -180, 0, -0.05, 50]}],\n",
       " 'version': 1710264987660386,\n",
       " 'id': 'UCSB-CHG/CHIRPS/DAILY/20200101',\n",
       " 'properties': {'system:time_start': 1577836800000,\n",
       "  'system:footprint': {'type': 'LinearRing',\n",
       "   'coordinates': [[-180, -90],\n",
       "    [180, -90],\n",
       "    [180, 90],\n",
       "    [-180, 90],\n",
       "    [-180, -90]]},\n",
       "  'system:time_end': 1577923200000,\n",
       "  'system:asset_size': 4668072,\n",
       "  'system:index': '20200101'}}"
      ]
     },
     "execution_count": 61,
     "metadata": {},
     "output_type": "execute_result"
    }
   ],
   "source": [
    "\n",
    "precip = (ee.ImageCollection('UCSB-CHG/CHIRPS/DAILY')\n",
    "                  .filter(ee.Filter.date(start_date, end_date))).select('precipitation')\n",
    "precip.first().getInfo()"
   ]
  },
  {
   "cell_type": "code",
   "execution_count": 62,
   "id": "6774639f-e7af-450d-8cb9-ac35328e4777",
   "metadata": {},
   "outputs": [],
   "source": [
    "# Select the precipitation filtered by the dates\n",
    "precipitation = ee.ImageCollection('UCSB-CHG/CHIRPS/DAILY').filterBounds(point).filterDate(start_date, end_date)"
   ]
  },
  {
   "cell_type": "code",
   "execution_count": 63,
   "id": "9d7c6c55-cda9-433a-9ad5-551e0f4b5a20",
   "metadata": {},
   "outputs": [],
   "source": [
    "# Compute monthly precipitation from the dataset\n",
    "def monthly_precipitation(year, month):\n",
    "    start = ee.Date.fromYMD(year, month, 1)\n",
    "    end = start.advance(1, 'month')\n",
    "    \n",
    "    # Filter images within the month and sum the daily precipitation\n",
    "    monthly_precip = precipitation.filterDate(start, end).sum().rename('monthly_precipitation')\n",
    "    return monthly_precip.set('system:time_start', start.millis())"
   ]
  },
  {
   "cell_type": "code",
   "execution_count": 64,
   "id": "c7b247fd-3cce-4c60-b448-ff7730eacc14",
   "metadata": {},
   "outputs": [],
   "source": [
    "# Generate monthly precipitation composites\n",
    "monthly_precipitation_composites = ee.ImageCollection([monthly_precipitation(2020, month) for month in range(1, 13)])"
   ]
  },
  {
   "cell_type": "code",
   "execution_count": 65,
   "id": "4eed317b-1508-4cb1-b60b-f097594ce46e",
   "metadata": {},
   "outputs": [
    {
     "data": {
      "application/vnd.jupyter.widget-view+json": {
       "model_id": "45caf269662f45ad9cb56283029aae8e",
       "version_major": 2,
       "version_minor": 0
      },
      "text/plain": [
       "Map(bottom=1673508.0, center=[34.16239, 71.755005], controls=(WidgetControl(options=['position', 'transparent_…"
      ]
     },
     "metadata": {},
     "output_type": "display_data"
    }
   ],
   "source": [
    "# Add the precipitation data on the map\n",
    "precip_vis_params = {\n",
    "    'min': 0.0,\n",
    "    'max': 300.0, \n",
    "    'palette': ['blue', 'cyan', 'yellow', 'orange', 'red']\n",
    "}\n",
    "\n",
    "# Add each monthly precipitation layer to the map\n",
    "for month in range(1, 13):\n",
    "    precip_image = monthly_precipitation_composites.filter(ee.Filter.calendarRange(month, month, 'month')).first()\n",
    "    Map.addLayer(precip_image, precip_vis_params, f'Month {month} - Precipitation')\n",
    "\n",
    "Map"
   ]
  },
  {
   "cell_type": "markdown",
   "id": "743c9e24-6542-459e-8984-6c105b9d65c5",
   "metadata": {},
   "source": [
    "### Prepare dataset for sampling and modelling"
   ]
  },
  {
   "cell_type": "code",
   "execution_count": 66,
   "id": "e07de554-313d-498a-9215-2b0c16be6151",
   "metadata": {},
   "outputs": [
    {
     "data": {
      "text/plain": [
       "<ee.image.Image at 0xfffec88a8970>"
      ]
     },
     "execution_count": 66,
     "metadata": {},
     "output_type": "execute_result"
    }
   ],
   "source": [
    "# Generate annual NDVI so we have one NDVI for precipitaion of 23 months and elevation as predictor variables\n",
    "annual_median_ndvi = monthly_ndvi_composites.median()\n",
    "annual_median_ndvi"
   ]
  },
  {
   "cell_type": "code",
   "execution_count": 68,
   "id": "9d32d469-58fc-4caf-9517-afb01c6aa30b",
   "metadata": {},
   "outputs": [
    {
     "data": {
      "text/plain": [
       "<ee.image.Image at 0xfffec8b590a0>"
      ]
     },
     "execution_count": 68,
     "metadata": {},
     "output_type": "execute_result"
    }
   ],
   "source": [
    "# Stack the monthly precipitation to bands\n",
    "precip_stack = monthly_precipitation_composites.toBands()\n",
    "precip_stack"
   ]
  },
  {
   "cell_type": "code",
   "execution_count": 69,
   "id": "9ba29972-64c6-45e5-90e1-ce9a1c3a37d8",
   "metadata": {},
   "outputs": [],
   "source": [
    "# Add elevation to the stack\n",
    "precip_el_stack = precip_stack.addBands(elevation.rename('elevation'))\n",
    "\n",
    "# Add the NDVI to the stack\n",
    "combined_stack = precip_el_stack.addBands(annual_median_ndvi.rename('NDVI'))"
   ]
  },
  {
   "cell_type": "code",
   "execution_count": 71,
   "id": "a00d6dc1-f13e-4331-a6db-b1009dfada20",
   "metadata": {},
   "outputs": [
    {
     "data": {
      "application/vnd.jupyter.widget-view+json": {
       "model_id": "45caf269662f45ad9cb56283029aae8e",
       "version_major": 2,
       "version_minor": 0
      },
      "text/plain": [
       "Map(bottom=1673508.0, center=[34.16239, 71.755005], controls=(WidgetControl(options=['position', 'transparent_…"
      ]
     },
     "metadata": {},
     "output_type": "display_data"
    }
   ],
   "source": [
    "# Generate training samples\n",
    "training = combined_stack.sample(\n",
    "    **{\n",
    "        'region': region,\n",
    "        \"scale\": 30,\n",
    "        \"numPixels\": 5000,\n",
    "        \"seed\": 0,\n",
    "        \"geometries\": True,  # Set this to False to ignore geometries\n",
    "    }\n",
    ")\n",
    "\n",
    "Map.addLayer(training, {}, \"training\", False)\n",
    "Map"
   ]
  },
  {
   "cell_type": "code",
   "execution_count": 72,
   "id": "4684f530-e423-4ad3-9019-34b1b19d1a31",
   "metadata": {},
   "outputs": [
    {
     "data": {
      "text/plain": [
       "{'type': 'Feature',\n",
       " 'geometry': {'type': 'Point',\n",
       "  'coordinates': [71.747410492735, 34.37488529121087]},\n",
       " 'id': '0',\n",
       " 'properties': {'0_monthly_precipitation': 95.34018754959106,\n",
       "  '10_monthly_precipitation': 29.142422676086426,\n",
       "  '11_monthly_precipitation': 21.244751930236816,\n",
       "  '1_monthly_precipitation': 100.98373746871948,\n",
       "  '2_monthly_precipitation': 170.350905418396,\n",
       "  '3_monthly_precipitation': 206.16515469551086,\n",
       "  '4_monthly_precipitation': 60.28784454095876,\n",
       "  '5_monthly_precipitation': 21.725277423858643,\n",
       "  '6_monthly_precipitation': 23.60567331314087,\n",
       "  '7_monthly_precipitation': 58.27423572540283,\n",
       "  '8_monthly_precipitation': 57.78390955924988,\n",
       "  '9_monthly_precipitation': 7.722382601350546,\n",
       "  'NDVI': 0.1581745147705078,\n",
       "  'elevation': 411}}"
      ]
     },
     "execution_count": 72,
     "metadata": {},
     "output_type": "execute_result"
    }
   ],
   "source": [
    "training.first().getInfo()"
   ]
  },
  {
   "cell_type": "code",
   "execution_count": 73,
   "id": "53ba6194-b9a3-4962-ae92-c79e078319a3",
   "metadata": {},
   "outputs": [],
   "source": [
    "# Convert the training samples to a pandas dataframe\n",
    "import pandas as pd"
   ]
  },
  {
   "cell_type": "code",
   "execution_count": 74,
   "id": "1b6da84a-ff1c-437e-a2db-48e829e739ae",
   "metadata": {},
   "outputs": [],
   "source": [
    "data = training.getInfo()['features']\n",
    "data_dict = [feature['properties'] for feature in data]\n",
    "df = pd.DataFrame(data_dict)"
   ]
  },
  {
   "cell_type": "code",
   "execution_count": 75,
   "id": "f7747e49-a6dc-453f-9519-81e276c79540",
   "metadata": {},
   "outputs": [
    {
     "data": {
      "text/html": [
       "<div>\n",
       "<style scoped>\n",
       "    .dataframe tbody tr th:only-of-type {\n",
       "        vertical-align: middle;\n",
       "    }\n",
       "\n",
       "    .dataframe tbody tr th {\n",
       "        vertical-align: top;\n",
       "    }\n",
       "\n",
       "    .dataframe thead th {\n",
       "        text-align: right;\n",
       "    }\n",
       "</style>\n",
       "<table border=\"1\" class=\"dataframe\">\n",
       "  <thead>\n",
       "    <tr style=\"text-align: right;\">\n",
       "      <th></th>\n",
       "      <th>0_monthly_precipitation</th>\n",
       "      <th>10_monthly_precipitation</th>\n",
       "      <th>11_monthly_precipitation</th>\n",
       "      <th>1_monthly_precipitation</th>\n",
       "      <th>2_monthly_precipitation</th>\n",
       "      <th>3_monthly_precipitation</th>\n",
       "      <th>4_monthly_precipitation</th>\n",
       "      <th>5_monthly_precipitation</th>\n",
       "      <th>6_monthly_precipitation</th>\n",
       "      <th>7_monthly_precipitation</th>\n",
       "      <th>8_monthly_precipitation</th>\n",
       "      <th>9_monthly_precipitation</th>\n",
       "      <th>NDVI</th>\n",
       "      <th>elevation</th>\n",
       "    </tr>\n",
       "  </thead>\n",
       "  <tbody>\n",
       "    <tr>\n",
       "      <th>0</th>\n",
       "      <td>95.340188</td>\n",
       "      <td>29.142423</td>\n",
       "      <td>21.244752</td>\n",
       "      <td>100.983737</td>\n",
       "      <td>170.350905</td>\n",
       "      <td>206.165155</td>\n",
       "      <td>60.287845</td>\n",
       "      <td>21.725277</td>\n",
       "      <td>23.605673</td>\n",
       "      <td>58.274236</td>\n",
       "      <td>57.783910</td>\n",
       "      <td>7.722383</td>\n",
       "      <td>0.158175</td>\n",
       "      <td>411</td>\n",
       "    </tr>\n",
       "    <tr>\n",
       "      <th>1</th>\n",
       "      <td>141.011530</td>\n",
       "      <td>83.918355</td>\n",
       "      <td>38.706804</td>\n",
       "      <td>83.532030</td>\n",
       "      <td>278.383991</td>\n",
       "      <td>282.350147</td>\n",
       "      <td>83.759596</td>\n",
       "      <td>38.087345</td>\n",
       "      <td>258.087039</td>\n",
       "      <td>85.726021</td>\n",
       "      <td>134.248535</td>\n",
       "      <td>23.875978</td>\n",
       "      <td>0.227769</td>\n",
       "      <td>1442</td>\n",
       "    </tr>\n",
       "    <tr>\n",
       "      <th>2</th>\n",
       "      <td>67.492120</td>\n",
       "      <td>49.198615</td>\n",
       "      <td>25.696477</td>\n",
       "      <td>47.121884</td>\n",
       "      <td>146.260679</td>\n",
       "      <td>198.420641</td>\n",
       "      <td>112.644975</td>\n",
       "      <td>15.666552</td>\n",
       "      <td>91.514676</td>\n",
       "      <td>19.766538</td>\n",
       "      <td>104.969462</td>\n",
       "      <td>13.305455</td>\n",
       "      <td>0.128447</td>\n",
       "      <td>1386</td>\n",
       "    </tr>\n",
       "    <tr>\n",
       "      <th>3</th>\n",
       "      <td>68.950802</td>\n",
       "      <td>44.395090</td>\n",
       "      <td>24.308187</td>\n",
       "      <td>33.551166</td>\n",
       "      <td>143.458541</td>\n",
       "      <td>228.143675</td>\n",
       "      <td>75.967534</td>\n",
       "      <td>53.084773</td>\n",
       "      <td>114.469245</td>\n",
       "      <td>100.014429</td>\n",
       "      <td>256.994081</td>\n",
       "      <td>5.290262</td>\n",
       "      <td>0.061046</td>\n",
       "      <td>2669</td>\n",
       "    </tr>\n",
       "    <tr>\n",
       "      <th>4</th>\n",
       "      <td>90.338189</td>\n",
       "      <td>61.674423</td>\n",
       "      <td>39.830410</td>\n",
       "      <td>66.271455</td>\n",
       "      <td>243.979823</td>\n",
       "      <td>239.980920</td>\n",
       "      <td>60.655208</td>\n",
       "      <td>39.640158</td>\n",
       "      <td>179.491253</td>\n",
       "      <td>100.986557</td>\n",
       "      <td>145.071060</td>\n",
       "      <td>25.419806</td>\n",
       "      <td>0.196031</td>\n",
       "      <td>1199</td>\n",
       "    </tr>\n",
       "    <tr>\n",
       "      <th>...</th>\n",
       "      <td>...</td>\n",
       "      <td>...</td>\n",
       "      <td>...</td>\n",
       "      <td>...</td>\n",
       "      <td>...</td>\n",
       "      <td>...</td>\n",
       "      <td>...</td>\n",
       "      <td>...</td>\n",
       "      <td>...</td>\n",
       "      <td>...</td>\n",
       "      <td>...</td>\n",
       "      <td>...</td>\n",
       "      <td>...</td>\n",
       "      <td>...</td>\n",
       "    </tr>\n",
       "    <tr>\n",
       "      <th>3522</th>\n",
       "      <td>81.167246</td>\n",
       "      <td>49.301723</td>\n",
       "      <td>14.779800</td>\n",
       "      <td>58.073355</td>\n",
       "      <td>144.287837</td>\n",
       "      <td>177.248507</td>\n",
       "      <td>39.085194</td>\n",
       "      <td>17.654768</td>\n",
       "      <td>15.573502</td>\n",
       "      <td>22.465552</td>\n",
       "      <td>54.138325</td>\n",
       "      <td>9.037371</td>\n",
       "      <td>0.216952</td>\n",
       "      <td>1791</td>\n",
       "    </tr>\n",
       "    <tr>\n",
       "      <th>3523</th>\n",
       "      <td>70.060311</td>\n",
       "      <td>35.484322</td>\n",
       "      <td>15.276512</td>\n",
       "      <td>64.897587</td>\n",
       "      <td>167.302860</td>\n",
       "      <td>154.370913</td>\n",
       "      <td>50.373299</td>\n",
       "      <td>15.136239</td>\n",
       "      <td>11.198898</td>\n",
       "      <td>37.632156</td>\n",
       "      <td>26.782185</td>\n",
       "      <td>7.113817</td>\n",
       "      <td>0.114563</td>\n",
       "      <td>417</td>\n",
       "    </tr>\n",
       "    <tr>\n",
       "      <th>3524</th>\n",
       "      <td>64.398317</td>\n",
       "      <td>46.986526</td>\n",
       "      <td>36.254935</td>\n",
       "      <td>59.731375</td>\n",
       "      <td>184.551050</td>\n",
       "      <td>124.171856</td>\n",
       "      <td>66.089892</td>\n",
       "      <td>35.171061</td>\n",
       "      <td>42.888556</td>\n",
       "      <td>92.685954</td>\n",
       "      <td>71.007451</td>\n",
       "      <td>2.581240</td>\n",
       "      <td>0.141103</td>\n",
       "      <td>1088</td>\n",
       "    </tr>\n",
       "    <tr>\n",
       "      <th>3525</th>\n",
       "      <td>65.586147</td>\n",
       "      <td>60.689449</td>\n",
       "      <td>37.937573</td>\n",
       "      <td>38.748876</td>\n",
       "      <td>177.838769</td>\n",
       "      <td>138.086676</td>\n",
       "      <td>75.174569</td>\n",
       "      <td>43.696834</td>\n",
       "      <td>65.445966</td>\n",
       "      <td>132.273859</td>\n",
       "      <td>103.139542</td>\n",
       "      <td>9.166960</td>\n",
       "      <td>0.247359</td>\n",
       "      <td>2067</td>\n",
       "    </tr>\n",
       "    <tr>\n",
       "      <th>3526</th>\n",
       "      <td>104.988253</td>\n",
       "      <td>137.326109</td>\n",
       "      <td>60.455293</td>\n",
       "      <td>65.148340</td>\n",
       "      <td>242.799659</td>\n",
       "      <td>313.578709</td>\n",
       "      <td>83.946458</td>\n",
       "      <td>36.006030</td>\n",
       "      <td>182.722312</td>\n",
       "      <td>40.265406</td>\n",
       "      <td>128.559568</td>\n",
       "      <td>25.371119</td>\n",
       "      <td>0.041739</td>\n",
       "      <td>3765</td>\n",
       "    </tr>\n",
       "  </tbody>\n",
       "</table>\n",
       "<p>3527 rows × 14 columns</p>\n",
       "</div>"
      ],
      "text/plain": [
       "      0_monthly_precipitation  10_monthly_precipitation  \\\n",
       "0                   95.340188                 29.142423   \n",
       "1                  141.011530                 83.918355   \n",
       "2                   67.492120                 49.198615   \n",
       "3                   68.950802                 44.395090   \n",
       "4                   90.338189                 61.674423   \n",
       "...                       ...                       ...   \n",
       "3522                81.167246                 49.301723   \n",
       "3523                70.060311                 35.484322   \n",
       "3524                64.398317                 46.986526   \n",
       "3525                65.586147                 60.689449   \n",
       "3526               104.988253                137.326109   \n",
       "\n",
       "      11_monthly_precipitation  1_monthly_precipitation  \\\n",
       "0                    21.244752               100.983737   \n",
       "1                    38.706804                83.532030   \n",
       "2                    25.696477                47.121884   \n",
       "3                    24.308187                33.551166   \n",
       "4                    39.830410                66.271455   \n",
       "...                        ...                      ...   \n",
       "3522                 14.779800                58.073355   \n",
       "3523                 15.276512                64.897587   \n",
       "3524                 36.254935                59.731375   \n",
       "3525                 37.937573                38.748876   \n",
       "3526                 60.455293                65.148340   \n",
       "\n",
       "      2_monthly_precipitation  3_monthly_precipitation  \\\n",
       "0                  170.350905               206.165155   \n",
       "1                  278.383991               282.350147   \n",
       "2                  146.260679               198.420641   \n",
       "3                  143.458541               228.143675   \n",
       "4                  243.979823               239.980920   \n",
       "...                       ...                      ...   \n",
       "3522               144.287837               177.248507   \n",
       "3523               167.302860               154.370913   \n",
       "3524               184.551050               124.171856   \n",
       "3525               177.838769               138.086676   \n",
       "3526               242.799659               313.578709   \n",
       "\n",
       "      4_monthly_precipitation  5_monthly_precipitation  \\\n",
       "0                   60.287845                21.725277   \n",
       "1                   83.759596                38.087345   \n",
       "2                  112.644975                15.666552   \n",
       "3                   75.967534                53.084773   \n",
       "4                   60.655208                39.640158   \n",
       "...                       ...                      ...   \n",
       "3522                39.085194                17.654768   \n",
       "3523                50.373299                15.136239   \n",
       "3524                66.089892                35.171061   \n",
       "3525                75.174569                43.696834   \n",
       "3526                83.946458                36.006030   \n",
       "\n",
       "      6_monthly_precipitation  7_monthly_precipitation  \\\n",
       "0                   23.605673                58.274236   \n",
       "1                  258.087039                85.726021   \n",
       "2                   91.514676                19.766538   \n",
       "3                  114.469245               100.014429   \n",
       "4                  179.491253               100.986557   \n",
       "...                       ...                      ...   \n",
       "3522                15.573502                22.465552   \n",
       "3523                11.198898                37.632156   \n",
       "3524                42.888556                92.685954   \n",
       "3525                65.445966               132.273859   \n",
       "3526               182.722312                40.265406   \n",
       "\n",
       "      8_monthly_precipitation  9_monthly_precipitation      NDVI  elevation  \n",
       "0                   57.783910                 7.722383  0.158175        411  \n",
       "1                  134.248535                23.875978  0.227769       1442  \n",
       "2                  104.969462                13.305455  0.128447       1386  \n",
       "3                  256.994081                 5.290262  0.061046       2669  \n",
       "4                  145.071060                25.419806  0.196031       1199  \n",
       "...                       ...                      ...       ...        ...  \n",
       "3522                54.138325                 9.037371  0.216952       1791  \n",
       "3523                26.782185                 7.113817  0.114563        417  \n",
       "3524                71.007451                 2.581240  0.141103       1088  \n",
       "3525               103.139542                 9.166960  0.247359       2067  \n",
       "3526               128.559568                25.371119  0.041739       3765  \n",
       "\n",
       "[3527 rows x 14 columns]"
      ]
     },
     "execution_count": 75,
     "metadata": {},
     "output_type": "execute_result"
    }
   ],
   "source": [
    "df"
   ]
  },
  {
   "cell_type": "code",
   "execution_count": 76,
   "id": "d3ddbf66-cf7d-4829-961f-c099637c0e0e",
   "metadata": {},
   "outputs": [],
   "source": [
    "# Save the data to a csv file\n",
    "df.to_csv('Training.csv', index=False)"
   ]
  },
  {
   "cell_type": "markdown",
   "id": "206b27c1-48d8-4c64-8b67-15e571de610a",
   "metadata": {},
   "source": [
    "### Train the model, in this case regression model"
   ]
  },
  {
   "cell_type": "code",
   "execution_count": 32,
   "id": "700735c6-0ea0-4b04-8c12-adf0fdb98f4f",
   "metadata": {},
   "outputs": [],
   "source": [
    "from sklearn.model_selection import train_test_split\n",
    "from sklearn.linear_model import LinearRegression\n",
    "from sklearn.metrics import mean_squared_error, r2_score"
   ]
  },
  {
   "cell_type": "code",
   "execution_count": 77,
   "id": "1f41c48a-94af-4a38-9313-0b9fb95bd7c2",
   "metadata": {},
   "outputs": [],
   "source": [
    "# Drop any null values\n",
    "df = df.dropna(subset=['NDVI', 'elevation', '0_monthly_precipitation', '10_monthly_precipitation', '11_monthly_precipitation', '1_monthly_precipitation', '2_monthly_precipitation', '3_monthly_precipitation', '4_monthly_precipitation', '5_monthly_precipitation', '6_monthly_precipitation', '7_monthly_precipitation', '8_monthly_precipitation', '9_monthly_precipitation'])"
   ]
  },
  {
   "cell_type": "code",
   "execution_count": 78,
   "id": "66629183-1cfd-4b2f-8af6-6fd2903b3ef1",
   "metadata": {},
   "outputs": [],
   "source": [
    "# Define predictor and target variables for training\n",
    "X = df[['elevation', '0_monthly_precipitation', '10_monthly_precipitation', '11_monthly_precipitation', '1_monthly_precipitation', '2_monthly_precipitation', '3_monthly_precipitation', '4_monthly_precipitation', '5_monthly_precipitation', '6_monthly_precipitation', '7_monthly_precipitation', '8_monthly_precipitation', '9_monthly_precipitation']]  # Features\n",
    "y = df['NDVI']"
   ]
  },
  {
   "cell_type": "code",
   "execution_count": 79,
   "id": "9cbe9b22-325b-4c6e-b306-5449a6761273",
   "metadata": {},
   "outputs": [],
   "source": [
    "# Split the dataset into a ratio of 70/30 for training and testing\n",
    "X_train, X_test, y_train, y_test = train_test_split(X, y, test_size=0.3, random_state=42)"
   ]
  },
  {
   "cell_type": "code",
   "execution_count": 80,
   "id": "85cca32d-f140-4f90-ab18-07053ab101ad",
   "metadata": {},
   "outputs": [
    {
     "data": {
      "text/html": [
       "<style>#sk-container-id-1 {color: black;}#sk-container-id-1 pre{padding: 0;}#sk-container-id-1 div.sk-toggleable {background-color: white;}#sk-container-id-1 label.sk-toggleable__label {cursor: pointer;display: block;width: 100%;margin-bottom: 0;padding: 0.3em;box-sizing: border-box;text-align: center;}#sk-container-id-1 label.sk-toggleable__label-arrow:before {content: \"▸\";float: left;margin-right: 0.25em;color: #696969;}#sk-container-id-1 label.sk-toggleable__label-arrow:hover:before {color: black;}#sk-container-id-1 div.sk-estimator:hover label.sk-toggleable__label-arrow:before {color: black;}#sk-container-id-1 div.sk-toggleable__content {max-height: 0;max-width: 0;overflow: hidden;text-align: left;background-color: #f0f8ff;}#sk-container-id-1 div.sk-toggleable__content pre {margin: 0.2em;color: black;border-radius: 0.25em;background-color: #f0f8ff;}#sk-container-id-1 input.sk-toggleable__control:checked~div.sk-toggleable__content {max-height: 200px;max-width: 100%;overflow: auto;}#sk-container-id-1 input.sk-toggleable__control:checked~label.sk-toggleable__label-arrow:before {content: \"▾\";}#sk-container-id-1 div.sk-estimator input.sk-toggleable__control:checked~label.sk-toggleable__label {background-color: #d4ebff;}#sk-container-id-1 div.sk-label input.sk-toggleable__control:checked~label.sk-toggleable__label {background-color: #d4ebff;}#sk-container-id-1 input.sk-hidden--visually {border: 0;clip: rect(1px 1px 1px 1px);clip: rect(1px, 1px, 1px, 1px);height: 1px;margin: -1px;overflow: hidden;padding: 0;position: absolute;width: 1px;}#sk-container-id-1 div.sk-estimator {font-family: monospace;background-color: #f0f8ff;border: 1px dotted black;border-radius: 0.25em;box-sizing: border-box;margin-bottom: 0.5em;}#sk-container-id-1 div.sk-estimator:hover {background-color: #d4ebff;}#sk-container-id-1 div.sk-parallel-item::after {content: \"\";width: 100%;border-bottom: 1px solid gray;flex-grow: 1;}#sk-container-id-1 div.sk-label:hover label.sk-toggleable__label {background-color: #d4ebff;}#sk-container-id-1 div.sk-serial::before {content: \"\";position: absolute;border-left: 1px solid gray;box-sizing: border-box;top: 0;bottom: 0;left: 50%;z-index: 0;}#sk-container-id-1 div.sk-serial {display: flex;flex-direction: column;align-items: center;background-color: white;padding-right: 0.2em;padding-left: 0.2em;position: relative;}#sk-container-id-1 div.sk-item {position: relative;z-index: 1;}#sk-container-id-1 div.sk-parallel {display: flex;align-items: stretch;justify-content: center;background-color: white;position: relative;}#sk-container-id-1 div.sk-item::before, #sk-container-id-1 div.sk-parallel-item::before {content: \"\";position: absolute;border-left: 1px solid gray;box-sizing: border-box;top: 0;bottom: 0;left: 50%;z-index: -1;}#sk-container-id-1 div.sk-parallel-item {display: flex;flex-direction: column;z-index: 1;position: relative;background-color: white;}#sk-container-id-1 div.sk-parallel-item:first-child::after {align-self: flex-end;width: 50%;}#sk-container-id-1 div.sk-parallel-item:last-child::after {align-self: flex-start;width: 50%;}#sk-container-id-1 div.sk-parallel-item:only-child::after {width: 0;}#sk-container-id-1 div.sk-dashed-wrapped {border: 1px dashed gray;margin: 0 0.4em 0.5em 0.4em;box-sizing: border-box;padding-bottom: 0.4em;background-color: white;}#sk-container-id-1 div.sk-label label {font-family: monospace;font-weight: bold;display: inline-block;line-height: 1.2em;}#sk-container-id-1 div.sk-label-container {text-align: center;}#sk-container-id-1 div.sk-container {/* jupyter's `normalize.less` sets `[hidden] { display: none; }` but bootstrap.min.css set `[hidden] { display: none !important; }` so we also need the `!important` here to be able to override the default hidden behavior on the sphinx rendered scikit-learn.org. See: https://github.com/scikit-learn/scikit-learn/issues/21755 */display: inline-block !important;position: relative;}#sk-container-id-1 div.sk-text-repr-fallback {display: none;}</style><div id=\"sk-container-id-1\" class=\"sk-top-container\"><div class=\"sk-text-repr-fallback\"><pre>LinearRegression()</pre><b>In a Jupyter environment, please rerun this cell to show the HTML representation or trust the notebook. <br />On GitHub, the HTML representation is unable to render, please try loading this page with nbviewer.org.</b></div><div class=\"sk-container\" hidden><div class=\"sk-item\"><div class=\"sk-estimator sk-toggleable\"><input class=\"sk-toggleable__control sk-hidden--visually\" id=\"sk-estimator-id-1\" type=\"checkbox\" checked><label for=\"sk-estimator-id-1\" class=\"sk-toggleable__label sk-toggleable__label-arrow\">LinearRegression</label><div class=\"sk-toggleable__content\"><pre>LinearRegression()</pre></div></div></div></div></div>"
      ],
      "text/plain": [
       "LinearRegression()"
      ]
     },
     "execution_count": 80,
     "metadata": {},
     "output_type": "execute_result"
    }
   ],
   "source": [
    "# Train the model\n",
    "model = LinearRegression()\n",
    "model.fit(X_train, y_train)"
   ]
  },
  {
   "cell_type": "code",
   "execution_count": 81,
   "id": "d7e37bc4-4e47-4faa-91be-635b99705fe8",
   "metadata": {},
   "outputs": [],
   "source": [
    "# Make predictions\n",
    "y_pred = model.predict(X_test)"
   ]
  },
  {
   "cell_type": "code",
   "execution_count": null,
   "id": "fc69cfb1-05ba-4146-8583-b7bd0f57453c",
   "metadata": {},
   "outputs": [],
   "source": [
    "# Compute "
   ]
  }
 ],
 "metadata": {
  "kernelspec": {
   "display_name": "Python",
   "language": "python",
   "name": "python3"
  },
  "language_info": {
   "codemirror_mode": {
    "name": "ipython",
    "version": 3
   },
   "file_extension": ".py",
   "mimetype": "text/x-python",
   "name": "python",
   "nbconvert_exporter": "python",
   "pygments_lexer": "ipython3",
   "version": "3.8.10"
  }
 },
 "nbformat": 4,
 "nbformat_minor": 5
}
